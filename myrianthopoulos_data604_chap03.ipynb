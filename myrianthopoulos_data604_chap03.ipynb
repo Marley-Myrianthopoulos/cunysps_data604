{
  "cells": [
    {
      "cell_type": "markdown",
      "id": "signal-format",
      "metadata": {
        "id": "signal-format"
      },
      "source": [
        "# Iteration"
      ]
    },
    {
      "cell_type": "markdown",
      "id": "imported-table",
      "metadata": {
        "tags": [],
        "id": "imported-table"
      },
      "source": [
        "*Modeling and Simulation in Python*\n",
        "\n",
        "Copyright 2021 Allen Downey\n",
        "\n",
        "License: [Creative Commons Attribution-NonCommercial-ShareAlike 4.0 International](https://creativecommons.org/licenses/by-nc-sa/4.0/)"
      ]
    },
    {
      "cell_type": "code",
      "execution_count": null,
      "id": "electoral-turkey",
      "metadata": {
        "tags": [],
        "id": "electoral-turkey"
      },
      "outputs": [],
      "source": [
        "# install Pint if necessary\n",
        "\n",
        "try:\n",
        "    import pint\n",
        "except ImportError:\n",
        "    !pip install pint"
      ]
    },
    {
      "cell_type": "code",
      "execution_count": null,
      "id": "formal-context",
      "metadata": {
        "tags": [],
        "id": "formal-context"
      },
      "outputs": [],
      "source": [
        "# download modsim.py if necessary\n",
        "\n",
        "from os.path import basename, exists\n",
        "\n",
        "def download(url):\n",
        "    filename = basename(url)\n",
        "    if not exists(filename):\n",
        "        from urllib.request import urlretrieve\n",
        "        local, _ = urlretrieve(url, filename)\n",
        "        print('Downloaded ' + local)\n",
        "\n",
        "download('https://raw.githubusercontent.com/AllenDowney/' +\n",
        "         'ModSimPy/master/modsim.py')"
      ]
    },
    {
      "cell_type": "code",
      "execution_count": null,
      "id": "progressive-typing",
      "metadata": {
        "tags": [],
        "id": "progressive-typing"
      },
      "outputs": [],
      "source": [
        "# import functions from modsim\n",
        "\n",
        "from modsim import *"
      ]
    },
    {
      "cell_type": "markdown",
      "id": "coral-steering",
      "metadata": {
        "id": "coral-steering"
      },
      "source": [
        "To paraphrase two Georges, \"All models are wrong, but some models are\n",
        "more wrong than others.\" This chapter demonstrates the process we\n",
        "use to make models less wrong.\n",
        "\n",
        "As an example, we'll review the bike share model from the previous\n",
        "chapter, consider its strengths and weaknesses, and gradually improve\n",
        "it. We'll also see ways to use the model to understand the behavior of\n",
        "the system and evaluate designs intended to make it work better."
      ]
    },
    {
      "cell_type": "markdown",
      "id": "plastic-trigger",
      "metadata": {
        "id": "plastic-trigger"
      },
      "source": [
        "This chapter is available as a Jupyter notebook where you can read the text, run the code, and work on the exercises.\n",
        "Click here to access the notebooks: <https://allendowney.github.io/ModSimPy/>."
      ]
    },
    {
      "cell_type": "markdown",
      "id": "twelve-length",
      "metadata": {
        "id": "twelve-length"
      },
      "source": [
        "## Iterative Modeling\n",
        "\n",
        "The model we have so far is simple, but it is based on unrealistic\n",
        "assumptions. Before you go on, take a minute to review the model from\n",
        "the previous chapter. What assumptions is it based on? Make a list of\n",
        "ways this model might be unrealistic; that is, what are the differences between the model and the real world?\n",
        "\n",
        "Here are some of the differences on my list:\n",
        "\n",
        "-   In the model, a student is equally likely to arrive during any\n",
        "    one-minute period. In reality, this probability varies depending on time of day, day of the week, etc.\n",
        "\n",
        "-   The model does not account for travel time from one bike station to another.\n",
        "\n",
        "-   The model does not check whether a bike is available, so it's\n",
        "    possible for the number of bikes to be negative (as you might have\n",
        "    noticed in some of your simulations)."
      ]
    },
    {
      "cell_type": "markdown",
      "id": "sweet-heater",
      "metadata": {
        "id": "sweet-heater"
      },
      "source": [
        "Some of these modeling decisions are better than others. For example,\n",
        "the first assumption might be reasonable if we simulate the system for a short period of time, like one hour.\n",
        "\n",
        "The second assumption is not very realistic, but it might not affect the results very much, depending on what we use the model for.\n",
        "On the other hand, the third assumption seems more problematic.\n",
        "It is relatively easy to fix, though; in this chapter, we'll fix it.\n",
        "\n",
        "This process, starting with a simple model, identifying the most\n",
        "important problems, and making gradual improvements, is called\n",
        "*iterative modeling*.\n",
        "\n",
        "For any physical system, there are many possible models, based on\n",
        "different assumptions and simplifications. It often takes several\n",
        "iterations to develop a model that is good enough for the intended\n",
        "purpose, but no more complicated than necessary."
      ]
    },
    {
      "cell_type": "markdown",
      "id": "female-salem",
      "metadata": {
        "id": "female-salem"
      },
      "source": [
        "## More Than One State Object\n",
        "\n",
        "Before we go on, I want to make a few changes to the code from the\n",
        "previous chapter. First I'll generalize the functions we wrote so they\n",
        "take a `State` object as a parameter. Then, I'll make the code more\n",
        "readable by adding documentation.\n",
        "\n",
        "Here is one of the functions from the previous chapter, `bike_to_wellesley`:"
      ]
    },
    {
      "cell_type": "code",
      "execution_count": null,
      "id": "embedded-heavy",
      "metadata": {
        "id": "embedded-heavy"
      },
      "outputs": [],
      "source": [
        "def bike_to_wellesley():\n",
        "    bikeshare.olin -= 1\n",
        "    bikeshare.wellesley += 1"
      ]
    },
    {
      "cell_type": "markdown",
      "id": "artificial-remains",
      "metadata": {
        "id": "artificial-remains"
      },
      "source": [
        "When this function is called, it modifies `bikeshare`. As long as there\n",
        "is only one `State` object, that's fine, but what if there is more than\n",
        "one bike share system in the world? Or what if we want to run more than\n",
        "one simulation?\n",
        "\n",
        "This function would be more flexible if it took a `State` object as a\n",
        "parameter. Here's what that looks like:"
      ]
    },
    {
      "cell_type": "code",
      "execution_count": null,
      "id": "unusual-advancement",
      "metadata": {
        "id": "unusual-advancement"
      },
      "outputs": [],
      "source": [
        "def bike_to_wellesley(state):\n",
        "    state.olin -= 1\n",
        "    state.wellesley += 1"
      ]
    },
    {
      "cell_type": "markdown",
      "id": "serial-mortality",
      "metadata": {
        "id": "serial-mortality"
      },
      "source": [
        "The name of the parameter is `state`, rather than `bikeshare`, as a\n",
        "reminder that the value of `state` could be any `State` object, not just the one we called `bikeshare`.\n",
        "\n",
        "This version of `bike_to_wellesley` requires a `State` object as a\n",
        "parameter, so we have to provide one when we call it:"
      ]
    },
    {
      "cell_type": "code",
      "execution_count": null,
      "id": "packed-hungarian",
      "metadata": {
        "id": "packed-hungarian"
      },
      "outputs": [],
      "source": [
        "bikeshare = State(olin=10, wellesley=2)\n",
        "bike_to_wellesley(bikeshare)"
      ]
    },
    {
      "cell_type": "markdown",
      "id": "fewer-rhythm",
      "metadata": {
        "id": "fewer-rhythm"
      },
      "source": [
        "Again, the argument we provide gets assigned to the parameter, so this\n",
        "function call has the same effect as:\n",
        "\n",
        "```\n",
        "state = bikeshare\n",
        "state.olin -= 1\n",
        "state.wellesley += 1\n",
        "```\n",
        "\n",
        "Now we can create as many `State` objects as we want:"
      ]
    },
    {
      "cell_type": "code",
      "execution_count": null,
      "id": "right-assessment",
      "metadata": {
        "id": "right-assessment"
      },
      "outputs": [],
      "source": [
        "bikeshare1 = State(olin=10, wellesley=2)\n",
        "bikeshare2 = State(olin=2, wellesley=10)"
      ]
    },
    {
      "cell_type": "markdown",
      "id": "occupied-navigator",
      "metadata": {
        "id": "occupied-navigator"
      },
      "source": [
        "And update them independently:"
      ]
    },
    {
      "cell_type": "code",
      "execution_count": null,
      "id": "cleared-advocacy",
      "metadata": {
        "id": "cleared-advocacy"
      },
      "outputs": [],
      "source": [
        "bike_to_wellesley(bikeshare1)\n",
        "bike_to_wellesley(bikeshare2)"
      ]
    },
    {
      "cell_type": "markdown",
      "id": "brown-ferry",
      "metadata": {
        "id": "brown-ferry"
      },
      "source": [
        "Changes in `bikeshare1` do not affect `bikeshare2`, and vice versa. So\n",
        "we can simulate different bike share systems, or run multiple\n",
        "simulations of the same system."
      ]
    },
    {
      "cell_type": "markdown",
      "id": "magnetic-packing",
      "metadata": {
        "id": "magnetic-packing"
      },
      "source": [
        "## Documentation\n",
        "\n",
        "Another problem with the code we have so far is that it contains no\n",
        "*documentation*.\n",
        "Documentation is text we add to a program to help\n",
        "other programmers read and understand it. It has no effect on the\n",
        "program when it runs.\n",
        "\n",
        "There are two kinds of documentation, *docstrings* and *comments*:\n",
        "\n",
        "* A docstring is a string in triple quotes that appears at the beginning of a function.\n",
        "\n",
        "* A comment is a line of text that begins with a hash symbol, `#`.\n",
        "\n",
        "Here's a version of `bike_to_olin` with a docstring and a comment."
      ]
    },
    {
      "cell_type": "code",
      "execution_count": null,
      "id": "moral-parallel",
      "metadata": {
        "id": "moral-parallel"
      },
      "outputs": [],
      "source": [
        "def bike_to_olin(state):\n",
        "    \"\"\"Move one bike from Wellesley to Olin.\n",
        "\n",
        "    state: bikeshare State object\n",
        "    \"\"\"\n",
        "    # We decrease one state variable and increase the\n",
        "    # other so the total number of bikes is unchanged.\n",
        "    state.wellesley -= 1\n",
        "    state.olin += 1"
      ]
    },
    {
      "cell_type": "markdown",
      "id": "therapeutic-utility",
      "metadata": {
        "id": "therapeutic-utility"
      },
      "source": [
        "Docstrings follow a conventional format:\n",
        "\n",
        "-   The first line is a single sentence that describes what the function does.\n",
        "\n",
        "-   The following lines explain what the parameters are.\n",
        "\n",
        "A function's docstring should include the information someone needs to\n",
        "know to *use* the function; it should not include details about how the function works.\n",
        "\n",
        "Comments provide details about how the function works, especially if there is something that would not be obvious to someone reading the program."
      ]
    },
    {
      "cell_type": "markdown",
      "id": "american-clear",
      "metadata": {
        "id": "american-clear"
      },
      "source": [
        "## Negative Bikes\n",
        "\n",
        "The changes we've made so far improve the quality of the code, but we\n",
        "haven't done anything to improve the quality of the model. Let's do that now.\n",
        "\n",
        "Currently the simulation does not check whether a bike is available when a customer arrives, so the number of bikes at a location can be\n",
        "negative. That's not very realistic.\n",
        "\n",
        "Here's a version of `bike_to_olin` that fixes the problem:"
      ]
    },
    {
      "cell_type": "code",
      "execution_count": null,
      "id": "divine-leisure",
      "metadata": {
        "id": "divine-leisure"
      },
      "outputs": [],
      "source": [
        "def bike_to_olin(state):\n",
        "    if state.wellesley == 0:\n",
        "        return\n",
        "    state.wellesley -= 1\n",
        "    state.olin += 1"
      ]
    },
    {
      "cell_type": "markdown",
      "id": "decimal-denver",
      "metadata": {
        "id": "decimal-denver"
      },
      "source": [
        "The first line checks whether the number of bikes at Wellesley is zero. If so, it uses a *return statement*, which causes the function to end immediately, without running the rest of the statements. So if there are no bikes at Wellesley, we return from `bike_to_olin` without changing the state.\n",
        "\n",
        "We can test it by initializing the state with no bikes at Wellesley and calling `bike_to_olin`."
      ]
    },
    {
      "cell_type": "code",
      "execution_count": null,
      "id": "choice-cooking",
      "metadata": {
        "id": "choice-cooking"
      },
      "outputs": [],
      "source": [
        "bikeshare = State(olin=12, wellesley=0)\n",
        "bike_to_olin(bikeshare)"
      ]
    },
    {
      "cell_type": "markdown",
      "id": "persistent-denmark",
      "metadata": {
        "id": "persistent-denmark"
      },
      "source": [
        "The state of the system should be unchanged."
      ]
    },
    {
      "cell_type": "code",
      "execution_count": null,
      "id": "twelve-moderator",
      "metadata": {
        "id": "twelve-moderator",
        "colab": {
          "base_uri": "https://localhost:8080/",
          "height": 112
        },
        "outputId": "92c83a8a-6ea1-4570-c1dd-f2771676b098"
      },
      "outputs": [
        {
          "output_type": "execute_result",
          "data": {
            "text/plain": [
              "           state\n",
              "olin          12\n",
              "wellesley      0"
            ],
            "text/html": [
              "\n",
              "  <div id=\"df-40c59b10-2217-4e68-a712-613f8a3f61ee\" class=\"colab-df-container\">\n",
              "    <div>\n",
              "<style scoped>\n",
              "    .dataframe tbody tr th:only-of-type {\n",
              "        vertical-align: middle;\n",
              "    }\n",
              "\n",
              "    .dataframe tbody tr th {\n",
              "        vertical-align: top;\n",
              "    }\n",
              "\n",
              "    .dataframe thead th {\n",
              "        text-align: right;\n",
              "    }\n",
              "</style>\n",
              "<table border=\"1\" class=\"dataframe\">\n",
              "  <thead>\n",
              "    <tr style=\"text-align: right;\">\n",
              "      <th></th>\n",
              "      <th>state</th>\n",
              "    </tr>\n",
              "  </thead>\n",
              "  <tbody>\n",
              "    <tr>\n",
              "      <th>olin</th>\n",
              "      <td>12</td>\n",
              "    </tr>\n",
              "    <tr>\n",
              "      <th>wellesley</th>\n",
              "      <td>0</td>\n",
              "    </tr>\n",
              "  </tbody>\n",
              "</table>\n",
              "</div>\n",
              "    <div class=\"colab-df-buttons\">\n",
              "\n",
              "  <div class=\"colab-df-container\">\n",
              "    <button class=\"colab-df-convert\" onclick=\"convertToInteractive('df-40c59b10-2217-4e68-a712-613f8a3f61ee')\"\n",
              "            title=\"Convert this dataframe to an interactive table.\"\n",
              "            style=\"display:none;\">\n",
              "\n",
              "  <svg xmlns=\"http://www.w3.org/2000/svg\" height=\"24px\" viewBox=\"0 -960 960 960\">\n",
              "    <path d=\"M120-120v-720h720v720H120Zm60-500h600v-160H180v160Zm220 220h160v-160H400v160Zm0 220h160v-160H400v160ZM180-400h160v-160H180v160Zm440 0h160v-160H620v160ZM180-180h160v-160H180v160Zm440 0h160v-160H620v160Z\"/>\n",
              "  </svg>\n",
              "    </button>\n",
              "\n",
              "  <style>\n",
              "    .colab-df-container {\n",
              "      display:flex;\n",
              "      gap: 12px;\n",
              "    }\n",
              "\n",
              "    .colab-df-convert {\n",
              "      background-color: #E8F0FE;\n",
              "      border: none;\n",
              "      border-radius: 50%;\n",
              "      cursor: pointer;\n",
              "      display: none;\n",
              "      fill: #1967D2;\n",
              "      height: 32px;\n",
              "      padding: 0 0 0 0;\n",
              "      width: 32px;\n",
              "    }\n",
              "\n",
              "    .colab-df-convert:hover {\n",
              "      background-color: #E2EBFA;\n",
              "      box-shadow: 0px 1px 2px rgba(60, 64, 67, 0.3), 0px 1px 3px 1px rgba(60, 64, 67, 0.15);\n",
              "      fill: #174EA6;\n",
              "    }\n",
              "\n",
              "    .colab-df-buttons div {\n",
              "      margin-bottom: 4px;\n",
              "    }\n",
              "\n",
              "    [theme=dark] .colab-df-convert {\n",
              "      background-color: #3B4455;\n",
              "      fill: #D2E3FC;\n",
              "    }\n",
              "\n",
              "    [theme=dark] .colab-df-convert:hover {\n",
              "      background-color: #434B5C;\n",
              "      box-shadow: 0px 1px 3px 1px rgba(0, 0, 0, 0.15);\n",
              "      filter: drop-shadow(0px 1px 2px rgba(0, 0, 0, 0.3));\n",
              "      fill: #FFFFFF;\n",
              "    }\n",
              "  </style>\n",
              "\n",
              "    <script>\n",
              "      const buttonEl =\n",
              "        document.querySelector('#df-40c59b10-2217-4e68-a712-613f8a3f61ee button.colab-df-convert');\n",
              "      buttonEl.style.display =\n",
              "        google.colab.kernel.accessAllowed ? 'block' : 'none';\n",
              "\n",
              "      async function convertToInteractive(key) {\n",
              "        const element = document.querySelector('#df-40c59b10-2217-4e68-a712-613f8a3f61ee');\n",
              "        const dataTable =\n",
              "          await google.colab.kernel.invokeFunction('convertToInteractive',\n",
              "                                                    [key], {});\n",
              "        if (!dataTable) return;\n",
              "\n",
              "        const docLinkHtml = 'Like what you see? Visit the ' +\n",
              "          '<a target=\"_blank\" href=https://colab.research.google.com/notebooks/data_table.ipynb>data table notebook</a>'\n",
              "          + ' to learn more about interactive tables.';\n",
              "        element.innerHTML = '';\n",
              "        dataTable['output_type'] = 'display_data';\n",
              "        await google.colab.output.renderOutput(dataTable, element);\n",
              "        const docLink = document.createElement('div');\n",
              "        docLink.innerHTML = docLinkHtml;\n",
              "        element.appendChild(docLink);\n",
              "      }\n",
              "    </script>\n",
              "  </div>\n",
              "\n",
              "\n",
              "<div id=\"df-b5471aeb-faa0-4d67-b711-e1479e853237\">\n",
              "  <button class=\"colab-df-quickchart\" onclick=\"quickchart('df-b5471aeb-faa0-4d67-b711-e1479e853237')\"\n",
              "            title=\"Suggest charts\"\n",
              "            style=\"display:none;\">\n",
              "\n",
              "<svg xmlns=\"http://www.w3.org/2000/svg\" height=\"24px\"viewBox=\"0 0 24 24\"\n",
              "     width=\"24px\">\n",
              "    <g>\n",
              "        <path d=\"M19 3H5c-1.1 0-2 .9-2 2v14c0 1.1.9 2 2 2h14c1.1 0 2-.9 2-2V5c0-1.1-.9-2-2-2zM9 17H7v-7h2v7zm4 0h-2V7h2v10zm4 0h-2v-4h2v4z\"/>\n",
              "    </g>\n",
              "</svg>\n",
              "  </button>\n",
              "\n",
              "<style>\n",
              "  .colab-df-quickchart {\n",
              "      --bg-color: #E8F0FE;\n",
              "      --fill-color: #1967D2;\n",
              "      --hover-bg-color: #E2EBFA;\n",
              "      --hover-fill-color: #174EA6;\n",
              "      --disabled-fill-color: #AAA;\n",
              "      --disabled-bg-color: #DDD;\n",
              "  }\n",
              "\n",
              "  [theme=dark] .colab-df-quickchart {\n",
              "      --bg-color: #3B4455;\n",
              "      --fill-color: #D2E3FC;\n",
              "      --hover-bg-color: #434B5C;\n",
              "      --hover-fill-color: #FFFFFF;\n",
              "      --disabled-bg-color: #3B4455;\n",
              "      --disabled-fill-color: #666;\n",
              "  }\n",
              "\n",
              "  .colab-df-quickchart {\n",
              "    background-color: var(--bg-color);\n",
              "    border: none;\n",
              "    border-radius: 50%;\n",
              "    cursor: pointer;\n",
              "    display: none;\n",
              "    fill: var(--fill-color);\n",
              "    height: 32px;\n",
              "    padding: 0;\n",
              "    width: 32px;\n",
              "  }\n",
              "\n",
              "  .colab-df-quickchart:hover {\n",
              "    background-color: var(--hover-bg-color);\n",
              "    box-shadow: 0 1px 2px rgba(60, 64, 67, 0.3), 0 1px 3px 1px rgba(60, 64, 67, 0.15);\n",
              "    fill: var(--button-hover-fill-color);\n",
              "  }\n",
              "\n",
              "  .colab-df-quickchart-complete:disabled,\n",
              "  .colab-df-quickchart-complete:disabled:hover {\n",
              "    background-color: var(--disabled-bg-color);\n",
              "    fill: var(--disabled-fill-color);\n",
              "    box-shadow: none;\n",
              "  }\n",
              "\n",
              "  .colab-df-spinner {\n",
              "    border: 2px solid var(--fill-color);\n",
              "    border-color: transparent;\n",
              "    border-bottom-color: var(--fill-color);\n",
              "    animation:\n",
              "      spin 1s steps(1) infinite;\n",
              "  }\n",
              "\n",
              "  @keyframes spin {\n",
              "    0% {\n",
              "      border-color: transparent;\n",
              "      border-bottom-color: var(--fill-color);\n",
              "      border-left-color: var(--fill-color);\n",
              "    }\n",
              "    20% {\n",
              "      border-color: transparent;\n",
              "      border-left-color: var(--fill-color);\n",
              "      border-top-color: var(--fill-color);\n",
              "    }\n",
              "    30% {\n",
              "      border-color: transparent;\n",
              "      border-left-color: var(--fill-color);\n",
              "      border-top-color: var(--fill-color);\n",
              "      border-right-color: var(--fill-color);\n",
              "    }\n",
              "    40% {\n",
              "      border-color: transparent;\n",
              "      border-right-color: var(--fill-color);\n",
              "      border-top-color: var(--fill-color);\n",
              "    }\n",
              "    60% {\n",
              "      border-color: transparent;\n",
              "      border-right-color: var(--fill-color);\n",
              "    }\n",
              "    80% {\n",
              "      border-color: transparent;\n",
              "      border-right-color: var(--fill-color);\n",
              "      border-bottom-color: var(--fill-color);\n",
              "    }\n",
              "    90% {\n",
              "      border-color: transparent;\n",
              "      border-bottom-color: var(--fill-color);\n",
              "    }\n",
              "  }\n",
              "</style>\n",
              "\n",
              "  <script>\n",
              "    async function quickchart(key) {\n",
              "      const quickchartButtonEl =\n",
              "        document.querySelector('#' + key + ' button');\n",
              "      quickchartButtonEl.disabled = true;  // To prevent multiple clicks.\n",
              "      quickchartButtonEl.classList.add('colab-df-spinner');\n",
              "      try {\n",
              "        const charts = await google.colab.kernel.invokeFunction(\n",
              "            'suggestCharts', [key], {});\n",
              "      } catch (error) {\n",
              "        console.error('Error during call to suggestCharts:', error);\n",
              "      }\n",
              "      quickchartButtonEl.classList.remove('colab-df-spinner');\n",
              "      quickchartButtonEl.classList.add('colab-df-quickchart-complete');\n",
              "    }\n",
              "    (() => {\n",
              "      let quickchartButtonEl =\n",
              "        document.querySelector('#df-b5471aeb-faa0-4d67-b711-e1479e853237 button');\n",
              "      quickchartButtonEl.style.display =\n",
              "        google.colab.kernel.accessAllowed ? 'block' : 'none';\n",
              "    })();\n",
              "  </script>\n",
              "</div>\n",
              "\n",
              "    </div>\n",
              "  </div>\n"
            ],
            "application/vnd.google.colaboratory.intrinsic+json": {
              "type": "dataframe",
              "summary": "{\n  \"name\": \"show(bikeshare)\",\n  \"rows\": 2,\n  \"fields\": [\n    {\n      \"column\": \"state\",\n      \"properties\": {\n        \"dtype\": \"number\",\n        \"std\": 8,\n        \"min\": 0,\n        \"max\": 12,\n        \"num_unique_values\": 2,\n        \"samples\": [\n          0,\n          12\n        ],\n        \"semantic_type\": \"\",\n        \"description\": \"\"\n      }\n    }\n  ]\n}"
            }
          },
          "metadata": {},
          "execution_count": 62
        }
      ],
      "source": [
        "show(bikeshare)"
      ]
    },
    {
      "cell_type": "markdown",
      "id": "criminal-general",
      "metadata": {
        "id": "criminal-general"
      },
      "source": [
        "No more negative bikes (at least at Wellesley)."
      ]
    },
    {
      "cell_type": "markdown",
      "id": "gorgeous-found",
      "metadata": {
        "id": "gorgeous-found"
      },
      "source": [
        "## Comparison Operators\n",
        "\n",
        "The updated version of `bike_to_olin` uses the equals operator, `==`, which compares two values and returns `True` if they are equal, and `False` otherwise.\n",
        "\n",
        "It is easy to confuse the equals operator with the assignment operator, `=`, which assigns a value to a variable. For example, the following statement creates a variable, `x`, if it doesn't already exist, and gives it the value `5`."
      ]
    },
    {
      "cell_type": "code",
      "execution_count": null,
      "id": "level-burns",
      "metadata": {
        "id": "level-burns"
      },
      "outputs": [],
      "source": [
        "x = 5"
      ]
    },
    {
      "cell_type": "markdown",
      "id": "weighted-monster",
      "metadata": {
        "id": "weighted-monster"
      },
      "source": [
        "On the other hand, the following statement checks whether `x` is `5` and\n",
        "returns `True` or `False`. It does not create `x` or change its value."
      ]
    },
    {
      "cell_type": "code",
      "execution_count": null,
      "id": "civic-remains",
      "metadata": {
        "id": "civic-remains",
        "colab": {
          "base_uri": "https://localhost:8080/"
        },
        "outputId": "ae3736af-f39f-4c34-c4e7-545fe1456861"
      },
      "outputs": [
        {
          "output_type": "execute_result",
          "data": {
            "text/plain": [
              "True"
            ]
          },
          "metadata": {},
          "execution_count": 64
        }
      ],
      "source": [
        "x == 5"
      ]
    },
    {
      "cell_type": "markdown",
      "id": "forward-perth",
      "metadata": {
        "id": "forward-perth"
      },
      "source": [
        "You can use the equals operator in an `if` statement, like this:"
      ]
    },
    {
      "cell_type": "code",
      "execution_count": null,
      "id": "affecting-naples",
      "metadata": {
        "id": "affecting-naples",
        "colab": {
          "base_uri": "https://localhost:8080/"
        },
        "outputId": "b54d9b81-c9ab-45a1-d683-79875c9fa706"
      },
      "outputs": [
        {
          "output_type": "stream",
          "name": "stdout",
          "text": [
            "yes, x is 5\n"
          ]
        }
      ],
      "source": [
        "if x == 5:\n",
        "    print('yes, x is 5')"
      ]
    },
    {
      "cell_type": "markdown",
      "id": "consolidated-anatomy",
      "metadata": {
        "id": "consolidated-anatomy"
      },
      "source": [
        "If you make a mistake and use `=` in an `if` statement, like this:\n",
        "\n",
        "```\n",
        "if x = 5:\n",
        "    print('yes, x is 5')\n",
        "```\n",
        "\n",
        "That's a *syntax error*, which means that the structure of the program is invalid. Python will print an error message and the program won't run."
      ]
    },
    {
      "cell_type": "markdown",
      "id": "twelve-defensive",
      "metadata": {
        "id": "twelve-defensive"
      },
      "source": [
        "The equals operator is one of Python's *comparison operators*; the complete list is in the following table.\n",
        "\n",
        "| Operation             | Symbol |\n",
        "|-----------------------|--------|\n",
        "| Less than             | `<`    |\n",
        "| Greater than          | `>`    |\n",
        "| Less than or equal    | `<=`   |\n",
        "| Greater than or equal | `>=`   |\n",
        "| Equal                 | `==`   |\n",
        "| Not equal             | `!=`   |"
      ]
    },
    {
      "cell_type": "markdown",
      "id": "center-sequence",
      "metadata": {
        "id": "center-sequence"
      },
      "source": [
        "## Metrics\n",
        "\n",
        "Getting back to the bike share system, at this point we have the ability to simulate the behavior of the system. Since the arrival of customers is random, the state of the system is different each time we run a\n",
        "simulation. Models like this are called random or *stochastic*; models\n",
        "that do the same thing every time they run are *deterministic*.\n",
        "\n",
        "Suppose we want to use our model to predict how well the bike share\n",
        "system will work, or to design a system that works better. First, we\n",
        "have to decide what we mean by \"how well\" and \"better\".\n",
        "\n",
        "From the customer's point of view, we might like to know the probability of finding an available bike. From the system-owner's point of view, we might want to minimize the number of customers who don't get a bike when they want one, or maximize the number of bikes in use. Statistics like these that quantify how well the system works are called *metrics*.\n",
        "\n",
        "As an example, let's measure the number of unhappy customers.\n",
        "Here's a version of `bike_to_olin` that keeps track of the number of\n",
        "customers who arrive at a station with no bikes:"
      ]
    },
    {
      "cell_type": "code",
      "execution_count": null,
      "id": "arbitrary-ferry",
      "metadata": {
        "id": "arbitrary-ferry"
      },
      "outputs": [],
      "source": [
        "def bike_to_olin(state):\n",
        "    if state.wellesley == 0:\n",
        "        state.wellesley_empty += 1\n",
        "        return\n",
        "    state.wellesley -= 1\n",
        "    state.olin += 1"
      ]
    },
    {
      "cell_type": "markdown",
      "id": "severe-contact",
      "metadata": {
        "id": "severe-contact"
      },
      "source": [
        "If a customer arrives at the Wellesley station and finds no bike\n",
        "available, `bike_to_olin` updates `wellesley_empty`, which counts the\n",
        "number of unhappy customers.\n",
        "\n",
        "This function only works if we initialize `wellesley_empty` when we\n",
        "create the `State` object, like this:"
      ]
    },
    {
      "cell_type": "code",
      "execution_count": null,
      "id": "cardiovascular-montgomery",
      "metadata": {
        "id": "cardiovascular-montgomery"
      },
      "outputs": [],
      "source": [
        "bikeshare = State(olin=12, wellesley=0,\n",
        "                  wellesley_empty=0)"
      ]
    },
    {
      "cell_type": "markdown",
      "id": "computational-prior",
      "metadata": {
        "id": "computational-prior"
      },
      "source": [
        "We can test it by calling `bike_to_olin`:"
      ]
    },
    {
      "cell_type": "code",
      "execution_count": null,
      "id": "cosmetic-above",
      "metadata": {
        "scrolled": true,
        "id": "cosmetic-above"
      },
      "outputs": [],
      "source": [
        "bike_to_olin(bikeshare)"
      ]
    },
    {
      "cell_type": "markdown",
      "id": "pleased-gasoline",
      "metadata": {
        "id": "pleased-gasoline"
      },
      "source": [
        "After this update, there should be 12 bikes at Olin, no bikes at Wellesley, and one unhappy customer."
      ]
    },
    {
      "cell_type": "code",
      "execution_count": null,
      "id": "bulgarian-palestine",
      "metadata": {
        "id": "bulgarian-palestine",
        "colab": {
          "base_uri": "https://localhost:8080/",
          "height": 143
        },
        "outputId": "d73a097a-b09a-4bfc-9e54-1dce669ee29c"
      },
      "outputs": [
        {
          "output_type": "execute_result",
          "data": {
            "text/plain": [
              "                 state\n",
              "olin                12\n",
              "wellesley            0\n",
              "wellesley_empty      1"
            ],
            "text/html": [
              "\n",
              "  <div id=\"df-4a8f4426-0587-44ec-addd-bf398aaae13e\" class=\"colab-df-container\">\n",
              "    <div>\n",
              "<style scoped>\n",
              "    .dataframe tbody tr th:only-of-type {\n",
              "        vertical-align: middle;\n",
              "    }\n",
              "\n",
              "    .dataframe tbody tr th {\n",
              "        vertical-align: top;\n",
              "    }\n",
              "\n",
              "    .dataframe thead th {\n",
              "        text-align: right;\n",
              "    }\n",
              "</style>\n",
              "<table border=\"1\" class=\"dataframe\">\n",
              "  <thead>\n",
              "    <tr style=\"text-align: right;\">\n",
              "      <th></th>\n",
              "      <th>state</th>\n",
              "    </tr>\n",
              "  </thead>\n",
              "  <tbody>\n",
              "    <tr>\n",
              "      <th>olin</th>\n",
              "      <td>12</td>\n",
              "    </tr>\n",
              "    <tr>\n",
              "      <th>wellesley</th>\n",
              "      <td>0</td>\n",
              "    </tr>\n",
              "    <tr>\n",
              "      <th>wellesley_empty</th>\n",
              "      <td>1</td>\n",
              "    </tr>\n",
              "  </tbody>\n",
              "</table>\n",
              "</div>\n",
              "    <div class=\"colab-df-buttons\">\n",
              "\n",
              "  <div class=\"colab-df-container\">\n",
              "    <button class=\"colab-df-convert\" onclick=\"convertToInteractive('df-4a8f4426-0587-44ec-addd-bf398aaae13e')\"\n",
              "            title=\"Convert this dataframe to an interactive table.\"\n",
              "            style=\"display:none;\">\n",
              "\n",
              "  <svg xmlns=\"http://www.w3.org/2000/svg\" height=\"24px\" viewBox=\"0 -960 960 960\">\n",
              "    <path d=\"M120-120v-720h720v720H120Zm60-500h600v-160H180v160Zm220 220h160v-160H400v160Zm0 220h160v-160H400v160ZM180-400h160v-160H180v160Zm440 0h160v-160H620v160ZM180-180h160v-160H180v160Zm440 0h160v-160H620v160Z\"/>\n",
              "  </svg>\n",
              "    </button>\n",
              "\n",
              "  <style>\n",
              "    .colab-df-container {\n",
              "      display:flex;\n",
              "      gap: 12px;\n",
              "    }\n",
              "\n",
              "    .colab-df-convert {\n",
              "      background-color: #E8F0FE;\n",
              "      border: none;\n",
              "      border-radius: 50%;\n",
              "      cursor: pointer;\n",
              "      display: none;\n",
              "      fill: #1967D2;\n",
              "      height: 32px;\n",
              "      padding: 0 0 0 0;\n",
              "      width: 32px;\n",
              "    }\n",
              "\n",
              "    .colab-df-convert:hover {\n",
              "      background-color: #E2EBFA;\n",
              "      box-shadow: 0px 1px 2px rgba(60, 64, 67, 0.3), 0px 1px 3px 1px rgba(60, 64, 67, 0.15);\n",
              "      fill: #174EA6;\n",
              "    }\n",
              "\n",
              "    .colab-df-buttons div {\n",
              "      margin-bottom: 4px;\n",
              "    }\n",
              "\n",
              "    [theme=dark] .colab-df-convert {\n",
              "      background-color: #3B4455;\n",
              "      fill: #D2E3FC;\n",
              "    }\n",
              "\n",
              "    [theme=dark] .colab-df-convert:hover {\n",
              "      background-color: #434B5C;\n",
              "      box-shadow: 0px 1px 3px 1px rgba(0, 0, 0, 0.15);\n",
              "      filter: drop-shadow(0px 1px 2px rgba(0, 0, 0, 0.3));\n",
              "      fill: #FFFFFF;\n",
              "    }\n",
              "  </style>\n",
              "\n",
              "    <script>\n",
              "      const buttonEl =\n",
              "        document.querySelector('#df-4a8f4426-0587-44ec-addd-bf398aaae13e button.colab-df-convert');\n",
              "      buttonEl.style.display =\n",
              "        google.colab.kernel.accessAllowed ? 'block' : 'none';\n",
              "\n",
              "      async function convertToInteractive(key) {\n",
              "        const element = document.querySelector('#df-4a8f4426-0587-44ec-addd-bf398aaae13e');\n",
              "        const dataTable =\n",
              "          await google.colab.kernel.invokeFunction('convertToInteractive',\n",
              "                                                    [key], {});\n",
              "        if (!dataTable) return;\n",
              "\n",
              "        const docLinkHtml = 'Like what you see? Visit the ' +\n",
              "          '<a target=\"_blank\" href=https://colab.research.google.com/notebooks/data_table.ipynb>data table notebook</a>'\n",
              "          + ' to learn more about interactive tables.';\n",
              "        element.innerHTML = '';\n",
              "        dataTable['output_type'] = 'display_data';\n",
              "        await google.colab.output.renderOutput(dataTable, element);\n",
              "        const docLink = document.createElement('div');\n",
              "        docLink.innerHTML = docLinkHtml;\n",
              "        element.appendChild(docLink);\n",
              "      }\n",
              "    </script>\n",
              "  </div>\n",
              "\n",
              "\n",
              "<div id=\"df-e01c24bc-0382-490f-b030-f3c90527a535\">\n",
              "  <button class=\"colab-df-quickchart\" onclick=\"quickchart('df-e01c24bc-0382-490f-b030-f3c90527a535')\"\n",
              "            title=\"Suggest charts\"\n",
              "            style=\"display:none;\">\n",
              "\n",
              "<svg xmlns=\"http://www.w3.org/2000/svg\" height=\"24px\"viewBox=\"0 0 24 24\"\n",
              "     width=\"24px\">\n",
              "    <g>\n",
              "        <path d=\"M19 3H5c-1.1 0-2 .9-2 2v14c0 1.1.9 2 2 2h14c1.1 0 2-.9 2-2V5c0-1.1-.9-2-2-2zM9 17H7v-7h2v7zm4 0h-2V7h2v10zm4 0h-2v-4h2v4z\"/>\n",
              "    </g>\n",
              "</svg>\n",
              "  </button>\n",
              "\n",
              "<style>\n",
              "  .colab-df-quickchart {\n",
              "      --bg-color: #E8F0FE;\n",
              "      --fill-color: #1967D2;\n",
              "      --hover-bg-color: #E2EBFA;\n",
              "      --hover-fill-color: #174EA6;\n",
              "      --disabled-fill-color: #AAA;\n",
              "      --disabled-bg-color: #DDD;\n",
              "  }\n",
              "\n",
              "  [theme=dark] .colab-df-quickchart {\n",
              "      --bg-color: #3B4455;\n",
              "      --fill-color: #D2E3FC;\n",
              "      --hover-bg-color: #434B5C;\n",
              "      --hover-fill-color: #FFFFFF;\n",
              "      --disabled-bg-color: #3B4455;\n",
              "      --disabled-fill-color: #666;\n",
              "  }\n",
              "\n",
              "  .colab-df-quickchart {\n",
              "    background-color: var(--bg-color);\n",
              "    border: none;\n",
              "    border-radius: 50%;\n",
              "    cursor: pointer;\n",
              "    display: none;\n",
              "    fill: var(--fill-color);\n",
              "    height: 32px;\n",
              "    padding: 0;\n",
              "    width: 32px;\n",
              "  }\n",
              "\n",
              "  .colab-df-quickchart:hover {\n",
              "    background-color: var(--hover-bg-color);\n",
              "    box-shadow: 0 1px 2px rgba(60, 64, 67, 0.3), 0 1px 3px 1px rgba(60, 64, 67, 0.15);\n",
              "    fill: var(--button-hover-fill-color);\n",
              "  }\n",
              "\n",
              "  .colab-df-quickchart-complete:disabled,\n",
              "  .colab-df-quickchart-complete:disabled:hover {\n",
              "    background-color: var(--disabled-bg-color);\n",
              "    fill: var(--disabled-fill-color);\n",
              "    box-shadow: none;\n",
              "  }\n",
              "\n",
              "  .colab-df-spinner {\n",
              "    border: 2px solid var(--fill-color);\n",
              "    border-color: transparent;\n",
              "    border-bottom-color: var(--fill-color);\n",
              "    animation:\n",
              "      spin 1s steps(1) infinite;\n",
              "  }\n",
              "\n",
              "  @keyframes spin {\n",
              "    0% {\n",
              "      border-color: transparent;\n",
              "      border-bottom-color: var(--fill-color);\n",
              "      border-left-color: var(--fill-color);\n",
              "    }\n",
              "    20% {\n",
              "      border-color: transparent;\n",
              "      border-left-color: var(--fill-color);\n",
              "      border-top-color: var(--fill-color);\n",
              "    }\n",
              "    30% {\n",
              "      border-color: transparent;\n",
              "      border-left-color: var(--fill-color);\n",
              "      border-top-color: var(--fill-color);\n",
              "      border-right-color: var(--fill-color);\n",
              "    }\n",
              "    40% {\n",
              "      border-color: transparent;\n",
              "      border-right-color: var(--fill-color);\n",
              "      border-top-color: var(--fill-color);\n",
              "    }\n",
              "    60% {\n",
              "      border-color: transparent;\n",
              "      border-right-color: var(--fill-color);\n",
              "    }\n",
              "    80% {\n",
              "      border-color: transparent;\n",
              "      border-right-color: var(--fill-color);\n",
              "      border-bottom-color: var(--fill-color);\n",
              "    }\n",
              "    90% {\n",
              "      border-color: transparent;\n",
              "      border-bottom-color: var(--fill-color);\n",
              "    }\n",
              "  }\n",
              "</style>\n",
              "\n",
              "  <script>\n",
              "    async function quickchart(key) {\n",
              "      const quickchartButtonEl =\n",
              "        document.querySelector('#' + key + ' button');\n",
              "      quickchartButtonEl.disabled = true;  // To prevent multiple clicks.\n",
              "      quickchartButtonEl.classList.add('colab-df-spinner');\n",
              "      try {\n",
              "        const charts = await google.colab.kernel.invokeFunction(\n",
              "            'suggestCharts', [key], {});\n",
              "      } catch (error) {\n",
              "        console.error('Error during call to suggestCharts:', error);\n",
              "      }\n",
              "      quickchartButtonEl.classList.remove('colab-df-spinner');\n",
              "      quickchartButtonEl.classList.add('colab-df-quickchart-complete');\n",
              "    }\n",
              "    (() => {\n",
              "      let quickchartButtonEl =\n",
              "        document.querySelector('#df-e01c24bc-0382-490f-b030-f3c90527a535 button');\n",
              "      quickchartButtonEl.style.display =\n",
              "        google.colab.kernel.accessAllowed ? 'block' : 'none';\n",
              "    })();\n",
              "  </script>\n",
              "</div>\n",
              "\n",
              "    </div>\n",
              "  </div>\n"
            ],
            "application/vnd.google.colaboratory.intrinsic+json": {
              "type": "dataframe",
              "summary": "{\n  \"name\": \"show(bikeshare)\",\n  \"rows\": 3,\n  \"fields\": [\n    {\n      \"column\": \"state\",\n      \"properties\": {\n        \"dtype\": \"number\",\n        \"std\": 6,\n        \"min\": 0,\n        \"max\": 12,\n        \"num_unique_values\": 3,\n        \"samples\": [\n          12,\n          0,\n          1\n        ],\n        \"semantic_type\": \"\",\n        \"description\": \"\"\n      }\n    }\n  ]\n}"
            }
          },
          "metadata": {},
          "execution_count": 69
        }
      ],
      "source": [
        "show(bikeshare)"
      ]
    },
    {
      "cell_type": "markdown",
      "id": "revised-associate",
      "metadata": {
        "id": "revised-associate"
      },
      "source": [
        "Looks good!"
      ]
    },
    {
      "cell_type": "markdown",
      "id": "native-kidney",
      "metadata": {
        "id": "native-kidney"
      },
      "source": [
        "## Summary\n",
        "\n",
        "In this chapter, we wrote several versions of `bike_to_olin`:\n",
        "\n",
        "* We added a parameter, `state`, so we can work with more than one `State` object.\n",
        "\n",
        "* We added a docstring that explains how to use the function and a comment that explains how it works.\n",
        "\n",
        "* We used a conditional operator, `==`, to check whether a bike is available, in order to avoid negative bikes.\n",
        "\n",
        "* We added a state variable, `wellesley_empty`, to count the number of unhappy customers, which is a metric we'll use to quantify how well the system works.\n",
        "\n",
        "In the exercises, you'll update `bike_to_wellesley` the same way and test it by running a simulation."
      ]
    },
    {
      "cell_type": "markdown",
      "id": "impaired-cyprus",
      "metadata": {
        "id": "impaired-cyprus"
      },
      "source": [
        "## Exercises"
      ]
    },
    {
      "cell_type": "markdown",
      "id": "careful-hacker",
      "metadata": {
        "tags": [],
        "id": "careful-hacker"
      },
      "source": [
        "Here's the code we have so far, with docstrings, all in one place."
      ]
    },
    {
      "cell_type": "code",
      "execution_count": null,
      "id": "wrong-internet",
      "metadata": {
        "tags": [],
        "id": "wrong-internet"
      },
      "outputs": [],
      "source": [
        "def run_simulation(state, p1, p2, num_steps):\n",
        "    \"\"\"Simulate the given number of time steps.\n",
        "\n",
        "    state: State object\n",
        "    p1: probability of an Olin->Wellesley customer arrival\n",
        "    p2: probability of a Wellesley->Olin customer arrival\n",
        "    num_steps: number of time steps\n",
        "    \"\"\"\n",
        "    results = TimeSeries()\n",
        "    results[0] = state.olin\n",
        "\n",
        "    for i in range(num_steps):\n",
        "        step(state, p1, p2)\n",
        "        results[i+1] = state.olin\n",
        "\n",
        "    results.plot(label='Olin')\n",
        "    decorate(title='Olin-Wellesley Bikeshare',\n",
        "             xlabel='Time step (min)',\n",
        "             ylabel='Number of bikes')"
      ]
    },
    {
      "cell_type": "code",
      "execution_count": null,
      "id": "instrumental-copyright",
      "metadata": {
        "tags": [],
        "id": "instrumental-copyright"
      },
      "outputs": [],
      "source": [
        "def step(state, p1, p2):\n",
        "    \"\"\"Simulate one time step.\n",
        "\n",
        "    state: bikeshare State object\n",
        "    p1: probability of an Olin->Wellesley ride\n",
        "    p2: probability of a Wellesley->Olin ride\n",
        "    \"\"\"\n",
        "    if flip(p1):\n",
        "        bike_to_wellesley(state)\n",
        "\n",
        "    if flip(p2):\n",
        "        bike_to_olin(state)"
      ]
    },
    {
      "cell_type": "code",
      "execution_count": null,
      "id": "improved-renaissance",
      "metadata": {
        "tags": [],
        "id": "improved-renaissance"
      },
      "outputs": [],
      "source": [
        "def bike_to_olin(state):\n",
        "    \"\"\"Move one bike from Wellesley to Olin.\n",
        "\n",
        "    state: bikeshare State object\n",
        "    \"\"\"\n",
        "    if state.wellesley == 0:\n",
        "        state.wellesley_empty += 1\n",
        "        return\n",
        "    state.wellesley -= 1\n",
        "    state.olin += 1"
      ]
    },
    {
      "cell_type": "code",
      "execution_count": null,
      "id": "unavailable-maker",
      "metadata": {
        "tags": [],
        "id": "unavailable-maker"
      },
      "outputs": [],
      "source": [
        "def bike_to_wellesley(state):\n",
        "    \"\"\"Move one bike from Olin to Wellesley.\n",
        "\n",
        "    state: bikeshare State object\n",
        "    \"\"\"\n",
        "    state.olin -= 1\n",
        "    state.wellesley += 1"
      ]
    },
    {
      "cell_type": "markdown",
      "id": "bigger-rapid",
      "metadata": {
        "id": "bigger-rapid"
      },
      "source": [
        "### Exercise 1\n",
        "\n",
        " Modify `bike_to_wellesley` so it checks whether a bike is available at Olin.  If not, it should add `1` to `olin_empty`.\n",
        "\n",
        "To test it, create a `State` that initializes `olin` and `olin_empty` to `0`, run `bike_to_wellesley`, and check the result."
      ]
    },
    {
      "cell_type": "code",
      "execution_count": null,
      "id": "adopted-contrary",
      "metadata": {
        "id": "adopted-contrary"
      },
      "outputs": [],
      "source": [
        "# Solution goes here\n",
        "def bike_to_wellesley(state):\n",
        "    \"\"\"Move one bike from Wellesley to Olin.\n",
        "\n",
        "    state: bikeshare State object\n",
        "    \"\"\"\n",
        "    if state.olin == 0:\n",
        "        state.olin_empty += 1\n",
        "        return\n",
        "    state.olin -= 1\n",
        "    state.wellesley += 1\n"
      ]
    },
    {
      "cell_type": "code",
      "execution_count": null,
      "id": "comparable-natural",
      "metadata": {
        "id": "comparable-natural"
      },
      "outputs": [],
      "source": [
        "# Solution goes here\n",
        "bikeshare2 = State(olin = 0, wellesley = 2, olin_empty = 0)\n",
        "bike_to_wellesley(bikeshare2)"
      ]
    },
    {
      "cell_type": "code",
      "execution_count": null,
      "id": "attractive-amendment",
      "metadata": {
        "id": "attractive-amendment",
        "colab": {
          "base_uri": "https://localhost:8080/"
        },
        "outputId": "de5c2a81-7218-41f4-8df3-f311de2c2a3d"
      },
      "outputs": [
        {
          "output_type": "stream",
          "name": "stdout",
          "text": [
            "olin          0\n",
            "wellesley     2\n",
            "olin_empty    1\n",
            "Name: state, dtype: int64\n"
          ]
        }
      ],
      "source": [
        "# Solution goes here\n",
        "print(bikeshare2)"
      ]
    },
    {
      "cell_type": "markdown",
      "id": "possible-initial",
      "metadata": {
        "id": "possible-initial"
      },
      "source": [
        "### Exercise 2\n",
        "\n",
        " Now run the simulation with parameters `p1=0.3`, `p2=0.2`, and `num_steps=60`, and confirm that the number of bikes is never negative.\n",
        "\n",
        "Start with this initial state:"
      ]
    },
    {
      "cell_type": "code",
      "execution_count": null,
      "id": "eleven-constraint",
      "metadata": {
        "id": "eleven-constraint",
        "colab": {
          "base_uri": "https://localhost:8080/",
          "height": 309
        },
        "outputId": "0518ec03-d4b9-47b4-dbcb-52c8cc47bb4e"
      },
      "outputs": [
        {
          "output_type": "display_data",
          "data": {
            "text/plain": [
              "<Figure size 450x300 with 1 Axes>"
            ],
            "image/png": "[encoded data removed]"
          },
          "metadata": {}
        }
      ],
      "source": [
        "bikeshare = State(olin=10, wellesley=2,\n",
        "                  olin_empty=0, wellesley_empty=0)\n",
        "\n",
        "np.random.seed(1994)\n",
        "run_simulation(bikeshare, 0.3, 0.2, 60)"
      ]
    },
    {
      "cell_type": "code",
      "execution_count": null,
      "id": "immune-shock",
      "metadata": {
        "id": "immune-shock",
        "colab": {
          "base_uri": "https://localhost:8080/",
          "height": 73
        },
        "outputId": "5d25f2a6-ba82-490d-c150-75240d32985a"
      },
      "outputs": [
        {
          "output_type": "stream",
          "name": "stdout",
          "text": [
            "0\n",
            "1\n"
          ]
        },
        {
          "output_type": "execute_result",
          "data": {
            "text/plain": [
              "'\\nAs expected, while all 12 bikes were in Olin,\\none person came looking for a bike at Wellesley.\\n'"
            ],
            "application/vnd.google.colaboratory.intrinsic+json": {
              "type": "string"
            }
          },
          "metadata": {},
          "execution_count": 78
        }
      ],
      "source": [
        "# Solution goes here\n",
        "\n",
        "\"\"\"\n",
        "The number of bikes at Olin never goes negative, but it also never even 0.\n",
        "This means that the number of bikes at Olin never reaches 0, so olin_empty should be 0.\n",
        "\"\"\"\n",
        "\n",
        "print(bikeshare.olin_empty)\n",
        "\n",
        "# olin_empty = 0, as desired\n",
        "\n",
        "\"\"\"\n",
        "The number of bikes at Olin briefly reaches 12,\n",
        "so it is possible that wellesley_empty is nonzero.\n",
        "\"\"\"\n",
        "\n",
        "print(bikeshare.wellesley_empty)\n",
        "\n",
        "\"\"\"\n",
        "As expected, while all 12 bikes were in Olin,\n",
        "one person came looking for a bike at Wellesley.\n",
        "\"\"\""
      ]
    }
  ],
  "metadata": {
    "celltoolbar": "Tags",
    "kernelspec": {
      "display_name": "Python 3 (ipykernel)",
      "language": "python",
      "name": "python3"
    },
    "language_info": {
      "codemirror_mode": {
        "name": "ipython",
        "version": 3
      },
      "file_extension": ".py",
      "mimetype": "text/x-python",
      "name": "python",
      "nbconvert_exporter": "python",
      "pygments_lexer": "ipython3",
      "version": "3.8.16"
    },
    "colab": {
      "provenance": []
    }
  },
  "nbformat": 4,
  "nbformat_minor": 5
}