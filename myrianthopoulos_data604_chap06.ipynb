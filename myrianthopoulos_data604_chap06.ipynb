{
  "cells": [
    {
      "cell_type": "markdown",
      "id": "creative-motel",
      "metadata": {
        "id": "creative-motel"
      },
      "source": [
        "# Proportional Growth"
      ]
    },
    {
      "cell_type": "markdown",
      "id": "imported-table",
      "metadata": {
        "id": "imported-table"
      },
      "source": [
        "*Modeling and Simulation in Python*\n",
        "\n",
        "Copyright 2021 Allen Downey\n",
        "\n",
        "License: [Creative Commons Attribution-NonCommercial-ShareAlike 4.0 International](https://creativecommons.org/licenses/by-nc-sa/4.0/)"
      ]
    },
    {
      "cell_type": "code",
      "execution_count": 1,
      "id": "electoral-turkey",
      "metadata": {
        "colab": {
          "base_uri": "https://localhost:8080/"
        },
        "id": "electoral-turkey",
        "outputId": "83677aed-8161-4c64-ae74-a01128642729"
      },
      "outputs": [],
      "source": [
        "# install Pint if necessary\n",
        "\n",
        "try:\n",
        "    import pint\n",
        "except ImportError:\n",
        "    !pip install pint"
      ]
    },
    {
      "cell_type": "code",
      "execution_count": 2,
      "id": "formal-context",
      "metadata": {
        "colab": {
          "base_uri": "https://localhost:8080/"
        },
        "id": "formal-context",
        "outputId": "63184e58-e2ae-4274-ccd6-d6a735c0216c"
      },
      "outputs": [],
      "source": [
        "# download modsim.py if necessary\n",
        "\n",
        "from os.path import basename, exists\n",
        "\n",
        "def download(url):\n",
        "    filename = basename(url)\n",
        "    if not exists(filename):\n",
        "        from urllib.request import urlretrieve\n",
        "        local, _ = urlretrieve(url, filename)\n",
        "        print('Downloaded ' + local)\n",
        "\n",
        "download('https://raw.githubusercontent.com/AllenDowney/' +\n",
        "         'ModSimPy/master/modsim.py')"
      ]
    },
    {
      "cell_type": "code",
      "execution_count": 3,
      "id": "progressive-typing",
      "metadata": {
        "id": "progressive-typing"
      },
      "outputs": [],
      "source": [
        "# import functions from modsim\n",
        "\n",
        "from modsim import *"
      ]
    },
    {
      "cell_type": "markdown",
      "id": "375794f9",
      "metadata": {
        "id": "375794f9"
      },
      "source": [
        "This chapter is available as a Jupyter notebook where you can read the text, run the code, and work on the exercises.\n",
        "Click here to access the notebooks: <https://allendowney.github.io/ModSimPy/>."
      ]
    },
    {
      "cell_type": "markdown",
      "id": "amber-contrary",
      "metadata": {
        "id": "amber-contrary"
      },
      "source": [
        "Here's the data from the previous chapter again."
      ]
    },
    {
      "cell_type": "code",
      "execution_count": 4,
      "id": "critical-addition",
      "metadata": {
        "colab": {
          "base_uri": "https://localhost:8080/"
        },
        "id": "critical-addition",
        "outputId": "f7dba729-8973-44e4-84f3-dc06d438c6aa"
      },
      "outputs": [],
      "source": [
        "download('https://raw.githubusercontent.com/AllenDowney/' +\n",
        "         'ModSimPy/master/data/World_population_estimates.html')"
      ]
    },
    {
      "cell_type": "code",
      "execution_count": 5,
      "id": "naughty-swing",
      "metadata": {
        "id": "naughty-swing"
      },
      "outputs": [],
      "source": [
        "from pandas import read_html\n",
        "\n",
        "filename = 'World_population_estimates.html'\n",
        "tables = read_html(filename, header=0, index_col=0, decimal='M')\n",
        "table2 = tables[2]\n",
        "table2.columns = ['census', 'prb', 'un', 'maddison',\n",
        "                  'hyde', 'tanton', 'biraben', 'mj',\n",
        "                  'thomlinson', 'durand', 'clark']"
      ]
    },
    {
      "cell_type": "markdown",
      "id": "quality-spectrum",
      "metadata": {
        "id": "quality-spectrum"
      },
      "source": [
        "In the previous chapter we simulated a model of world population with\n",
        "constant growth. In this chapter we'll see if we can make a better model\n",
        "with growth proportional to the population.\n",
        "\n",
        "But first, we'll improve the code from the previous chapter by\n",
        "encapsulating it in a function and adding a new feature, a `System` object."
      ]
    },
    {
      "cell_type": "markdown",
      "id": "therapeutic-merchant",
      "metadata": {
        "id": "therapeutic-merchant"
      },
      "source": [
        "## System Objects\n",
        "\n",
        "Like a `State` object, a `System` object contains variables and their\n",
        "values. The difference is:\n",
        "\n",
        "-   `State` objects contain state variables that get updated in the course of a simulation.\n",
        "\n",
        "-   `System` objects contain *system parameters*, which usually don't get updated over the course of a simulation.\n",
        "\n",
        "For example, in the bike share model, state variables include the number of bikes at each location, which get updated whenever a customer moves a bike. System parameters include the number of locations, total number of bikes, and arrival rates at each location.\n",
        "\n",
        "In the population model, the only state variable is the population.\n",
        "System parameters include the annual growth rate, the initial population, and the start and end times.\n",
        "\n",
        "Suppose we have the following variables, as computed in the previous\n",
        "chapter (assuming `table2` is the `DataFrame` we read from the file):"
      ]
    },
    {
      "cell_type": "code",
      "execution_count": 6,
      "id": "numerous-university",
      "metadata": {
        "id": "numerous-university"
      },
      "outputs": [],
      "source": [
        "un = table2.un / 1e9\n",
        "census = table2.census / 1e9\n",
        "\n",
        "t_0 = census.index[0]\n",
        "t_end = census.index[-1]\n",
        "elapsed_time = t_end - t_0\n",
        "\n",
        "p_0 = census[t_0]\n",
        "p_end = census[t_end]\n",
        "\n",
        "total_growth = p_end - p_0\n",
        "annual_growth = total_growth / elapsed_time"
      ]
    },
    {
      "cell_type": "markdown",
      "id": "starting-cooling",
      "metadata": {
        "id": "starting-cooling"
      },
      "source": [
        "Some of these are parameters we need to simulate the system; others are temporary values we can discard.\n",
        "To distinguish between them, we'll put the parameters we need in a `System` object like this:"
      ]
    },
    {
      "cell_type": "code",
      "execution_count": 7,
      "id": "colonial-domestic",
      "metadata": {
        "id": "colonial-domestic"
      },
      "outputs": [],
      "source": [
        "system = System(t_0=t_0,\n",
        "                t_end=t_end,\n",
        "                p_0=p_0,\n",
        "                annual_growth=annual_growth)"
      ]
    },
    {
      "cell_type": "markdown",
      "id": "fleet-beaver",
      "metadata": {
        "id": "fleet-beaver"
      },
      "source": [
        "`t0` and `t_end` are the first and last years; `p_0` is the initial\n",
        "population, and `annual_growth` is the estimated annual growth.\n",
        "\n",
        "The assignment `t_0=t_0` reads the value of the existing variable named `t_0`, which we created previously, and stores it in a new system variable, also named `t_0`.\n",
        "The variables inside the `System` object are distinct from other variables, so you can change one without affecting the other, even if they have the same name.\n",
        "\n",
        "So this `System` object contains four new variables; here's what they look like."
      ]
    },
    {
      "cell_type": "code",
      "execution_count": 8,
      "id": "floral-routine",
      "metadata": {
        "colab": {
          "base_uri": "https://localhost:8080/",
          "height": 175
        },
        "id": "floral-routine",
        "outputId": "e14a896c-5c02-49c0-bf76-30ea403aca4f"
      },
      "outputs": [
        {
          "data": {
            "text/html": [
              "<div>\n",
              "<style scoped>\n",
              "    .dataframe tbody tr th:only-of-type {\n",
              "        vertical-align: middle;\n",
              "    }\n",
              "\n",
              "    .dataframe tbody tr th {\n",
              "        vertical-align: top;\n",
              "    }\n",
              "\n",
              "    .dataframe thead th {\n",
              "        text-align: right;\n",
              "    }\n",
              "</style>\n",
              "<table border=\"1\" class=\"dataframe\">\n",
              "  <thead>\n",
              "    <tr style=\"text-align: right;\">\n",
              "      <th></th>\n",
              "      <th>value</th>\n",
              "    </tr>\n",
              "  </thead>\n",
              "  <tbody>\n",
              "    <tr>\n",
              "      <th>t_0</th>\n",
              "      <td>1950.000000</td>\n",
              "    </tr>\n",
              "    <tr>\n",
              "      <th>t_end</th>\n",
              "      <td>2016.000000</td>\n",
              "    </tr>\n",
              "    <tr>\n",
              "      <th>p_0</th>\n",
              "      <td>2.557629</td>\n",
              "    </tr>\n",
              "    <tr>\n",
              "      <th>annual_growth</th>\n",
              "      <td>0.072248</td>\n",
              "    </tr>\n",
              "  </tbody>\n",
              "</table>\n",
              "</div>"
            ],
            "text/plain": [
              "                     value\n",
              "t_0            1950.000000\n",
              "t_end          2016.000000\n",
              "p_0               2.557629\n",
              "annual_growth     0.072248"
            ]
          },
          "execution_count": 8,
          "metadata": {},
          "output_type": "execute_result"
        }
      ],
      "source": [
        "show(system)"
      ]
    },
    {
      "cell_type": "markdown",
      "id": "combined-banking",
      "metadata": {
        "id": "combined-banking"
      },
      "source": [
        "Next we'll wrap the code from the previous chapter in a function:"
      ]
    },
    {
      "cell_type": "code",
      "execution_count": 9,
      "id": "pacific-challenge",
      "metadata": {
        "id": "pacific-challenge"
      },
      "outputs": [],
      "source": [
        "def run_simulation1(system):\n",
        "    results = TimeSeries()\n",
        "    results[system.t_0] = system.p_0\n",
        "\n",
        "    for t in range(system.t_0, system.t_end):\n",
        "        results[t+1] = results[t] + system.annual_growth\n",
        "\n",
        "    return results"
      ]
    },
    {
      "cell_type": "markdown",
      "id": "rough-strain",
      "metadata": {
        "id": "rough-strain"
      },
      "source": [
        "`run_simulation1` takes a `System` object and reads from it the values of `t_0`, `t_end`, and `annual_growth`.\n",
        "\n",
        "It simulates population growth over time and returns the results in a `TimeSeries`.\n",
        "Here's how we call it."
      ]
    },
    {
      "cell_type": "code",
      "execution_count": 10,
      "id": "electoral-breach",
      "metadata": {
        "id": "electoral-breach"
      },
      "outputs": [],
      "source": [
        "results1 = run_simulation1(system)"
      ]
    },
    {
      "cell_type": "markdown",
      "id": "ordinary-sound",
      "metadata": {
        "id": "ordinary-sound"
      },
      "source": [
        "Here's the function we used in the previous chapter to plot the estimates."
      ]
    },
    {
      "cell_type": "code",
      "execution_count": 11,
      "id": "peripheral-cassette",
      "metadata": {
        "id": "peripheral-cassette"
      },
      "outputs": [],
      "source": [
        "def plot_estimates():\n",
        "    census.plot(style=':', label='US Census')\n",
        "    un.plot(style='--', label='UN DESA')\n",
        "    decorate(xlabel='Year',\n",
        "             ylabel='World population (billion)')"
      ]
    },
    {
      "cell_type": "markdown",
      "id": "warming-audience",
      "metadata": {
        "id": "warming-audience"
      },
      "source": [
        "And here are the results."
      ]
    },
    {
      "cell_type": "code",
      "execution_count": 12,
      "id": "capable-diana",
      "metadata": {
        "colab": {
          "base_uri": "https://localhost:8080/",
          "height": 309
        },
        "id": "capable-diana",
        "outputId": "9d5f47a4-562d-49a6-b0db-333671922f73"
      },
      "outputs": [
        {
          "data": {
            "image/png": "[encoded data removed]",
            "text/plain": [
              "<Figure size 450x300 with 1 Axes>"
            ]
          },
          "metadata": {},
          "output_type": "display_data"
        }
      ],
      "source": [
        "results1.plot(label='model', color='gray')\n",
        "plot_estimates()\n",
        "decorate(title='Constant growth model')"
      ]
    },
    {
      "cell_type": "markdown",
      "id": "exposed-witness",
      "metadata": {
        "id": "exposed-witness"
      },
      "source": [
        "It might not be obvious that using functions and `System` objects is a\n",
        "big improvement, and for a simple model that we run only once, maybe\n",
        "it's not. But as we work with more complex models, and when we run many simulations with different parameters, we'll see that this way of organizing the code makes a big difference.\n",
        "\n",
        "Now let's see if we can improve the model."
      ]
    },
    {
      "cell_type": "markdown",
      "id": "geographic-hormone",
      "metadata": {
        "id": "geographic-hormone"
      },
      "source": [
        "## Proportional Growth Model\n",
        "\n",
        "The biggest problem with the constant growth model is that it doesn't\n",
        "make any sense. It is hard to imagine how people all over the world\n",
        "could conspire to keep population growth constant from year to year.\n",
        "\n",
        "On the other hand, if some fraction of the population dies each year,\n",
        "and some fraction gives birth, we can compute the net change in the\n",
        "population like this:"
      ]
    },
    {
      "cell_type": "code",
      "execution_count": 13,
      "id": "laughing-wesley",
      "metadata": {
        "id": "laughing-wesley"
      },
      "outputs": [],
      "source": [
        "def run_simulation2(system):\n",
        "    results = TimeSeries()\n",
        "    results[system.t_0] = system.p_0\n",
        "\n",
        "    for t in range(system.t_0, system.t_end):\n",
        "        births = system.birth_rate * results[t]\n",
        "        deaths = system.death_rate * results[t]\n",
        "        results[t+1] = results[t] + births - deaths\n",
        "\n",
        "    return results"
      ]
    },
    {
      "cell_type": "markdown",
      "id": "educated-portugal",
      "metadata": {
        "id": "educated-portugal"
      },
      "source": [
        "Each time through the loop, we use the parameter `birth_rate` to compute the number of births, and `death_rate` to compute the number of deaths.\n",
        "The rest of the function is the same as `run_simulation1`.\n",
        "\n",
        "Now we can choose the values of `birth_rate` and `death_rate` that best fit the data.\n",
        "For the death rate, I'll use 7.7 deaths per 1000 people, which was roughly the global death rate in 2020 (see <https://www.indexmundi.com/world/death_rate.html>).\n",
        "I chose the birth rate by hand to fit the population data."
      ]
    },
    {
      "cell_type": "code",
      "execution_count": 14,
      "id": "wired-brief",
      "metadata": {
        "id": "wired-brief"
      },
      "outputs": [],
      "source": [
        "system.death_rate = 7.7 / 1000\n",
        "system.birth_rate = 25 / 1000"
      ]
    },
    {
      "cell_type": "markdown",
      "id": "sufficient-contest",
      "metadata": {
        "id": "sufficient-contest"
      },
      "source": [
        "Then I ran the simulation and plotted the results:"
      ]
    },
    {
      "cell_type": "code",
      "execution_count": 15,
      "id": "looking-trace",
      "metadata": {
        "colab": {
          "base_uri": "https://localhost:8080/",
          "height": 309
        },
        "id": "looking-trace",
        "outputId": "11bbaf71-9edd-41bc-de8c-ab60cfd7f6ea"
      },
      "outputs": [
        {
          "data": {
            "image/png": "[encoded data removed]",
            "text/plain": [
              "<Figure size 450x300 with 1 Axes>"
            ]
          },
          "metadata": {},
          "output_type": "display_data"
        }
      ],
      "source": [
        "results2 = run_simulation2(system)\n",
        "results2.plot(label='model', color='gray')\n",
        "plot_estimates()\n",
        "decorate(title='Proportional growth model')"
      ]
    },
    {
      "cell_type": "markdown",
      "id": "suited-costs",
      "metadata": {
        "id": "suited-costs"
      },
      "source": [
        "The proportional model fits\n",
        "the data well from 1950 to 1965, but not so well after that. Overall,\n",
        "the *quality of fit* is not as good as the constant growth model,\n",
        "which is surprising, because it seems like the proportional model is\n",
        "more realistic.\n",
        "\n",
        "In the next chapter we'll try one more time to find a model that makes\n",
        "sense and fits the data. But first, I want to make a few more\n",
        "improvements to the code."
      ]
    },
    {
      "cell_type": "markdown",
      "id": "appropriate-checkout",
      "metadata": {
        "id": "appropriate-checkout"
      },
      "source": [
        "## Factoring Out the Update Function\n",
        "\n",
        "`run_simulation1` and `run_simulation2` are nearly identical except for the body of the `for` loop, where we compute the population for the next year.\n",
        "\n",
        "Rather than repeat identical code, we can separate the things that\n",
        "change from the things that don't. First, I'll pull out the births and deaths from `run_simulation2` and make a function:"
      ]
    },
    {
      "cell_type": "code",
      "execution_count": 16,
      "id": "handmade-permit",
      "metadata": {
        "id": "handmade-permit"
      },
      "outputs": [],
      "source": [
        "def growth_func1(t, pop, system):\n",
        "    births = system.birth_rate * pop\n",
        "    deaths = system.death_rate * pop\n",
        "    return births - deaths"
      ]
    },
    {
      "cell_type": "markdown",
      "id": "fabulous-bankruptcy",
      "metadata": {
        "id": "fabulous-bankruptcy"
      },
      "source": [
        "`growth_func1` takes as arguments the current year, current population, and a `System` object; it returns the net population growth during the current year.\n",
        "\n",
        "This function does not use `t`, so we could leave it out. But we will see other growth functions that need it, and it is convenient if they all take the same parameters, used or not.\n",
        "Now we can write a function that runs any model:"
      ]
    },
    {
      "cell_type": "code",
      "execution_count": 17,
      "id": "civilian-accused",
      "metadata": {
        "id": "civilian-accused"
      },
      "outputs": [],
      "source": [
        "def run_simulation(system, growth_func):\n",
        "    results = TimeSeries()\n",
        "    results[system.t_0] = system.p_0\n",
        "\n",
        "    for t in range(system.t_0, system.t_end):\n",
        "        growth = growth_func(t, results[t], system)\n",
        "        results[t+1] = results[t] + growth\n",
        "\n",
        "    return results"
      ]
    },
    {
      "cell_type": "markdown",
      "id": "failing-assist",
      "metadata": {
        "id": "failing-assist"
      },
      "source": [
        "This function demonstrates a feature we have not seen before: it takes a\n",
        "function as a parameter! When we call `run_simulation`, the second\n",
        "parameter is a function, like `growth_func1`, that computes the\n",
        "population for the next year.\n",
        "\n",
        "Here's how we call it:"
      ]
    },
    {
      "cell_type": "code",
      "execution_count": 18,
      "id": "wicked-seeking",
      "metadata": {
        "id": "wicked-seeking"
      },
      "outputs": [],
      "source": [
        "results = run_simulation(system, growth_func1)"
      ]
    },
    {
      "cell_type": "markdown",
      "id": "simple-camel",
      "metadata": {
        "id": "simple-camel"
      },
      "source": [
        "Passing a function as an argument is the same as passing any other\n",
        "value. The argument, which is `growth_func1` in this example, gets\n",
        "assigned to the parameter, which is called `growth_func`. Inside\n",
        "`run_simulation`, we can call `growth_func` just like any other function.\n",
        "\n",
        "Each time through the loop, `run_simulation` calls `growth_func1` to compute net growth, and uses it to compute the population during the next year."
      ]
    },
    {
      "cell_type": "markdown",
      "id": "spectacular-paradise",
      "metadata": {
        "id": "spectacular-paradise"
      },
      "source": [
        "## Combining Birth and Death\n",
        "\n",
        "We can simplify the code slightly by combining births and deaths to compute the net growth rate.\n",
        "Instead of two parameters, `birth_rate` and `death_rate`, we can write the update function in terms of a single parameter that represents the difference:"
      ]
    },
    {
      "cell_type": "code",
      "execution_count": 19,
      "id": "impressive-model",
      "metadata": {
        "id": "impressive-model"
      },
      "outputs": [],
      "source": [
        "system.alpha = system.birth_rate - system.death_rate"
      ]
    },
    {
      "cell_type": "markdown",
      "id": "modern-uncertainty",
      "metadata": {
        "id": "modern-uncertainty"
      },
      "source": [
        "The name of this parameter, `alpha`, is the conventional name for a\n",
        "proportional growth rate.\n",
        "\n",
        "Here's the modified version of `growth_func1`:"
      ]
    },
    {
      "cell_type": "code",
      "execution_count": 20,
      "id": "familiar-helena",
      "metadata": {
        "id": "familiar-helena"
      },
      "outputs": [],
      "source": [
        "def growth_func2(t, pop, system):\n",
        "    return system.alpha * pop"
      ]
    },
    {
      "cell_type": "markdown",
      "id": "understanding-typing",
      "metadata": {
        "id": "understanding-typing"
      },
      "source": [
        "And here's how we run it:"
      ]
    },
    {
      "cell_type": "code",
      "execution_count": 21,
      "id": "independent-effectiveness",
      "metadata": {
        "id": "independent-effectiveness"
      },
      "outputs": [],
      "source": [
        "results = run_simulation(system, growth_func2)"
      ]
    },
    {
      "cell_type": "markdown",
      "id": "everyday-delicious",
      "metadata": {
        "id": "everyday-delicious"
      },
      "source": [
        "The results are the same as the previous versions, but now the code is organized in a way that makes it easy to explore other models."
      ]
    },
    {
      "cell_type": "markdown",
      "id": "attractive-steps",
      "metadata": {
        "id": "attractive-steps"
      },
      "source": [
        "## Summary\n",
        "\n",
        "In this chapter, we wrapped the code from the previous chapter in functions and used a `System` object to store the parameters of the system.\n",
        "\n",
        "We explored a new model of population growth, where the number of births and deaths is proportional to the current population.  This model seems more realistic, but it turns out not to fit the data particularly well.\n",
        "\n",
        "In the next chapter, we'll try one more model, which is based on the assumption that the population can't keep growing forever.\n",
        "But first, you might want to work on some exercises."
      ]
    },
    {
      "cell_type": "markdown",
      "id": "looking-douglas",
      "metadata": {
        "id": "looking-douglas"
      },
      "source": [
        "## Exercises"
      ]
    },
    {
      "cell_type": "markdown",
      "id": "compliant-preserve",
      "metadata": {
        "id": "compliant-preserve"
      },
      "source": [
        "### Exercise 1\n",
        "\n",
        " Maybe the reason the proportional model doesn't work very well is that the growth rate, `alpha`, is changing over time.  So let's try a model with different growth rates before and after 1980 (as an arbitrary choice).\n",
        "\n",
        "Write an update function that takes `t`, `pop`, and `system` as parameters.  The system object, `system`, should contain two parameters: the growth rate before 1980, `alpha1`, and the growth rate after 1980, `alpha2`.  It should use `t` to determine which growth rate to use.\n",
        "\n",
        "Test your function by calling it directly, then pass it to `run_simulation`.  Plot the results.  Adjust the parameters `alpha1` and `alpha2` to fit the data as well as you can."
      ]
    },
    {
      "cell_type": "code",
      "execution_count": 22,
      "id": "minus-recommendation",
      "metadata": {
        "id": "minus-recommendation",
        "scrolled": false
      },
      "outputs": [],
      "source": [
        "# Solution goes here\n",
        "\n",
        "# Update function\n",
        "def growth_func3(t, pop, system):\n",
        "  if t < 1980:\n",
        "    return system.alpha1 * pop\n",
        "  if t >= 1980:\n",
        "    return system.alpha2 * pop\n",
        "\n",
        "# Test the function with made up values\n",
        "system.alpha1 = (26 - 7.7) / 1000\n",
        "system.alpha2 = (24 - 7.7) / 1000\n",
        "\n",
        "assert (growth_func3(1979, 100000, system) == 100000 * ((26 - 7.7) / 1000)) & (growth_func3(1980, 100000, system) == 100000 * ((24 - 7.7) / 1000))"
      ]
    },
    {
      "cell_type": "code",
      "execution_count": 23,
      "id": "headed-amsterdam",
      "metadata": {
        "colab": {
          "base_uri": "https://localhost:8080/",
          "height": 309
        },
        "id": "headed-amsterdam",
        "outputId": "5136a24c-0835-46e6-a0ac-62bea7d68c4b"
      },
      "outputs": [
        {
          "data": {
            "image/png": "[encoded data removed]",
            "text/plain": [
              "<Figure size 450x300 with 1 Axes>"
            ]
          },
          "metadata": {},
          "output_type": "display_data"
        }
      ],
      "source": [
        "# Solution goes here\n",
        "\n",
        "# Pass the update function to run_simulation\n",
        "\n",
        "results3 = run_simulation(system, growth_func3)\n",
        "\n",
        "results3.plot(label='model', color='gray')\n",
        "plot_estimates()\n",
        "decorate(title='Different Growth Rates Model')"
      ]
    },
    {
      "cell_type": "markdown",
      "id": "qdioWDB-xqpP",
      "metadata": {
        "id": "qdioWDB-xqpP"
      },
      "source": [
        "I will try to determine the optimal values for `alpha1` and `alpha2` by using for loops to try every value from .0001 to 0.1. I will calculate the error each year, and then the mean error over the time interval for each value of `alpha1`, then select the value of `alpha1` that results in the lowest mean error. Then I will do the same for `alpha2`."
      ]
    },
    {
      "cell_type": "code",
      "execution_count": 24,
      "id": "preliminary-carnival",
      "metadata": {
        "colab": {
          "base_uri": "https://localhost:8080/"
        },
        "id": "preliminary-carnival",
        "outputId": "ba3ee0ff-ac21-49e4-e7e6-acbe70410300"
      },
      "outputs": [
        {
          "name": "stdout",
          "output_type": "stream",
          "text": [
            "      alpha1  alpha2     error\n",
            "9037  0.0189  0.0148  0.057953\n"
          ]
        }
      ],
      "source": [
        "# Solution goes here\n",
        "\n",
        "import pandas as pd\n",
        "import numpy as np\n",
        "\n",
        "comparison_df = pd.concat([census, un], axis = 1)\n",
        "comparison_df['data_mean'] = (comparison_df.census + comparison_df.un) / 2\n",
        "\n",
        "alpha1_test, alpha2_test, overall_mean_error = [], [], []\n",
        "\n",
        "alpha1 = 0.01\n",
        "\n",
        "# Loop through every combination of alpha1 and alpha2\n",
        "while alpha1 <= 0.02:\n",
        "  alpha2 = 0.01\n",
        "  while alpha2 <= 0.02:\n",
        "\n",
        "    # Run the simulation with these values\n",
        "    system.alpha1 = alpha1\n",
        "    system.alpha2 = alpha2\n",
        "    results_loop = run_simulation(system, growth_func3)\n",
        "\n",
        "    # Evaluate the accuracy of the model by mean error\n",
        "    comparison_df['test_results'] = results_loop\n",
        "    comparison_df['test_error'] = comparison_df.test_results - comparison_df.data_mean\n",
        "    increment_error = np.mean(np.absolute(comparison_df.test_error))\n",
        "\n",
        "    # Store the values\n",
        "    alpha1_test.append(alpha1)\n",
        "    alpha2_test.append(alpha2)\n",
        "    overall_mean_error.append(increment_error)\n",
        "\n",
        "    alpha2 = alpha2 + 0.0001\n",
        "\n",
        "  alpha1 = alpha1 + 0.0001\n",
        "\n",
        "# Enter the values in a data frame\n",
        "loops_df = pd.DataFrame({'alpha1': alpha1_test,\n",
        "                         'alpha2': alpha2_test,\n",
        "                         'error': overall_mean_error})\n",
        "\n",
        "min_error = loops_df[loops_df['error'] == min(loops_df['error'])]\n",
        "print(min_error)"
      ]
    },
    {
      "cell_type": "markdown",
      "id": "nwGbUHFjWfLR",
      "metadata": {
        "id": "nwGbUHFjWfLR"
      },
      "source": [
        "**PLEASE NOTE:** This code was originally run with initial `alpha1` and `alpha2` values ranging from 0.0001 to 0.05. However, as this generates 250,000 iterations of the while loop, I have narrowed the range from 0.01 to 0.02 in this notebook to demonstrate the function without making the notebook take an inordinate amount of time to run."
      ]
    },
    {
      "cell_type": "markdown",
      "id": "RERoOhzokxBx",
      "metadata": {
        "id": "RERoOhzokxBx"
      },
      "source": [
        "The results of the code above are that an `alpha1` value of 0.0189 and an `alpha2` value of 0.0148 produce the most accurate model. This model is graphed below."
      ]
    },
    {
      "cell_type": "code",
      "execution_count": 25,
      "id": "FnGxi8yZlZs1",
      "metadata": {
        "colab": {
          "base_uri": "https://localhost:8080/",
          "height": 309
        },
        "id": "FnGxi8yZlZs1",
        "outputId": "a6a01443-9278-4555-cf96-065a62de64f3"
      },
      "outputs": [
        {
          "data": {
            "image/png": "[encoded data removed]",
            "text/plain": [
              "<Figure size 450x300 with 1 Axes>"
            ]
          },
          "metadata": {},
          "output_type": "display_data"
        }
      ],
      "source": [
        "system.alpha1 = 0.0189\n",
        "system.alpha2 = 0.0148\n",
        "\n",
        "results_final = run_simulation(system, growth_func3)\n",
        "\n",
        "results_final.plot(label='model', color='gray')\n",
        "plot_estimates()\n",
        "decorate(title='Best Growth Rates Model')"
      ]
    },
    {
      "cell_type": "markdown",
      "id": "-SN8SOpXlquk",
      "metadata": {
        "id": "-SN8SOpXlquk"
      },
      "source": [
        "Nailed it!"
      ]
    },
    {
      "cell_type": "markdown",
      "id": "adaptive-tiger",
      "metadata": {
        "id": "adaptive-tiger"
      },
      "source": [
        "## Under the Hood\n",
        "\n",
        "The `System` object defined in the ModSim library, is based on the `SimpleNamespace` object defined in a standard Python library called `types`; the documentation is at <https://docs.python.org/3.7/library/types.html#types.SimpleNamespace>."
      ]
    }
  ],
  "metadata": {
    "celltoolbar": "Tags",
    "colab": {
      "provenance": []
    },
    "kernelspec": {
      "display_name": "Python 3 (ipykernel)",
      "language": "python",
      "name": "python3"
    },
    "language_info": {
      "codemirror_mode": {
        "name": "ipython",
        "version": 3
      },
      "file_extension": ".py",
      "mimetype": "text/x-python",
      "name": "python",
      "nbconvert_exporter": "python",
      "pygments_lexer": "ipython3",
      "version": "3.11.1"
    }
  },
  "nbformat": 4,
  "nbformat_minor": 5
}
