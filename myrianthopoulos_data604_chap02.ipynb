{
  "cells": [
    {
      "cell_type": "markdown",
      "id": "victorian-latitude",
      "metadata": {
        "id": "victorian-latitude"
      },
      "source": [
        "# Bike Share System"
      ]
    },
    {
      "cell_type": "markdown",
      "id": "imported-table",
      "metadata": {
        "tags": [],
        "id": "imported-table"
      },
      "source": [
        "*Modeling and Simulation in Python*\n",
        "\n",
        "Copyright 2021 Allen Downey\n",
        "\n",
        "License: [Creative Commons Attribution-NonCommercial-ShareAlike 4.0 International](https://creativecommons.org/licenses/by-nc-sa/4.0/)"
      ]
    },
    {
      "cell_type": "code",
      "execution_count": null,
      "id": "electoral-turkey",
      "metadata": {
        "tags": [],
        "id": "electoral-turkey"
      },
      "outputs": [],
      "source": [
        "# install Pint if necessary\n",
        "\n",
        "try:\n",
        "    import pint\n",
        "except ImportError:\n",
        "    !pip install pint"
      ]
    },
    {
      "cell_type": "code",
      "execution_count": null,
      "id": "formal-context",
      "metadata": {
        "tags": [],
        "id": "formal-context"
      },
      "outputs": [],
      "source": [
        "# download modsim.py if necessary\n",
        "\n",
        "from os.path import basename, exists\n",
        "\n",
        "def download(url):\n",
        "    filename = basename(url)\n",
        "    if not exists(filename):\n",
        "        from urllib.request import urlretrieve\n",
        "        local, _ = urlretrieve(url, filename)\n",
        "        print('Downloaded ' + local)\n",
        "\n",
        "download('https://raw.githubusercontent.com/AllenDowney/' +\n",
        "         'ModSimPy/master/modsim.py')"
      ]
    },
    {
      "cell_type": "code",
      "execution_count": null,
      "id": "progressive-typing",
      "metadata": {
        "tags": [],
        "id": "progressive-typing"
      },
      "outputs": [],
      "source": [
        "# import functions from modsim\n",
        "\n",
        "from modsim import *"
      ]
    },
    {
      "cell_type": "markdown",
      "id": "unlimited-antenna",
      "metadata": {
        "id": "unlimited-antenna"
      },
      "source": [
        "This chapter presents a simple model of a bike share system and\n",
        "demonstrates the features of Python we'll use to develop simulations of real-world systems.\n",
        "\n",
        "Along the way, we'll make decisions about how to model the system. In\n",
        "the next chapter we'll review these decisions and gradually improve the model."
      ]
    },
    {
      "cell_type": "markdown",
      "id": "electronic-radius",
      "metadata": {
        "id": "electronic-radius"
      },
      "source": [
        "This chapter is available as a Jupyter notebook where you can read the text, run the code, and work on the exercises.\n",
        "Click here to access the notebooks: <https://allendowney.github.io/ModSimPy/>."
      ]
    },
    {
      "cell_type": "markdown",
      "id": "above-denial",
      "metadata": {
        "id": "above-denial"
      },
      "source": [
        "## Modeling a Bike Share System\n",
        "\n",
        "Imagine a bike share system for students traveling between Olin College and Wellesley College, which are about three miles apart in eastern Massachusetts.\n",
        "\n",
        "Suppose the system contains 12 bikes and two bike racks, one at Olin and one at Wellesley, each with the capacity to hold 12 bikes.\n",
        "\n",
        "As students arrive, check out a bike, and ride to the other campus, the number of bikes in each location changes. In the simulation, we'll need to keep track of where the bikes are. To do that, we'll use a function called `State`, which is defined in the ModSim library."
      ]
    },
    {
      "cell_type": "code",
      "execution_count": null,
      "id": "incorrect-comparison",
      "metadata": {
        "id": "incorrect-comparison"
      },
      "outputs": [],
      "source": [
        "bikeshare = State(olin=10, wellesley=2)"
      ]
    },
    {
      "cell_type": "markdown",
      "id": "living-wayne",
      "metadata": {
        "id": "living-wayne"
      },
      "source": [
        "The equations in parentheses create two variables, `olin` and `wellesley`, and give them the values `10` and `2`.\n",
        "The `State` function stores these variables and their values in a `State` object, which gets assigned to a new variable named `bikeshare`.\n",
        "\n",
        "Variables stored inside a `State` object are called *state variables*.\n",
        "In this example, the state variables represent the number of\n",
        "bikes at each location. Their values indicate that there are 10 bikes at Olin and 2 at Wellesley.\n",
        "\n",
        "The `State` object is assigned to a new variable named `bikeshare`.\n",
        "We can get the value of a variable in a `State` object using the *dot operator*, like this:"
      ]
    },
    {
      "cell_type": "code",
      "execution_count": null,
      "id": "brief-diversity",
      "metadata": {
        "id": "brief-diversity",
        "colab": {
          "base_uri": "https://localhost:8080/"
        },
        "outputId": "5a415109-e418-48f3-e8a2-2c6b266a7d2e"
      },
      "outputs": [
        {
          "output_type": "execute_result",
          "data": {
            "text/plain": [
              "10"
            ]
          },
          "metadata": {},
          "execution_count": 101
        }
      ],
      "source": [
        "bikeshare.olin"
      ]
    },
    {
      "cell_type": "markdown",
      "id": "intermediate-midwest",
      "metadata": {
        "id": "intermediate-midwest"
      },
      "source": [
        "And this:"
      ]
    },
    {
      "cell_type": "code",
      "execution_count": null,
      "id": "designed-brazilian",
      "metadata": {
        "id": "designed-brazilian",
        "colab": {
          "base_uri": "https://localhost:8080/"
        },
        "outputId": "89e32e7f-73b2-4b38-a91b-8bc423320928"
      },
      "outputs": [
        {
          "output_type": "execute_result",
          "data": {
            "text/plain": [
              "2"
            ]
          },
          "metadata": {},
          "execution_count": 102
        }
      ],
      "source": [
        "bikeshare.wellesley"
      ]
    },
    {
      "cell_type": "markdown",
      "id": "phantom-oklahoma",
      "metadata": {
        "id": "phantom-oklahoma"
      },
      "source": [
        "Or, to display all of the state variables and their values, you can enter just the name of the object:"
      ]
    },
    {
      "cell_type": "code",
      "execution_count": null,
      "id": "impaired-potter",
      "metadata": {
        "id": "impaired-potter",
        "colab": {
          "base_uri": "https://localhost:8080/"
        },
        "outputId": "2c10bf29-0032-441a-d169-6d3de6dc85be"
      },
      "outputs": [
        {
          "output_type": "execute_result",
          "data": {
            "text/plain": [
              "olin         10\n",
              "wellesley     2\n",
              "Name: state, dtype: int64"
            ]
          },
          "metadata": {},
          "execution_count": 103
        }
      ],
      "source": [
        "bikeshare"
      ]
    },
    {
      "cell_type": "markdown",
      "id": "vital-journal",
      "metadata": {
        "id": "vital-journal"
      },
      "source": [
        "These values make up the *state* of the system."
      ]
    },
    {
      "cell_type": "markdown",
      "id": "fleet-beijing",
      "metadata": {
        "tags": [],
        "id": "fleet-beijing"
      },
      "source": [
        "The ModSim library provides a function called `show` that displays a `State` object as a table."
      ]
    },
    {
      "cell_type": "code",
      "execution_count": null,
      "id": "basic-fabric",
      "metadata": {
        "tags": [],
        "id": "basic-fabric",
        "colab": {
          "base_uri": "https://localhost:8080/",
          "height": 112
        },
        "outputId": "537c29a4-c263-4a09-c7d7-bc98398741cc"
      },
      "outputs": [
        {
          "output_type": "execute_result",
          "data": {
            "text/plain": [
              "           state\n",
              "olin          10\n",
              "wellesley      2"
            ],
            "text/html": [
              "\n",
              "  <div id=\"df-2f3860ee-ae9e-4674-92a8-ebb6b8b686cc\" class=\"colab-df-container\">\n",
              "    <div>\n",
              "<style scoped>\n",
              "    .dataframe tbody tr th:only-of-type {\n",
              "        vertical-align: middle;\n",
              "    }\n",
              "\n",
              "    .dataframe tbody tr th {\n",
              "        vertical-align: top;\n",
              "    }\n",
              "\n",
              "    .dataframe thead th {\n",
              "        text-align: right;\n",
              "    }\n",
              "</style>\n",
              "<table border=\"1\" class=\"dataframe\">\n",
              "  <thead>\n",
              "    <tr style=\"text-align: right;\">\n",
              "      <th></th>\n",
              "      <th>state</th>\n",
              "    </tr>\n",
              "  </thead>\n",
              "  <tbody>\n",
              "    <tr>\n",
              "      <th>olin</th>\n",
              "      <td>10</td>\n",
              "    </tr>\n",
              "    <tr>\n",
              "      <th>wellesley</th>\n",
              "      <td>2</td>\n",
              "    </tr>\n",
              "  </tbody>\n",
              "</table>\n",
              "</div>\n",
              "    <div class=\"colab-df-buttons\">\n",
              "\n",
              "  <div class=\"colab-df-container\">\n",
              "    <button class=\"colab-df-convert\" onclick=\"convertToInteractive('df-2f3860ee-ae9e-4674-92a8-ebb6b8b686cc')\"\n",
              "            title=\"Convert this dataframe to an interactive table.\"\n",
              "            style=\"display:none;\">\n",
              "\n",
              "  <svg xmlns=\"http://www.w3.org/2000/svg\" height=\"24px\" viewBox=\"0 -960 960 960\">\n",
              "    <path d=\"M120-120v-720h720v720H120Zm60-500h600v-160H180v160Zm220 220h160v-160H400v160Zm0 220h160v-160H400v160ZM180-400h160v-160H180v160Zm440 0h160v-160H620v160ZM180-180h160v-160H180v160Zm440 0h160v-160H620v160Z\"/>\n",
              "  </svg>\n",
              "    </button>\n",
              "\n",
              "  <style>\n",
              "    .colab-df-container {\n",
              "      display:flex;\n",
              "      gap: 12px;\n",
              "    }\n",
              "\n",
              "    .colab-df-convert {\n",
              "      background-color: #E8F0FE;\n",
              "      border: none;\n",
              "      border-radius: 50%;\n",
              "      cursor: pointer;\n",
              "      display: none;\n",
              "      fill: #1967D2;\n",
              "      height: 32px;\n",
              "      padding: 0 0 0 0;\n",
              "      width: 32px;\n",
              "    }\n",
              "\n",
              "    .colab-df-convert:hover {\n",
              "      background-color: #E2EBFA;\n",
              "      box-shadow: 0px 1px 2px rgba(60, 64, 67, 0.3), 0px 1px 3px 1px rgba(60, 64, 67, 0.15);\n",
              "      fill: #174EA6;\n",
              "    }\n",
              "\n",
              "    .colab-df-buttons div {\n",
              "      margin-bottom: 4px;\n",
              "    }\n",
              "\n",
              "    [theme=dark] .colab-df-convert {\n",
              "      background-color: #3B4455;\n",
              "      fill: #D2E3FC;\n",
              "    }\n",
              "\n",
              "    [theme=dark] .colab-df-convert:hover {\n",
              "      background-color: #434B5C;\n",
              "      box-shadow: 0px 1px 3px 1px rgba(0, 0, 0, 0.15);\n",
              "      filter: drop-shadow(0px 1px 2px rgba(0, 0, 0, 0.3));\n",
              "      fill: #FFFFFF;\n",
              "    }\n",
              "  </style>\n",
              "\n",
              "    <script>\n",
              "      const buttonEl =\n",
              "        document.querySelector('#df-2f3860ee-ae9e-4674-92a8-ebb6b8b686cc button.colab-df-convert');\n",
              "      buttonEl.style.display =\n",
              "        google.colab.kernel.accessAllowed ? 'block' : 'none';\n",
              "\n",
              "      async function convertToInteractive(key) {\n",
              "        const element = document.querySelector('#df-2f3860ee-ae9e-4674-92a8-ebb6b8b686cc');\n",
              "        const dataTable =\n",
              "          await google.colab.kernel.invokeFunction('convertToInteractive',\n",
              "                                                    [key], {});\n",
              "        if (!dataTable) return;\n",
              "\n",
              "        const docLinkHtml = 'Like what you see? Visit the ' +\n",
              "          '<a target=\"_blank\" href=https://colab.research.google.com/notebooks/data_table.ipynb>data table notebook</a>'\n",
              "          + ' to learn more about interactive tables.';\n",
              "        element.innerHTML = '';\n",
              "        dataTable['output_type'] = 'display_data';\n",
              "        await google.colab.output.renderOutput(dataTable, element);\n",
              "        const docLink = document.createElement('div');\n",
              "        docLink.innerHTML = docLinkHtml;\n",
              "        element.appendChild(docLink);\n",
              "      }\n",
              "    </script>\n",
              "  </div>\n",
              "\n",
              "\n",
              "<div id=\"df-6a024563-98d1-44b4-925d-f64171d5182b\">\n",
              "  <button class=\"colab-df-quickchart\" onclick=\"quickchart('df-6a024563-98d1-44b4-925d-f64171d5182b')\"\n",
              "            title=\"Suggest charts\"\n",
              "            style=\"display:none;\">\n",
              "\n",
              "<svg xmlns=\"http://www.w3.org/2000/svg\" height=\"24px\"viewBox=\"0 0 24 24\"\n",
              "     width=\"24px\">\n",
              "    <g>\n",
              "        <path d=\"M19 3H5c-1.1 0-2 .9-2 2v14c0 1.1.9 2 2 2h14c1.1 0 2-.9 2-2V5c0-1.1-.9-2-2-2zM9 17H7v-7h2v7zm4 0h-2V7h2v10zm4 0h-2v-4h2v4z\"/>\n",
              "    </g>\n",
              "</svg>\n",
              "  </button>\n",
              "\n",
              "<style>\n",
              "  .colab-df-quickchart {\n",
              "      --bg-color: #E8F0FE;\n",
              "      --fill-color: #1967D2;\n",
              "      --hover-bg-color: #E2EBFA;\n",
              "      --hover-fill-color: #174EA6;\n",
              "      --disabled-fill-color: #AAA;\n",
              "      --disabled-bg-color: #DDD;\n",
              "  }\n",
              "\n",
              "  [theme=dark] .colab-df-quickchart {\n",
              "      --bg-color: #3B4455;\n",
              "      --fill-color: #D2E3FC;\n",
              "      --hover-bg-color: #434B5C;\n",
              "      --hover-fill-color: #FFFFFF;\n",
              "      --disabled-bg-color: #3B4455;\n",
              "      --disabled-fill-color: #666;\n",
              "  }\n",
              "\n",
              "  .colab-df-quickchart {\n",
              "    background-color: var(--bg-color);\n",
              "    border: none;\n",
              "    border-radius: 50%;\n",
              "    cursor: pointer;\n",
              "    display: none;\n",
              "    fill: var(--fill-color);\n",
              "    height: 32px;\n",
              "    padding: 0;\n",
              "    width: 32px;\n",
              "  }\n",
              "\n",
              "  .colab-df-quickchart:hover {\n",
              "    background-color: var(--hover-bg-color);\n",
              "    box-shadow: 0 1px 2px rgba(60, 64, 67, 0.3), 0 1px 3px 1px rgba(60, 64, 67, 0.15);\n",
              "    fill: var(--button-hover-fill-color);\n",
              "  }\n",
              "\n",
              "  .colab-df-quickchart-complete:disabled,\n",
              "  .colab-df-quickchart-complete:disabled:hover {\n",
              "    background-color: var(--disabled-bg-color);\n",
              "    fill: var(--disabled-fill-color);\n",
              "    box-shadow: none;\n",
              "  }\n",
              "\n",
              "  .colab-df-spinner {\n",
              "    border: 2px solid var(--fill-color);\n",
              "    border-color: transparent;\n",
              "    border-bottom-color: var(--fill-color);\n",
              "    animation:\n",
              "      spin 1s steps(1) infinite;\n",
              "  }\n",
              "\n",
              "  @keyframes spin {\n",
              "    0% {\n",
              "      border-color: transparent;\n",
              "      border-bottom-color: var(--fill-color);\n",
              "      border-left-color: var(--fill-color);\n",
              "    }\n",
              "    20% {\n",
              "      border-color: transparent;\n",
              "      border-left-color: var(--fill-color);\n",
              "      border-top-color: var(--fill-color);\n",
              "    }\n",
              "    30% {\n",
              "      border-color: transparent;\n",
              "      border-left-color: var(--fill-color);\n",
              "      border-top-color: var(--fill-color);\n",
              "      border-right-color: var(--fill-color);\n",
              "    }\n",
              "    40% {\n",
              "      border-color: transparent;\n",
              "      border-right-color: var(--fill-color);\n",
              "      border-top-color: var(--fill-color);\n",
              "    }\n",
              "    60% {\n",
              "      border-color: transparent;\n",
              "      border-right-color: var(--fill-color);\n",
              "    }\n",
              "    80% {\n",
              "      border-color: transparent;\n",
              "      border-right-color: var(--fill-color);\n",
              "      border-bottom-color: var(--fill-color);\n",
              "    }\n",
              "    90% {\n",
              "      border-color: transparent;\n",
              "      border-bottom-color: var(--fill-color);\n",
              "    }\n",
              "  }\n",
              "</style>\n",
              "\n",
              "  <script>\n",
              "    async function quickchart(key) {\n",
              "      const quickchartButtonEl =\n",
              "        document.querySelector('#' + key + ' button');\n",
              "      quickchartButtonEl.disabled = true;  // To prevent multiple clicks.\n",
              "      quickchartButtonEl.classList.add('colab-df-spinner');\n",
              "      try {\n",
              "        const charts = await google.colab.kernel.invokeFunction(\n",
              "            'suggestCharts', [key], {});\n",
              "      } catch (error) {\n",
              "        console.error('Error during call to suggestCharts:', error);\n",
              "      }\n",
              "      quickchartButtonEl.classList.remove('colab-df-spinner');\n",
              "      quickchartButtonEl.classList.add('colab-df-quickchart-complete');\n",
              "    }\n",
              "    (() => {\n",
              "      let quickchartButtonEl =\n",
              "        document.querySelector('#df-6a024563-98d1-44b4-925d-f64171d5182b button');\n",
              "      quickchartButtonEl.style.display =\n",
              "        google.colab.kernel.accessAllowed ? 'block' : 'none';\n",
              "    })();\n",
              "  </script>\n",
              "</div>\n",
              "\n",
              "    </div>\n",
              "  </div>\n"
            ],
            "application/vnd.google.colaboratory.intrinsic+json": {
              "type": "dataframe",
              "summary": "{\n  \"name\": \"show(bikeshare)\",\n  \"rows\": 2,\n  \"fields\": [\n    {\n      \"column\": \"state\",\n      \"properties\": {\n        \"dtype\": \"number\",\n        \"std\": 5,\n        \"min\": 2,\n        \"max\": 10,\n        \"num_unique_values\": 2,\n        \"samples\": [\n          2,\n          10\n        ],\n        \"semantic_type\": \"\",\n        \"description\": \"\"\n      }\n    }\n  ]\n}"
            }
          },
          "metadata": {},
          "execution_count": 104
        }
      ],
      "source": [
        "show(bikeshare)"
      ]
    },
    {
      "cell_type": "markdown",
      "id": "specified-definition",
      "metadata": {
        "tags": [],
        "id": "specified-definition"
      },
      "source": [
        "You don't have to use `show`, but I think the results look better."
      ]
    },
    {
      "cell_type": "markdown",
      "id": "delayed-ocean",
      "metadata": {
        "id": "delayed-ocean"
      },
      "source": [
        "We can update the state by assigning new values to the variables.\n",
        "For example, if a student moves a bike from Olin to Wellesley, we can figure out the new values and assign them:"
      ]
    },
    {
      "cell_type": "code",
      "execution_count": null,
      "id": "floppy-trainer",
      "metadata": {
        "id": "floppy-trainer"
      },
      "outputs": [],
      "source": [
        "bikeshare.olin = 9\n",
        "bikeshare.wellesley = 3"
      ]
    },
    {
      "cell_type": "markdown",
      "id": "natural-gossip",
      "metadata": {
        "id": "natural-gossip"
      },
      "source": [
        "Or we can use *update operators*, `-=` and `+=`, to subtract 1 from\n",
        "`olin` and add 1 to `wellesley`:"
      ]
    },
    {
      "cell_type": "code",
      "execution_count": null,
      "id": "hungarian-bride",
      "metadata": {
        "id": "hungarian-bride"
      },
      "outputs": [],
      "source": [
        "bikeshare.olin -= 1\n",
        "bikeshare.wellesley += 1"
      ]
    },
    {
      "cell_type": "markdown",
      "id": "radical-mills",
      "metadata": {
        "id": "radical-mills"
      },
      "source": [
        "The result is the same either way."
      ]
    },
    {
      "cell_type": "markdown",
      "id": "controversial-opportunity",
      "metadata": {
        "id": "controversial-opportunity"
      },
      "source": [
        "## Defining Functions\n",
        "\n",
        "So far we have used functions defined in NumPy and the ModSim library. Now we're going to define our own functions.\n",
        "\n",
        "When you are developing code in Jupyter, it is often efficient to write a few lines of code, test them to confirm they do what you intend, and then use them to define a new function. For example, these lines move a bike from Olin to Wellesley:"
      ]
    },
    {
      "cell_type": "code",
      "execution_count": null,
      "id": "vertical-drawing",
      "metadata": {
        "id": "vertical-drawing"
      },
      "outputs": [],
      "source": [
        "bikeshare.olin -= 1\n",
        "bikeshare.wellesley += 1"
      ]
    },
    {
      "cell_type": "markdown",
      "id": "approximate-rolling",
      "metadata": {
        "id": "approximate-rolling"
      },
      "source": [
        "Rather than repeat them every time a bike moves, we can define a new\n",
        "function:"
      ]
    },
    {
      "cell_type": "code",
      "execution_count": null,
      "id": "significant-nutrition",
      "metadata": {
        "id": "significant-nutrition"
      },
      "outputs": [],
      "source": [
        "def bike_to_wellesley():\n",
        "    bikeshare.olin -= 1\n",
        "    bikeshare.wellesley += 1"
      ]
    },
    {
      "cell_type": "markdown",
      "id": "generous-tracker",
      "metadata": {
        "id": "generous-tracker"
      },
      "source": [
        "`def` is a special word in Python that indicates we are defining a new\n",
        "function. The name of the function is `bike_to_wellesley`. The empty\n",
        "parentheses indicate that this function requires no additional\n",
        "information when it runs. The colon indicates the beginning of an\n",
        "indented *code block*.\n",
        "\n",
        "The next two lines are the *body* of the function. They have to be\n",
        "indented; by convention, the indentation is four spaces.\n",
        "\n",
        "When you define a function, it has no immediate effect. The body of the\n",
        "function doesn't run until you *call* the function. Here's how to call\n",
        "this function:"
      ]
    },
    {
      "cell_type": "code",
      "execution_count": null,
      "id": "moving-jurisdiction",
      "metadata": {
        "id": "moving-jurisdiction"
      },
      "outputs": [],
      "source": [
        "bike_to_wellesley()"
      ]
    },
    {
      "cell_type": "markdown",
      "id": "meaningful-christmas",
      "metadata": {
        "id": "meaningful-christmas"
      },
      "source": [
        "When you call the function, it runs the statements in the body, which\n",
        "update the variables of the `bikeshare` object; you can check by\n",
        "displaying the new state."
      ]
    },
    {
      "cell_type": "code",
      "execution_count": null,
      "id": "proper-symposium",
      "metadata": {
        "id": "proper-symposium",
        "colab": {
          "base_uri": "https://localhost:8080/",
          "height": 112
        },
        "outputId": "1e391a66-99d6-41b8-b5b5-5f0f4ca3d153"
      },
      "outputs": [
        {
          "output_type": "execute_result",
          "data": {
            "text/plain": [
              "           state\n",
              "olin           6\n",
              "wellesley      6"
            ],
            "text/html": [
              "\n",
              "  <div id=\"df-b0a88bf1-9e1a-4998-9ee1-b6fea5672a35\" class=\"colab-df-container\">\n",
              "    <div>\n",
              "<style scoped>\n",
              "    .dataframe tbody tr th:only-of-type {\n",
              "        vertical-align: middle;\n",
              "    }\n",
              "\n",
              "    .dataframe tbody tr th {\n",
              "        vertical-align: top;\n",
              "    }\n",
              "\n",
              "    .dataframe thead th {\n",
              "        text-align: right;\n",
              "    }\n",
              "</style>\n",
              "<table border=\"1\" class=\"dataframe\">\n",
              "  <thead>\n",
              "    <tr style=\"text-align: right;\">\n",
              "      <th></th>\n",
              "      <th>state</th>\n",
              "    </tr>\n",
              "  </thead>\n",
              "  <tbody>\n",
              "    <tr>\n",
              "      <th>olin</th>\n",
              "      <td>6</td>\n",
              "    </tr>\n",
              "    <tr>\n",
              "      <th>wellesley</th>\n",
              "      <td>6</td>\n",
              "    </tr>\n",
              "  </tbody>\n",
              "</table>\n",
              "</div>\n",
              "    <div class=\"colab-df-buttons\">\n",
              "\n",
              "  <div class=\"colab-df-container\">\n",
              "    <button class=\"colab-df-convert\" onclick=\"convertToInteractive('df-b0a88bf1-9e1a-4998-9ee1-b6fea5672a35')\"\n",
              "            title=\"Convert this dataframe to an interactive table.\"\n",
              "            style=\"display:none;\">\n",
              "\n",
              "  <svg xmlns=\"http://www.w3.org/2000/svg\" height=\"24px\" viewBox=\"0 -960 960 960\">\n",
              "    <path d=\"M120-120v-720h720v720H120Zm60-500h600v-160H180v160Zm220 220h160v-160H400v160Zm0 220h160v-160H400v160ZM180-400h160v-160H180v160Zm440 0h160v-160H620v160ZM180-180h160v-160H180v160Zm440 0h160v-160H620v160Z\"/>\n",
              "  </svg>\n",
              "    </button>\n",
              "\n",
              "  <style>\n",
              "    .colab-df-container {\n",
              "      display:flex;\n",
              "      gap: 12px;\n",
              "    }\n",
              "\n",
              "    .colab-df-convert {\n",
              "      background-color: #E8F0FE;\n",
              "      border: none;\n",
              "      border-radius: 50%;\n",
              "      cursor: pointer;\n",
              "      display: none;\n",
              "      fill: #1967D2;\n",
              "      height: 32px;\n",
              "      padding: 0 0 0 0;\n",
              "      width: 32px;\n",
              "    }\n",
              "\n",
              "    .colab-df-convert:hover {\n",
              "      background-color: #E2EBFA;\n",
              "      box-shadow: 0px 1px 2px rgba(60, 64, 67, 0.3), 0px 1px 3px 1px rgba(60, 64, 67, 0.15);\n",
              "      fill: #174EA6;\n",
              "    }\n",
              "\n",
              "    .colab-df-buttons div {\n",
              "      margin-bottom: 4px;\n",
              "    }\n",
              "\n",
              "    [theme=dark] .colab-df-convert {\n",
              "      background-color: #3B4455;\n",
              "      fill: #D2E3FC;\n",
              "    }\n",
              "\n",
              "    [theme=dark] .colab-df-convert:hover {\n",
              "      background-color: #434B5C;\n",
              "      box-shadow: 0px 1px 3px 1px rgba(0, 0, 0, 0.15);\n",
              "      filter: drop-shadow(0px 1px 2px rgba(0, 0, 0, 0.3));\n",
              "      fill: #FFFFFF;\n",
              "    }\n",
              "  </style>\n",
              "\n",
              "    <script>\n",
              "      const buttonEl =\n",
              "        document.querySelector('#df-b0a88bf1-9e1a-4998-9ee1-b6fea5672a35 button.colab-df-convert');\n",
              "      buttonEl.style.display =\n",
              "        google.colab.kernel.accessAllowed ? 'block' : 'none';\n",
              "\n",
              "      async function convertToInteractive(key) {\n",
              "        const element = document.querySelector('#df-b0a88bf1-9e1a-4998-9ee1-b6fea5672a35');\n",
              "        const dataTable =\n",
              "          await google.colab.kernel.invokeFunction('convertToInteractive',\n",
              "                                                    [key], {});\n",
              "        if (!dataTable) return;\n",
              "\n",
              "        const docLinkHtml = 'Like what you see? Visit the ' +\n",
              "          '<a target=\"_blank\" href=https://colab.research.google.com/notebooks/data_table.ipynb>data table notebook</a>'\n",
              "          + ' to learn more about interactive tables.';\n",
              "        element.innerHTML = '';\n",
              "        dataTable['output_type'] = 'display_data';\n",
              "        await google.colab.output.renderOutput(dataTable, element);\n",
              "        const docLink = document.createElement('div');\n",
              "        docLink.innerHTML = docLinkHtml;\n",
              "        element.appendChild(docLink);\n",
              "      }\n",
              "    </script>\n",
              "  </div>\n",
              "\n",
              "\n",
              "<div id=\"df-cd9a1b7e-d122-4af8-b0bd-c9b1f5a16419\">\n",
              "  <button class=\"colab-df-quickchart\" onclick=\"quickchart('df-cd9a1b7e-d122-4af8-b0bd-c9b1f5a16419')\"\n",
              "            title=\"Suggest charts\"\n",
              "            style=\"display:none;\">\n",
              "\n",
              "<svg xmlns=\"http://www.w3.org/2000/svg\" height=\"24px\"viewBox=\"0 0 24 24\"\n",
              "     width=\"24px\">\n",
              "    <g>\n",
              "        <path d=\"M19 3H5c-1.1 0-2 .9-2 2v14c0 1.1.9 2 2 2h14c1.1 0 2-.9 2-2V5c0-1.1-.9-2-2-2zM9 17H7v-7h2v7zm4 0h-2V7h2v10zm4 0h-2v-4h2v4z\"/>\n",
              "    </g>\n",
              "</svg>\n",
              "  </button>\n",
              "\n",
              "<style>\n",
              "  .colab-df-quickchart {\n",
              "      --bg-color: #E8F0FE;\n",
              "      --fill-color: #1967D2;\n",
              "      --hover-bg-color: #E2EBFA;\n",
              "      --hover-fill-color: #174EA6;\n",
              "      --disabled-fill-color: #AAA;\n",
              "      --disabled-bg-color: #DDD;\n",
              "  }\n",
              "\n",
              "  [theme=dark] .colab-df-quickchart {\n",
              "      --bg-color: #3B4455;\n",
              "      --fill-color: #D2E3FC;\n",
              "      --hover-bg-color: #434B5C;\n",
              "      --hover-fill-color: #FFFFFF;\n",
              "      --disabled-bg-color: #3B4455;\n",
              "      --disabled-fill-color: #666;\n",
              "  }\n",
              "\n",
              "  .colab-df-quickchart {\n",
              "    background-color: var(--bg-color);\n",
              "    border: none;\n",
              "    border-radius: 50%;\n",
              "    cursor: pointer;\n",
              "    display: none;\n",
              "    fill: var(--fill-color);\n",
              "    height: 32px;\n",
              "    padding: 0;\n",
              "    width: 32px;\n",
              "  }\n",
              "\n",
              "  .colab-df-quickchart:hover {\n",
              "    background-color: var(--hover-bg-color);\n",
              "    box-shadow: 0 1px 2px rgba(60, 64, 67, 0.3), 0 1px 3px 1px rgba(60, 64, 67, 0.15);\n",
              "    fill: var(--button-hover-fill-color);\n",
              "  }\n",
              "\n",
              "  .colab-df-quickchart-complete:disabled,\n",
              "  .colab-df-quickchart-complete:disabled:hover {\n",
              "    background-color: var(--disabled-bg-color);\n",
              "    fill: var(--disabled-fill-color);\n",
              "    box-shadow: none;\n",
              "  }\n",
              "\n",
              "  .colab-df-spinner {\n",
              "    border: 2px solid var(--fill-color);\n",
              "    border-color: transparent;\n",
              "    border-bottom-color: var(--fill-color);\n",
              "    animation:\n",
              "      spin 1s steps(1) infinite;\n",
              "  }\n",
              "\n",
              "  @keyframes spin {\n",
              "    0% {\n",
              "      border-color: transparent;\n",
              "      border-bottom-color: var(--fill-color);\n",
              "      border-left-color: var(--fill-color);\n",
              "    }\n",
              "    20% {\n",
              "      border-color: transparent;\n",
              "      border-left-color: var(--fill-color);\n",
              "      border-top-color: var(--fill-color);\n",
              "    }\n",
              "    30% {\n",
              "      border-color: transparent;\n",
              "      border-left-color: var(--fill-color);\n",
              "      border-top-color: var(--fill-color);\n",
              "      border-right-color: var(--fill-color);\n",
              "    }\n",
              "    40% {\n",
              "      border-color: transparent;\n",
              "      border-right-color: var(--fill-color);\n",
              "      border-top-color: var(--fill-color);\n",
              "    }\n",
              "    60% {\n",
              "      border-color: transparent;\n",
              "      border-right-color: var(--fill-color);\n",
              "    }\n",
              "    80% {\n",
              "      border-color: transparent;\n",
              "      border-right-color: var(--fill-color);\n",
              "      border-bottom-color: var(--fill-color);\n",
              "    }\n",
              "    90% {\n",
              "      border-color: transparent;\n",
              "      border-bottom-color: var(--fill-color);\n",
              "    }\n",
              "  }\n",
              "</style>\n",
              "\n",
              "  <script>\n",
              "    async function quickchart(key) {\n",
              "      const quickchartButtonEl =\n",
              "        document.querySelector('#' + key + ' button');\n",
              "      quickchartButtonEl.disabled = true;  // To prevent multiple clicks.\n",
              "      quickchartButtonEl.classList.add('colab-df-spinner');\n",
              "      try {\n",
              "        const charts = await google.colab.kernel.invokeFunction(\n",
              "            'suggestCharts', [key], {});\n",
              "      } catch (error) {\n",
              "        console.error('Error during call to suggestCharts:', error);\n",
              "      }\n",
              "      quickchartButtonEl.classList.remove('colab-df-spinner');\n",
              "      quickchartButtonEl.classList.add('colab-df-quickchart-complete');\n",
              "    }\n",
              "    (() => {\n",
              "      let quickchartButtonEl =\n",
              "        document.querySelector('#df-cd9a1b7e-d122-4af8-b0bd-c9b1f5a16419 button');\n",
              "      quickchartButtonEl.style.display =\n",
              "        google.colab.kernel.accessAllowed ? 'block' : 'none';\n",
              "    })();\n",
              "  </script>\n",
              "</div>\n",
              "\n",
              "    </div>\n",
              "  </div>\n"
            ],
            "application/vnd.google.colaboratory.intrinsic+json": {
              "type": "dataframe",
              "summary": "{\n  \"name\": \"show(bikeshare)\",\n  \"rows\": 2,\n  \"fields\": [\n    {\n      \"column\": \"state\",\n      \"properties\": {\n        \"dtype\": \"number\",\n        \"std\": 0,\n        \"min\": 6,\n        \"max\": 6,\n        \"num_unique_values\": 1,\n        \"samples\": [\n          6\n        ],\n        \"semantic_type\": \"\",\n        \"description\": \"\"\n      }\n    }\n  ]\n}"
            }
          },
          "metadata": {},
          "execution_count": 110
        }
      ],
      "source": [
        "show(bikeshare)"
      ]
    },
    {
      "cell_type": "markdown",
      "id": "eleven-brook",
      "metadata": {
        "id": "eleven-brook"
      },
      "source": [
        "When you call a function, you have to include the parentheses. If you\n",
        "leave them out, you get this:"
      ]
    },
    {
      "cell_type": "code",
      "execution_count": null,
      "id": "identical-yacht",
      "metadata": {
        "id": "identical-yacht",
        "colab": {
          "base_uri": "https://localhost:8080/",
          "height": 104
        },
        "outputId": "bfb9ea09-2efc-4075-833c-08fab93cc7e2"
      },
      "outputs": [
        {
          "output_type": "execute_result",
          "data": {
            "text/plain": [
              "<function __main__.bike_to_wellesley()>"
            ],
            "text/html": [
              "<div style=\"max-width:800px; border: 1px solid var(--colab-border-color);\"><style>\n",
              "      pre.function-repr-contents {\n",
              "        overflow-x: auto;\n",
              "        padding: 8px 12px;\n",
              "        max-height: 500px;\n",
              "      }\n",
              "\n",
              "      pre.function-repr-contents.function-repr-contents-collapsed {\n",
              "        cursor: pointer;\n",
              "        max-height: 100px;\n",
              "      }\n",
              "    </style>\n",
              "    <pre style=\"white-space: initial; background:\n",
              "         var(--colab-secondary-surface-color); padding: 8px 12px;\n",
              "         border-bottom: 1px solid var(--colab-border-color);\"><b>bike_to_wellesley</b><br/>def bike_to_wellesley()</pre><pre class=\"function-repr-contents function-repr-contents-collapsed\" style=\"\"><a class=\"filepath\" style=\"display:none\" href=\"#\">/content/&lt;ipython-input-108-0ba59ca0b597&gt;</a>&lt;no docstring&gt;</pre></div>"
            ]
          },
          "metadata": {},
          "execution_count": 111
        }
      ],
      "source": [
        "bike_to_wellesley"
      ]
    },
    {
      "cell_type": "markdown",
      "id": "premier-youth",
      "metadata": {
        "id": "premier-youth"
      },
      "source": [
        "This result indicates that `bike_to_wellesley` is a function. You don't have to know what `__main__` means, but if you see something like this, it probably means that you named a function but didn't actually call it.\n",
        "So don't forget the parentheses."
      ]
    },
    {
      "cell_type": "markdown",
      "id": "brazilian-medicare",
      "metadata": {
        "id": "brazilian-medicare"
      },
      "source": [
        "## Print Statements\n",
        "\n",
        "As you write more complicated programs, it is easy to lose track of what\n",
        "is going on. One of the most useful tools for debugging is the *print statement*, which displays text in the Jupyter notebook.\n",
        "\n",
        "Normally when Jupyter runs the code in a cell, it displays the value of\n",
        "the last line of code. For example, if you run:"
      ]
    },
    {
      "cell_type": "code",
      "execution_count": null,
      "id": "heavy-patrol",
      "metadata": {
        "id": "heavy-patrol",
        "colab": {
          "base_uri": "https://localhost:8080/"
        },
        "outputId": "37ed49d1-ec19-42b9-af8b-b86a29f72353"
      },
      "outputs": [
        {
          "output_type": "execute_result",
          "data": {
            "text/plain": [
              "6"
            ]
          },
          "metadata": {},
          "execution_count": 112
        }
      ],
      "source": [
        "bikeshare.olin\n",
        "bikeshare.wellesley"
      ]
    },
    {
      "cell_type": "markdown",
      "id": "ancient-projection",
      "metadata": {
        "id": "ancient-projection"
      },
      "source": [
        "Jupyter runs both lines, but it only displays the value of the\n",
        "second. If you want to display more than one value, you can use\n",
        "print statements:"
      ]
    },
    {
      "cell_type": "code",
      "execution_count": null,
      "id": "french-preference",
      "metadata": {
        "id": "french-preference",
        "colab": {
          "base_uri": "https://localhost:8080/"
        },
        "outputId": "736edd66-9204-4a3d-a8b9-5fb841faeee2"
      },
      "outputs": [
        {
          "output_type": "stream",
          "name": "stdout",
          "text": [
            "6\n",
            "6\n"
          ]
        }
      ],
      "source": [
        "print(bikeshare.olin)\n",
        "print(bikeshare.wellesley)"
      ]
    },
    {
      "cell_type": "markdown",
      "id": "original-hollywood",
      "metadata": {
        "id": "original-hollywood"
      },
      "source": [
        "When you call the `print` function, you can put a variable in\n",
        "parentheses, as in the previous example, or you can provide a sequence\n",
        "of variables separated by commas, like this:"
      ]
    },
    {
      "cell_type": "code",
      "execution_count": null,
      "id": "alternative-keyboard",
      "metadata": {
        "id": "alternative-keyboard",
        "colab": {
          "base_uri": "https://localhost:8080/"
        },
        "outputId": "6d7762a7-c4d0-4567-b46e-e79fd1ad629f"
      },
      "outputs": [
        {
          "output_type": "stream",
          "name": "stdout",
          "text": [
            "6 6\n"
          ]
        }
      ],
      "source": [
        "print(bikeshare.olin, bikeshare.wellesley)"
      ]
    },
    {
      "cell_type": "markdown",
      "id": "described-produce",
      "metadata": {
        "id": "described-produce"
      },
      "source": [
        "Python looks up the values of the variables and displays them; in this\n",
        "example, it displays two values on the same line, with a space between\n",
        "them.\n",
        "\n",
        "Print statements are useful for debugging functions. For example, we can\n",
        "add a print statement to `bike_to_wellesley`, like this:"
      ]
    },
    {
      "cell_type": "code",
      "execution_count": null,
      "id": "robust-holly",
      "metadata": {
        "id": "robust-holly"
      },
      "outputs": [],
      "source": [
        "def bike_to_wellesley():\n",
        "    print('Moving a bike to Wellesley')\n",
        "    bikeshare.olin -= 1\n",
        "    bikeshare.wellesley += 1"
      ]
    },
    {
      "cell_type": "markdown",
      "id": "vital-lender",
      "metadata": {
        "id": "vital-lender"
      },
      "source": [
        "Each time we call this version of the function, it displays a message,\n",
        "which can help us keep track of what the program is doing.\n",
        "The message in this example is a *string*, which is a sequence of\n",
        "letters and other symbols in quotes.\n",
        "\n",
        "Just like `bike_to_wellesley`, we can define a function that moves a\n",
        "bike from Wellesley to Olin:"
      ]
    },
    {
      "cell_type": "code",
      "execution_count": null,
      "id": "fifteen-atmosphere",
      "metadata": {
        "id": "fifteen-atmosphere"
      },
      "outputs": [],
      "source": [
        "def bike_to_olin():\n",
        "    print('Moving a bike to Olin')\n",
        "    bikeshare.wellesley -= 1\n",
        "    bikeshare.olin += 1"
      ]
    },
    {
      "cell_type": "markdown",
      "id": "requested-glasgow",
      "metadata": {
        "id": "requested-glasgow"
      },
      "source": [
        "And call it like this:"
      ]
    },
    {
      "cell_type": "code",
      "execution_count": null,
      "id": "matched-narrow",
      "metadata": {
        "id": "matched-narrow",
        "colab": {
          "base_uri": "https://localhost:8080/"
        },
        "outputId": "bb64161a-7154-4947-f481-e9932c693a62"
      },
      "outputs": [
        {
          "output_type": "stream",
          "name": "stdout",
          "text": [
            "Moving a bike to Olin\n"
          ]
        }
      ],
      "source": [
        "bike_to_olin()"
      ]
    },
    {
      "cell_type": "markdown",
      "id": "sitting-semiconductor",
      "metadata": {
        "id": "sitting-semiconductor"
      },
      "source": [
        "One benefit of defining functions is that you avoid repeating chunks of\n",
        "code, which makes programs smaller. Another benefit is that the name you\n",
        "give the function documents what it does, which makes programs more\n",
        "readable."
      ]
    },
    {
      "cell_type": "markdown",
      "id": "enhanced-maintenance",
      "metadata": {
        "id": "enhanced-maintenance"
      },
      "source": [
        "## If Statements\n",
        "\n",
        "At this point we have functions that simulate moving bikes; now let's think about simulating customers. As a simple model of customer behavior, I will use a random number generator to determine when customers arrive at each station.\n",
        "\n",
        "The ModSim library provides a function called `flip` that generates random \"coin tosses\".\n",
        "When you call it, you provide a probability between 0 and 1, like this:"
      ]
    },
    {
      "cell_type": "code",
      "execution_count": null,
      "id": "29c1f41a",
      "metadata": {
        "tags": [],
        "id": "29c1f41a"
      },
      "outputs": [],
      "source": [
        "# this line sets the random number generator so the results in\n",
        "# the book are the same every time we run it\n",
        "np.random.seed(17)"
      ]
    },
    {
      "cell_type": "code",
      "execution_count": null,
      "id": "illegal-metropolitan",
      "metadata": {
        "id": "illegal-metropolitan",
        "colab": {
          "base_uri": "https://localhost:8080/"
        },
        "outputId": "55eae73f-8fde-4c3c-afe6-c405a5443917"
      },
      "outputs": [
        {
          "output_type": "execute_result",
          "data": {
            "text/plain": [
              "True"
            ]
          },
          "metadata": {},
          "execution_count": 119
        }
      ],
      "source": [
        "flip(0.7)"
      ]
    },
    {
      "cell_type": "markdown",
      "id": "appropriate-funds",
      "metadata": {
        "id": "appropriate-funds"
      },
      "source": [
        "The result is one of two values: `True` with probability 0.7 (in this example) or `False`\n",
        "with probability 0.3. If you run `flip` like this 100 times, you should\n",
        "get `True` about 70 times and `False` about 30 times. But the results\n",
        "are random, so they might differ from these expectations.\n",
        "\n",
        "`True` and `False` are special values defined by Python.\n",
        "They are called *boolean* values because they are\n",
        "related to Boolean algebra (<https://modsimpy.com/boolean>).\n",
        "\n",
        "Note that they are not strings. There is a difference between `True`, which is a boolean value, and `'True'`, which is a string.\n",
        "\n",
        "We can use boolean values to control the behavior of the program, using an *if statement*:"
      ]
    },
    {
      "cell_type": "code",
      "execution_count": null,
      "id": "excessive-murder",
      "metadata": {
        "id": "excessive-murder"
      },
      "outputs": [],
      "source": [
        "if flip(0.5):\n",
        "    print('heads')"
      ]
    },
    {
      "cell_type": "markdown",
      "id": "seventh-profile",
      "metadata": {
        "id": "seventh-profile"
      },
      "source": [
        "If the result from `flip` is `True`, the program displays the string\n",
        "`'heads'`. Otherwise it does nothing.\n",
        "\n",
        "The syntax for `if` statements is similar to the syntax for\n",
        "function definitions: the first line has to end with a colon, and the\n",
        "lines inside the `if` statement have to be indented.\n",
        "\n",
        "Optionally, you can add an *else clause* to indicate what should\n",
        "happen if the result is `False`:"
      ]
    },
    {
      "cell_type": "code",
      "execution_count": null,
      "id": "fundamental-nursing",
      "metadata": {
        "id": "fundamental-nursing",
        "colab": {
          "base_uri": "https://localhost:8080/"
        },
        "outputId": "72c06921-5df5-46ff-8519-265ee80bb26d"
      },
      "outputs": [
        {
          "output_type": "stream",
          "name": "stdout",
          "text": [
            "heads\n"
          ]
        }
      ],
      "source": [
        "if flip(0.5):\n",
        "    print('heads')\n",
        "else:\n",
        "    print('tails')"
      ]
    },
    {
      "cell_type": "markdown",
      "id": "recovered-chemical",
      "metadata": {
        "id": "recovered-chemical"
      },
      "source": [
        "If you run the previous cell a few times, it should print `heads` about half the time, and `tails` about half the time.\n",
        "\n",
        "Now we can use `flip` to simulate the arrival of customers who want to\n",
        "borrow a bike. Suppose students arrive at the Olin station every two\n",
        "minutes on average.\n",
        "In that case, the chance of an arrival during any one-minute period is 50%, and we can simulate it like this:"
      ]
    },
    {
      "cell_type": "code",
      "execution_count": null,
      "id": "twenty-health",
      "metadata": {
        "id": "twenty-health",
        "colab": {
          "base_uri": "https://localhost:8080/"
        },
        "outputId": "d65d6035-9d63-4f7e-b6c2-74f5b02dbe39"
      },
      "outputs": [
        {
          "output_type": "stream",
          "name": "stdout",
          "text": [
            "Moving a bike to Wellesley\n"
          ]
        }
      ],
      "source": [
        "if flip(0.5):\n",
        "    bike_to_wellesley()"
      ]
    },
    {
      "cell_type": "markdown",
      "id": "difficult-construction",
      "metadata": {
        "id": "difficult-construction"
      },
      "source": [
        "If students arrive at the Wellesley station every three minutes, on average,\n",
        "the chance of an arrival during any one-minute period is 33%, and we can\n",
        "simulate it like this:"
      ]
    },
    {
      "cell_type": "code",
      "execution_count": null,
      "id": "played-character",
      "metadata": {
        "id": "played-character"
      },
      "outputs": [],
      "source": [
        "if flip(0.33):\n",
        "    bike_to_olin()"
      ]
    },
    {
      "cell_type": "markdown",
      "id": "standard-party",
      "metadata": {
        "id": "standard-party"
      },
      "source": [
        "We can combine these snippets into a function that simulates a *time step*, which is an interval of time, in this case one minute:"
      ]
    },
    {
      "cell_type": "code",
      "execution_count": null,
      "id": "ecological-colon",
      "metadata": {
        "id": "ecological-colon"
      },
      "outputs": [],
      "source": [
        "def step():\n",
        "    if flip(0.5):\n",
        "        bike_to_wellesley()\n",
        "\n",
        "    if flip(0.33):\n",
        "        bike_to_olin()"
      ]
    },
    {
      "cell_type": "markdown",
      "id": "amateur-exposure",
      "metadata": {
        "id": "amateur-exposure"
      },
      "source": [
        "Then we can simulate a time step like this:"
      ]
    },
    {
      "cell_type": "code",
      "execution_count": null,
      "id": "mediterranean-german",
      "metadata": {
        "id": "mediterranean-german"
      },
      "outputs": [],
      "source": [
        "step()"
      ]
    },
    {
      "cell_type": "markdown",
      "id": "sought-mobile",
      "metadata": {
        "id": "sought-mobile"
      },
      "source": [
        "Depending on the results from `flip`, this function might move a bike to Olin, or to Wellesley, or neither, or both."
      ]
    },
    {
      "cell_type": "markdown",
      "id": "organic-proportion",
      "metadata": {
        "id": "organic-proportion"
      },
      "source": [
        "## Parameters\n",
        "\n",
        "The previous version of `step` is fine if the arrival probabilities\n",
        "never change, but in reality they vary over time.\n",
        "\n",
        "So instead of putting the constant values 0.5 and 0.33 in `step`, we can replace them with *parameters*.\n",
        "Parameters are variables whose values are set when a function is called.\n",
        "\n",
        "Here's a version of `step` that takes two parameters, `p1` and `p2`:"
      ]
    },
    {
      "cell_type": "code",
      "execution_count": null,
      "id": "hollywood-shopping",
      "metadata": {
        "id": "hollywood-shopping"
      },
      "outputs": [],
      "source": [
        "def step(p1, p2):\n",
        "    if flip(p1):\n",
        "        bike_to_wellesley()\n",
        "\n",
        "    if flip(p2):\n",
        "        bike_to_olin()"
      ]
    },
    {
      "cell_type": "markdown",
      "id": "encouraging-arkansas",
      "metadata": {
        "id": "encouraging-arkansas"
      },
      "source": [
        "The values of `p1` and `p2` are not set inside this function; instead,\n",
        "they are provided when the function is called, like this:"
      ]
    },
    {
      "cell_type": "code",
      "execution_count": null,
      "id": "buried-alert",
      "metadata": {
        "id": "buried-alert",
        "colab": {
          "base_uri": "https://localhost:8080/"
        },
        "outputId": "2174bb8b-398b-47cd-8594-6935845b536a"
      },
      "outputs": [
        {
          "output_type": "stream",
          "name": "stdout",
          "text": [
            "Moving a bike to Olin\n"
          ]
        }
      ],
      "source": [
        "step(0.5, 0.33)"
      ]
    },
    {
      "cell_type": "markdown",
      "id": "aggregate-dynamics",
      "metadata": {
        "id": "aggregate-dynamics"
      },
      "source": [
        "The values you provide when you call the function are called\n",
        "*arguments*. The arguments, `0.5` and `0.33` in this example, get\n",
        "assigned to the parameters, `p1` and `p2`, in order. So running this\n",
        "function has the same effect as:"
      ]
    },
    {
      "cell_type": "code",
      "execution_count": null,
      "id": "recognized-denmark",
      "metadata": {
        "id": "recognized-denmark",
        "colab": {
          "base_uri": "https://localhost:8080/"
        },
        "outputId": "f4e11514-ebb7-4b4c-f997-f5a1ef8cd998"
      },
      "outputs": [
        {
          "output_type": "stream",
          "name": "stdout",
          "text": [
            "Moving a bike to Wellesley\n"
          ]
        }
      ],
      "source": [
        "p1 = 0.5\n",
        "p2 = 0.33\n",
        "\n",
        "if flip(p1):\n",
        "    bike_to_wellesley()\n",
        "\n",
        "if flip(p2):\n",
        "    bike_to_olin()"
      ]
    },
    {
      "cell_type": "markdown",
      "id": "raised-museum",
      "metadata": {
        "id": "raised-museum"
      },
      "source": [
        "The advantage of using parameters is that you can call the same function many times, providing different arguments each time.\n",
        "\n",
        "Adding parameters to a function is called *generalization*, because it makes the function more general; without parameters, the function always does the same thing; with parameters, it can do a range of things."
      ]
    },
    {
      "cell_type": "markdown",
      "id": "scenic-african",
      "metadata": {
        "id": "scenic-african"
      },
      "source": [
        "## For Loops\n",
        "\n",
        "At some point you will get sick of running cells over and over.\n",
        "Fortunately, there is an easy way to repeat a chunk of code, the *for loop*. Here's an example:"
      ]
    },
    {
      "cell_type": "code",
      "execution_count": null,
      "id": "polish-river",
      "metadata": {
        "id": "polish-river",
        "colab": {
          "base_uri": "https://localhost:8080/"
        },
        "outputId": "489d73bc-badb-41d7-945f-f410c018d03d"
      },
      "outputs": [
        {
          "output_type": "stream",
          "name": "stdout",
          "text": [
            "0\n",
            "Moving a bike to Wellesley\n",
            "1\n",
            "Moving a bike to Wellesley\n",
            "2\n",
            "Moving a bike to Wellesley\n"
          ]
        }
      ],
      "source": [
        "for i in range(3):\n",
        "    print(i)\n",
        "    bike_to_wellesley()"
      ]
    },
    {
      "cell_type": "markdown",
      "id": "compatible-conspiracy",
      "metadata": {
        "id": "compatible-conspiracy"
      },
      "source": [
        "The syntax here should look familiar; the first line ends with a\n",
        "colon, and the lines inside the `for` loop are indented. The other\n",
        "elements of the loop are:\n",
        "\n",
        "-   The words `for` and `in` are special words we have to use in a for\n",
        "    loop.\n",
        "\n",
        "-   `range` is a Python function we use to control the number of times the loop runs.\n",
        "\n",
        "-   `i` is a *loop variable* that gets created when the for loop runs.\n",
        "\n",
        "When this loop runs, it runs the statements inside the loop three times.  The first time, the value of `i` is `0`; the second time, it is `1`; the third time, it is `2`.\n",
        "\n",
        "Each time through the loop, it prints the value of `i` and moves one bike to Wellesley."
      ]
    },
    {
      "cell_type": "markdown",
      "id": "breeding-groove",
      "metadata": {
        "id": "breeding-groove"
      },
      "source": [
        "## TimeSeries\n",
        "\n",
        "When we run a simulation, we often want to save the results for later analysis. The ModSim library provides a `TimeSeries` object for this purpose. A `TimeSeries` contains a sequence of timestamps and a\n",
        "corresponding sequence of quantities.\n",
        "\n",
        "In this example, the timestamps are integers representing minutes and the quantities are the number of bikes at one location.\n",
        "\n",
        "Since we have moved a number of bikes around, let's start again with a new `State` object."
      ]
    },
    {
      "cell_type": "code",
      "execution_count": null,
      "id": "every-consultation",
      "metadata": {
        "id": "every-consultation"
      },
      "outputs": [],
      "source": [
        "bikeshare = State(olin=10, wellesley=2)"
      ]
    },
    {
      "cell_type": "markdown",
      "id": "cross-sharp",
      "metadata": {
        "id": "cross-sharp"
      },
      "source": [
        "We can create a new, empty `TimeSeries` like this:"
      ]
    },
    {
      "cell_type": "code",
      "execution_count": null,
      "id": "changing-planet",
      "metadata": {
        "id": "changing-planet"
      },
      "outputs": [],
      "source": [
        "results = TimeSeries()"
      ]
    },
    {
      "cell_type": "markdown",
      "id": "attractive-revision",
      "metadata": {
        "id": "attractive-revision"
      },
      "source": [
        "And we can add a quantity like this:"
      ]
    },
    {
      "cell_type": "code",
      "execution_count": null,
      "id": "aquatic-richardson",
      "metadata": {
        "id": "aquatic-richardson"
      },
      "outputs": [],
      "source": [
        "results[0] = bikeshare.olin"
      ]
    },
    {
      "cell_type": "markdown",
      "id": "searching-funeral",
      "metadata": {
        "id": "searching-funeral"
      },
      "source": [
        "The number in brackets is the timestamp, also called a *label*.\n",
        "\n",
        "We can use a `TimeSeries` inside a for loop to store the results of the simulation:"
      ]
    },
    {
      "cell_type": "code",
      "execution_count": null,
      "id": "english-titanium",
      "metadata": {
        "id": "english-titanium",
        "colab": {
          "base_uri": "https://localhost:8080/"
        },
        "outputId": "874a42f4-a9e6-4851-91f4-d16986686d23"
      },
      "outputs": [
        {
          "output_type": "stream",
          "name": "stdout",
          "text": [
            "0\n",
            "Moving a bike to Wellesley\n",
            "1\n",
            "Moving a bike to Olin\n",
            "2\n",
            "Moving a bike to Olin\n"
          ]
        }
      ],
      "source": [
        "for i in range(3):\n",
        "    print(i)\n",
        "    step(0.6, 0.6)\n",
        "    results[i+1] = bikeshare.olin"
      ]
    },
    {
      "cell_type": "markdown",
      "id": "prospective-joining",
      "metadata": {
        "id": "prospective-joining"
      },
      "source": [
        "Each time through the loop, we print the value of `i` and call `step`, which updates `bikeshare`.\n",
        "Then we store the number of bikes at Olin in `results`.\n",
        "We use the loop variable, `i`, to compute the timestamp, `i+1`.\n",
        "\n",
        "The first time through the loop, the value of `i` is `0`, so the timestamp is `1`.\n",
        "The last time, the value of `i` is `2`, so the timestamp is `3`.\n",
        "\n",
        "When the loop exits, `results` contains 4 timestamps, from 0 through\n",
        "3, and the number of bikes at Olin at the end of each time step.\n",
        "\n",
        "We can display the `TimeSeries` like this:"
      ]
    },
    {
      "cell_type": "code",
      "execution_count": null,
      "id": "indonesian-singing",
      "metadata": {
        "id": "indonesian-singing",
        "colab": {
          "base_uri": "https://localhost:8080/",
          "height": 206
        },
        "outputId": "593f1caf-c764-4864-8318-0bb39834275f"
      },
      "outputs": [
        {
          "output_type": "execute_result",
          "data": {
            "text/plain": [
              "      Quantity\n",
              "Time          \n",
              "0           10\n",
              "1            9\n",
              "2           10\n",
              "3           11"
            ],
            "text/html": [
              "\n",
              "  <div id=\"df-e2207ae9-4254-457d-bb1f-51e6bf51d419\" class=\"colab-df-container\">\n",
              "    <div>\n",
              "<style scoped>\n",
              "    .dataframe tbody tr th:only-of-type {\n",
              "        vertical-align: middle;\n",
              "    }\n",
              "\n",
              "    .dataframe tbody tr th {\n",
              "        vertical-align: top;\n",
              "    }\n",
              "\n",
              "    .dataframe thead th {\n",
              "        text-align: right;\n",
              "    }\n",
              "</style>\n",
              "<table border=\"1\" class=\"dataframe\">\n",
              "  <thead>\n",
              "    <tr style=\"text-align: right;\">\n",
              "      <th></th>\n",
              "      <th>Quantity</th>\n",
              "    </tr>\n",
              "    <tr>\n",
              "      <th>Time</th>\n",
              "      <th></th>\n",
              "    </tr>\n",
              "  </thead>\n",
              "  <tbody>\n",
              "    <tr>\n",
              "      <th>0</th>\n",
              "      <td>10</td>\n",
              "    </tr>\n",
              "    <tr>\n",
              "      <th>1</th>\n",
              "      <td>9</td>\n",
              "    </tr>\n",
              "    <tr>\n",
              "      <th>2</th>\n",
              "      <td>10</td>\n",
              "    </tr>\n",
              "    <tr>\n",
              "      <th>3</th>\n",
              "      <td>11</td>\n",
              "    </tr>\n",
              "  </tbody>\n",
              "</table>\n",
              "</div>\n",
              "    <div class=\"colab-df-buttons\">\n",
              "\n",
              "  <div class=\"colab-df-container\">\n",
              "    <button class=\"colab-df-convert\" onclick=\"convertToInteractive('df-e2207ae9-4254-457d-bb1f-51e6bf51d419')\"\n",
              "            title=\"Convert this dataframe to an interactive table.\"\n",
              "            style=\"display:none;\">\n",
              "\n",
              "  <svg xmlns=\"http://www.w3.org/2000/svg\" height=\"24px\" viewBox=\"0 -960 960 960\">\n",
              "    <path d=\"M120-120v-720h720v720H120Zm60-500h600v-160H180v160Zm220 220h160v-160H400v160Zm0 220h160v-160H400v160ZM180-400h160v-160H180v160Zm440 0h160v-160H620v160ZM180-180h160v-160H180v160Zm440 0h160v-160H620v160Z\"/>\n",
              "  </svg>\n",
              "    </button>\n",
              "\n",
              "  <style>\n",
              "    .colab-df-container {\n",
              "      display:flex;\n",
              "      gap: 12px;\n",
              "    }\n",
              "\n",
              "    .colab-df-convert {\n",
              "      background-color: #E8F0FE;\n",
              "      border: none;\n",
              "      border-radius: 50%;\n",
              "      cursor: pointer;\n",
              "      display: none;\n",
              "      fill: #1967D2;\n",
              "      height: 32px;\n",
              "      padding: 0 0 0 0;\n",
              "      width: 32px;\n",
              "    }\n",
              "\n",
              "    .colab-df-convert:hover {\n",
              "      background-color: #E2EBFA;\n",
              "      box-shadow: 0px 1px 2px rgba(60, 64, 67, 0.3), 0px 1px 3px 1px rgba(60, 64, 67, 0.15);\n",
              "      fill: #174EA6;\n",
              "    }\n",
              "\n",
              "    .colab-df-buttons div {\n",
              "      margin-bottom: 4px;\n",
              "    }\n",
              "\n",
              "    [theme=dark] .colab-df-convert {\n",
              "      background-color: #3B4455;\n",
              "      fill: #D2E3FC;\n",
              "    }\n",
              "\n",
              "    [theme=dark] .colab-df-convert:hover {\n",
              "      background-color: #434B5C;\n",
              "      box-shadow: 0px 1px 3px 1px rgba(0, 0, 0, 0.15);\n",
              "      filter: drop-shadow(0px 1px 2px rgba(0, 0, 0, 0.3));\n",
              "      fill: #FFFFFF;\n",
              "    }\n",
              "  </style>\n",
              "\n",
              "    <script>\n",
              "      const buttonEl =\n",
              "        document.querySelector('#df-e2207ae9-4254-457d-bb1f-51e6bf51d419 button.colab-df-convert');\n",
              "      buttonEl.style.display =\n",
              "        google.colab.kernel.accessAllowed ? 'block' : 'none';\n",
              "\n",
              "      async function convertToInteractive(key) {\n",
              "        const element = document.querySelector('#df-e2207ae9-4254-457d-bb1f-51e6bf51d419');\n",
              "        const dataTable =\n",
              "          await google.colab.kernel.invokeFunction('convertToInteractive',\n",
              "                                                    [key], {});\n",
              "        if (!dataTable) return;\n",
              "\n",
              "        const docLinkHtml = 'Like what you see? Visit the ' +\n",
              "          '<a target=\"_blank\" href=https://colab.research.google.com/notebooks/data_table.ipynb>data table notebook</a>'\n",
              "          + ' to learn more about interactive tables.';\n",
              "        element.innerHTML = '';\n",
              "        dataTable['output_type'] = 'display_data';\n",
              "        await google.colab.output.renderOutput(dataTable, element);\n",
              "        const docLink = document.createElement('div');\n",
              "        docLink.innerHTML = docLinkHtml;\n",
              "        element.appendChild(docLink);\n",
              "      }\n",
              "    </script>\n",
              "  </div>\n",
              "\n",
              "\n",
              "<div id=\"df-6127fcde-d715-4459-a624-53d6510bf13b\">\n",
              "  <button class=\"colab-df-quickchart\" onclick=\"quickchart('df-6127fcde-d715-4459-a624-53d6510bf13b')\"\n",
              "            title=\"Suggest charts\"\n",
              "            style=\"display:none;\">\n",
              "\n",
              "<svg xmlns=\"http://www.w3.org/2000/svg\" height=\"24px\"viewBox=\"0 0 24 24\"\n",
              "     width=\"24px\">\n",
              "    <g>\n",
              "        <path d=\"M19 3H5c-1.1 0-2 .9-2 2v14c0 1.1.9 2 2 2h14c1.1 0 2-.9 2-2V5c0-1.1-.9-2-2-2zM9 17H7v-7h2v7zm4 0h-2V7h2v10zm4 0h-2v-4h2v4z\"/>\n",
              "    </g>\n",
              "</svg>\n",
              "  </button>\n",
              "\n",
              "<style>\n",
              "  .colab-df-quickchart {\n",
              "      --bg-color: #E8F0FE;\n",
              "      --fill-color: #1967D2;\n",
              "      --hover-bg-color: #E2EBFA;\n",
              "      --hover-fill-color: #174EA6;\n",
              "      --disabled-fill-color: #AAA;\n",
              "      --disabled-bg-color: #DDD;\n",
              "  }\n",
              "\n",
              "  [theme=dark] .colab-df-quickchart {\n",
              "      --bg-color: #3B4455;\n",
              "      --fill-color: #D2E3FC;\n",
              "      --hover-bg-color: #434B5C;\n",
              "      --hover-fill-color: #FFFFFF;\n",
              "      --disabled-bg-color: #3B4455;\n",
              "      --disabled-fill-color: #666;\n",
              "  }\n",
              "\n",
              "  .colab-df-quickchart {\n",
              "    background-color: var(--bg-color);\n",
              "    border: none;\n",
              "    border-radius: 50%;\n",
              "    cursor: pointer;\n",
              "    display: none;\n",
              "    fill: var(--fill-color);\n",
              "    height: 32px;\n",
              "    padding: 0;\n",
              "    width: 32px;\n",
              "  }\n",
              "\n",
              "  .colab-df-quickchart:hover {\n",
              "    background-color: var(--hover-bg-color);\n",
              "    box-shadow: 0 1px 2px rgba(60, 64, 67, 0.3), 0 1px 3px 1px rgba(60, 64, 67, 0.15);\n",
              "    fill: var(--button-hover-fill-color);\n",
              "  }\n",
              "\n",
              "  .colab-df-quickchart-complete:disabled,\n",
              "  .colab-df-quickchart-complete:disabled:hover {\n",
              "    background-color: var(--disabled-bg-color);\n",
              "    fill: var(--disabled-fill-color);\n",
              "    box-shadow: none;\n",
              "  }\n",
              "\n",
              "  .colab-df-spinner {\n",
              "    border: 2px solid var(--fill-color);\n",
              "    border-color: transparent;\n",
              "    border-bottom-color: var(--fill-color);\n",
              "    animation:\n",
              "      spin 1s steps(1) infinite;\n",
              "  }\n",
              "\n",
              "  @keyframes spin {\n",
              "    0% {\n",
              "      border-color: transparent;\n",
              "      border-bottom-color: var(--fill-color);\n",
              "      border-left-color: var(--fill-color);\n",
              "    }\n",
              "    20% {\n",
              "      border-color: transparent;\n",
              "      border-left-color: var(--fill-color);\n",
              "      border-top-color: var(--fill-color);\n",
              "    }\n",
              "    30% {\n",
              "      border-color: transparent;\n",
              "      border-left-color: var(--fill-color);\n",
              "      border-top-color: var(--fill-color);\n",
              "      border-right-color: var(--fill-color);\n",
              "    }\n",
              "    40% {\n",
              "      border-color: transparent;\n",
              "      border-right-color: var(--fill-color);\n",
              "      border-top-color: var(--fill-color);\n",
              "    }\n",
              "    60% {\n",
              "      border-color: transparent;\n",
              "      border-right-color: var(--fill-color);\n",
              "    }\n",
              "    80% {\n",
              "      border-color: transparent;\n",
              "      border-right-color: var(--fill-color);\n",
              "      border-bottom-color: var(--fill-color);\n",
              "    }\n",
              "    90% {\n",
              "      border-color: transparent;\n",
              "      border-bottom-color: var(--fill-color);\n",
              "    }\n",
              "  }\n",
              "</style>\n",
              "\n",
              "  <script>\n",
              "    async function quickchart(key) {\n",
              "      const quickchartButtonEl =\n",
              "        document.querySelector('#' + key + ' button');\n",
              "      quickchartButtonEl.disabled = true;  // To prevent multiple clicks.\n",
              "      quickchartButtonEl.classList.add('colab-df-spinner');\n",
              "      try {\n",
              "        const charts = await google.colab.kernel.invokeFunction(\n",
              "            'suggestCharts', [key], {});\n",
              "      } catch (error) {\n",
              "        console.error('Error during call to suggestCharts:', error);\n",
              "      }\n",
              "      quickchartButtonEl.classList.remove('colab-df-spinner');\n",
              "      quickchartButtonEl.classList.add('colab-df-quickchart-complete');\n",
              "    }\n",
              "    (() => {\n",
              "      let quickchartButtonEl =\n",
              "        document.querySelector('#df-6127fcde-d715-4459-a624-53d6510bf13b button');\n",
              "      quickchartButtonEl.style.display =\n",
              "        google.colab.kernel.accessAllowed ? 'block' : 'none';\n",
              "    })();\n",
              "  </script>\n",
              "</div>\n",
              "\n",
              "    </div>\n",
              "  </div>\n"
            ],
            "application/vnd.google.colaboratory.intrinsic+json": {
              "type": "dataframe",
              "summary": "{\n  \"name\": \"show(results)\",\n  \"rows\": 4,\n  \"fields\": [\n    {\n      \"column\": \"Time\",\n      \"properties\": {\n        \"dtype\": \"number\",\n        \"std\": 1,\n        \"min\": 0,\n        \"max\": 3,\n        \"num_unique_values\": 4,\n        \"samples\": [\n          1,\n          3,\n          0\n        ],\n        \"semantic_type\": \"\",\n        \"description\": \"\"\n      }\n    },\n    {\n      \"column\": \"Quantity\",\n      \"properties\": {\n        \"dtype\": \"number\",\n        \"std\": 0,\n        \"min\": 9,\n        \"max\": 11,\n        \"num_unique_values\": 3,\n        \"samples\": [\n          10,\n          9,\n          11\n        ],\n        \"semantic_type\": \"\",\n        \"description\": \"\"\n      }\n    }\n  ]\n}"
            }
          },
          "metadata": {},
          "execution_count": 134
        }
      ],
      "source": [
        "show(results)"
      ]
    },
    {
      "cell_type": "markdown",
      "id": "small-encoding",
      "metadata": {
        "id": "small-encoding"
      },
      "source": [
        "The left column is the timestamps; the right column is the quantities."
      ]
    },
    {
      "cell_type": "markdown",
      "id": "following-contrary",
      "metadata": {
        "id": "following-contrary"
      },
      "source": [
        "## Plotting\n",
        "\n",
        "`results` provides a function called `plot` we can use to plot\n",
        "the results, and the ModSim library provides `decorate`, which we can use to label the axes and give the figure a title:"
      ]
    },
    {
      "cell_type": "code",
      "execution_count": null,
      "id": "saved-hands",
      "metadata": {
        "id": "saved-hands",
        "colab": {
          "base_uri": "https://localhost:8080/",
          "height": 309
        },
        "outputId": "89f632a8-e659-44f4-e951-e1bd5177abea"
      },
      "outputs": [
        {
          "output_type": "display_data",
          "data": {
            "text/plain": [
              "<Figure size 450x300 with 1 Axes>"
            ],
            "image/png": "[encoded data removed]"
          },
          "metadata": {}
        }
      ],
      "source": [
        "results.plot()\n",
        "\n",
        "decorate(title='Olin-Wellesley bikeshare',\n",
        "         xlabel='Time step (min)',\n",
        "         ylabel='Number of bikes')"
      ]
    },
    {
      "cell_type": "markdown",
      "id": "egyptian-korea",
      "metadata": {
        "id": "egyptian-korea"
      },
      "source": [
        "The result should be a plot with time on the $x$-axis and the number of bikes on the $y$-axis.\n",
        "Since we only ran three time steps, it might not be very interesting."
      ]
    },
    {
      "cell_type": "markdown",
      "id": "limited-interstate",
      "metadata": {
        "id": "limited-interstate"
      },
      "source": [
        "## Summary\n",
        "\n",
        "This chapter introduces the tools we need to run simulations, record the results, and plot them.\n",
        "\n",
        "We used a `State` object to represent the state of the system.\n",
        "Then we used the `flip` function and an `if` statement to simulate a single time step.\n",
        "We used a `for` loop to simulate a series of steps, and a `TimeSeries` to record the results.\n",
        "Finally, we used `plot` and `decorate` to plot the results.\n",
        "\n",
        "In the next chapter, we will extend this simulation to make it a little more realistic."
      ]
    },
    {
      "cell_type": "markdown",
      "id": "fallen-surprise",
      "metadata": {
        "id": "fallen-surprise"
      },
      "source": [
        "## Exercises\n",
        "\n",
        "Before you go on, you might want to work on the following exercises."
      ]
    },
    {
      "cell_type": "markdown",
      "id": "capital-internship",
      "metadata": {
        "id": "capital-internship"
      },
      "source": [
        "### Exercise 1\n",
        "\n",
        "What happens if you spell the name of a state variable wrong?  Edit the following cell, change the spelling of `wellesley`, and run it.\n",
        "\n",
        "The error message uses the word *attribute*, which is another name for what we are calling a state variable."
      ]
    },
    {
      "cell_type": "code",
      "execution_count": null,
      "id": "helpful-zambia",
      "metadata": {
        "id": "helpful-zambia"
      },
      "outputs": [],
      "source": [
        "bikeshare = State(olin=10, wellesley=2)\n",
        "\n",
        "#bikeshare.wellesle\n",
        "\n",
        "\n",
        "#This results in an 'attribute error' stating that the attribute 'wellesle' does not exist"
      ]
    },
    {
      "cell_type": "markdown",
      "id": "dirty-multiple",
      "metadata": {
        "id": "dirty-multiple"
      },
      "source": [
        "### Exercise 2\n",
        "\n",
        "Make a `State` object with a third state variable, called `downtown`, with initial value 0, and display the state of the system."
      ]
    },
    {
      "cell_type": "code",
      "execution_count": null,
      "id": "beneficial-mainland",
      "metadata": {
        "id": "beneficial-mainland",
        "colab": {
          "base_uri": "https://localhost:8080/",
          "height": 143
        },
        "outputId": "5491165e-c75e-4154-afe5-7bbda9cea5ab"
      },
      "outputs": [
        {
          "output_type": "execute_result",
          "data": {
            "text/plain": [
              "           state\n",
              "olin          10\n",
              "wellesley      2\n",
              "downtown       0"
            ],
            "text/html": [
              "\n",
              "  <div id=\"df-656c4d54-283a-4031-acb1-21ee3d6cbf27\" class=\"colab-df-container\">\n",
              "    <div>\n",
              "<style scoped>\n",
              "    .dataframe tbody tr th:only-of-type {\n",
              "        vertical-align: middle;\n",
              "    }\n",
              "\n",
              "    .dataframe tbody tr th {\n",
              "        vertical-align: top;\n",
              "    }\n",
              "\n",
              "    .dataframe thead th {\n",
              "        text-align: right;\n",
              "    }\n",
              "</style>\n",
              "<table border=\"1\" class=\"dataframe\">\n",
              "  <thead>\n",
              "    <tr style=\"text-align: right;\">\n",
              "      <th></th>\n",
              "      <th>state</th>\n",
              "    </tr>\n",
              "  </thead>\n",
              "  <tbody>\n",
              "    <tr>\n",
              "      <th>olin</th>\n",
              "      <td>10</td>\n",
              "    </tr>\n",
              "    <tr>\n",
              "      <th>wellesley</th>\n",
              "      <td>2</td>\n",
              "    </tr>\n",
              "    <tr>\n",
              "      <th>downtown</th>\n",
              "      <td>0</td>\n",
              "    </tr>\n",
              "  </tbody>\n",
              "</table>\n",
              "</div>\n",
              "    <div class=\"colab-df-buttons\">\n",
              "\n",
              "  <div class=\"colab-df-container\">\n",
              "    <button class=\"colab-df-convert\" onclick=\"convertToInteractive('df-656c4d54-283a-4031-acb1-21ee3d6cbf27')\"\n",
              "            title=\"Convert this dataframe to an interactive table.\"\n",
              "            style=\"display:none;\">\n",
              "\n",
              "  <svg xmlns=\"http://www.w3.org/2000/svg\" height=\"24px\" viewBox=\"0 -960 960 960\">\n",
              "    <path d=\"M120-120v-720h720v720H120Zm60-500h600v-160H180v160Zm220 220h160v-160H400v160Zm0 220h160v-160H400v160ZM180-400h160v-160H180v160Zm440 0h160v-160H620v160ZM180-180h160v-160H180v160Zm440 0h160v-160H620v160Z\"/>\n",
              "  </svg>\n",
              "    </button>\n",
              "\n",
              "  <style>\n",
              "    .colab-df-container {\n",
              "      display:flex;\n",
              "      gap: 12px;\n",
              "    }\n",
              "\n",
              "    .colab-df-convert {\n",
              "      background-color: #E8F0FE;\n",
              "      border: none;\n",
              "      border-radius: 50%;\n",
              "      cursor: pointer;\n",
              "      display: none;\n",
              "      fill: #1967D2;\n",
              "      height: 32px;\n",
              "      padding: 0 0 0 0;\n",
              "      width: 32px;\n",
              "    }\n",
              "\n",
              "    .colab-df-convert:hover {\n",
              "      background-color: #E2EBFA;\n",
              "      box-shadow: 0px 1px 2px rgba(60, 64, 67, 0.3), 0px 1px 3px 1px rgba(60, 64, 67, 0.15);\n",
              "      fill: #174EA6;\n",
              "    }\n",
              "\n",
              "    .colab-df-buttons div {\n",
              "      margin-bottom: 4px;\n",
              "    }\n",
              "\n",
              "    [theme=dark] .colab-df-convert {\n",
              "      background-color: #3B4455;\n",
              "      fill: #D2E3FC;\n",
              "    }\n",
              "\n",
              "    [theme=dark] .colab-df-convert:hover {\n",
              "      background-color: #434B5C;\n",
              "      box-shadow: 0px 1px 3px 1px rgba(0, 0, 0, 0.15);\n",
              "      filter: drop-shadow(0px 1px 2px rgba(0, 0, 0, 0.3));\n",
              "      fill: #FFFFFF;\n",
              "    }\n",
              "  </style>\n",
              "\n",
              "    <script>\n",
              "      const buttonEl =\n",
              "        document.querySelector('#df-656c4d54-283a-4031-acb1-21ee3d6cbf27 button.colab-df-convert');\n",
              "      buttonEl.style.display =\n",
              "        google.colab.kernel.accessAllowed ? 'block' : 'none';\n",
              "\n",
              "      async function convertToInteractive(key) {\n",
              "        const element = document.querySelector('#df-656c4d54-283a-4031-acb1-21ee3d6cbf27');\n",
              "        const dataTable =\n",
              "          await google.colab.kernel.invokeFunction('convertToInteractive',\n",
              "                                                    [key], {});\n",
              "        if (!dataTable) return;\n",
              "\n",
              "        const docLinkHtml = 'Like what you see? Visit the ' +\n",
              "          '<a target=\"_blank\" href=https://colab.research.google.com/notebooks/data_table.ipynb>data table notebook</a>'\n",
              "          + ' to learn more about interactive tables.';\n",
              "        element.innerHTML = '';\n",
              "        dataTable['output_type'] = 'display_data';\n",
              "        await google.colab.output.renderOutput(dataTable, element);\n",
              "        const docLink = document.createElement('div');\n",
              "        docLink.innerHTML = docLinkHtml;\n",
              "        element.appendChild(docLink);\n",
              "      }\n",
              "    </script>\n",
              "  </div>\n",
              "\n",
              "\n",
              "<div id=\"df-40cdd86f-99f6-423a-918d-03e05e9a7adc\">\n",
              "  <button class=\"colab-df-quickchart\" onclick=\"quickchart('df-40cdd86f-99f6-423a-918d-03e05e9a7adc')\"\n",
              "            title=\"Suggest charts\"\n",
              "            style=\"display:none;\">\n",
              "\n",
              "<svg xmlns=\"http://www.w3.org/2000/svg\" height=\"24px\"viewBox=\"0 0 24 24\"\n",
              "     width=\"24px\">\n",
              "    <g>\n",
              "        <path d=\"M19 3H5c-1.1 0-2 .9-2 2v14c0 1.1.9 2 2 2h14c1.1 0 2-.9 2-2V5c0-1.1-.9-2-2-2zM9 17H7v-7h2v7zm4 0h-2V7h2v10zm4 0h-2v-4h2v4z\"/>\n",
              "    </g>\n",
              "</svg>\n",
              "  </button>\n",
              "\n",
              "<style>\n",
              "  .colab-df-quickchart {\n",
              "      --bg-color: #E8F0FE;\n",
              "      --fill-color: #1967D2;\n",
              "      --hover-bg-color: #E2EBFA;\n",
              "      --hover-fill-color: #174EA6;\n",
              "      --disabled-fill-color: #AAA;\n",
              "      --disabled-bg-color: #DDD;\n",
              "  }\n",
              "\n",
              "  [theme=dark] .colab-df-quickchart {\n",
              "      --bg-color: #3B4455;\n",
              "      --fill-color: #D2E3FC;\n",
              "      --hover-bg-color: #434B5C;\n",
              "      --hover-fill-color: #FFFFFF;\n",
              "      --disabled-bg-color: #3B4455;\n",
              "      --disabled-fill-color: #666;\n",
              "  }\n",
              "\n",
              "  .colab-df-quickchart {\n",
              "    background-color: var(--bg-color);\n",
              "    border: none;\n",
              "    border-radius: 50%;\n",
              "    cursor: pointer;\n",
              "    display: none;\n",
              "    fill: var(--fill-color);\n",
              "    height: 32px;\n",
              "    padding: 0;\n",
              "    width: 32px;\n",
              "  }\n",
              "\n",
              "  .colab-df-quickchart:hover {\n",
              "    background-color: var(--hover-bg-color);\n",
              "    box-shadow: 0 1px 2px rgba(60, 64, 67, 0.3), 0 1px 3px 1px rgba(60, 64, 67, 0.15);\n",
              "    fill: var(--button-hover-fill-color);\n",
              "  }\n",
              "\n",
              "  .colab-df-quickchart-complete:disabled,\n",
              "  .colab-df-quickchart-complete:disabled:hover {\n",
              "    background-color: var(--disabled-bg-color);\n",
              "    fill: var(--disabled-fill-color);\n",
              "    box-shadow: none;\n",
              "  }\n",
              "\n",
              "  .colab-df-spinner {\n",
              "    border: 2px solid var(--fill-color);\n",
              "    border-color: transparent;\n",
              "    border-bottom-color: var(--fill-color);\n",
              "    animation:\n",
              "      spin 1s steps(1) infinite;\n",
              "  }\n",
              "\n",
              "  @keyframes spin {\n",
              "    0% {\n",
              "      border-color: transparent;\n",
              "      border-bottom-color: var(--fill-color);\n",
              "      border-left-color: var(--fill-color);\n",
              "    }\n",
              "    20% {\n",
              "      border-color: transparent;\n",
              "      border-left-color: var(--fill-color);\n",
              "      border-top-color: var(--fill-color);\n",
              "    }\n",
              "    30% {\n",
              "      border-color: transparent;\n",
              "      border-left-color: var(--fill-color);\n",
              "      border-top-color: var(--fill-color);\n",
              "      border-right-color: var(--fill-color);\n",
              "    }\n",
              "    40% {\n",
              "      border-color: transparent;\n",
              "      border-right-color: var(--fill-color);\n",
              "      border-top-color: var(--fill-color);\n",
              "    }\n",
              "    60% {\n",
              "      border-color: transparent;\n",
              "      border-right-color: var(--fill-color);\n",
              "    }\n",
              "    80% {\n",
              "      border-color: transparent;\n",
              "      border-right-color: var(--fill-color);\n",
              "      border-bottom-color: var(--fill-color);\n",
              "    }\n",
              "    90% {\n",
              "      border-color: transparent;\n",
              "      border-bottom-color: var(--fill-color);\n",
              "    }\n",
              "  }\n",
              "</style>\n",
              "\n",
              "  <script>\n",
              "    async function quickchart(key) {\n",
              "      const quickchartButtonEl =\n",
              "        document.querySelector('#' + key + ' button');\n",
              "      quickchartButtonEl.disabled = true;  // To prevent multiple clicks.\n",
              "      quickchartButtonEl.classList.add('colab-df-spinner');\n",
              "      try {\n",
              "        const charts = await google.colab.kernel.invokeFunction(\n",
              "            'suggestCharts', [key], {});\n",
              "      } catch (error) {\n",
              "        console.error('Error during call to suggestCharts:', error);\n",
              "      }\n",
              "      quickchartButtonEl.classList.remove('colab-df-spinner');\n",
              "      quickchartButtonEl.classList.add('colab-df-quickchart-complete');\n",
              "    }\n",
              "    (() => {\n",
              "      let quickchartButtonEl =\n",
              "        document.querySelector('#df-40cdd86f-99f6-423a-918d-03e05e9a7adc button');\n",
              "      quickchartButtonEl.style.display =\n",
              "        google.colab.kernel.accessAllowed ? 'block' : 'none';\n",
              "    })();\n",
              "  </script>\n",
              "</div>\n",
              "\n",
              "    </div>\n",
              "  </div>\n"
            ],
            "application/vnd.google.colaboratory.intrinsic+json": {
              "type": "dataframe",
              "summary": "{\n  \"name\": \"show(bikeshare2)\",\n  \"rows\": 3,\n  \"fields\": [\n    {\n      \"column\": \"state\",\n      \"properties\": {\n        \"dtype\": \"number\",\n        \"std\": 5,\n        \"min\": 0,\n        \"max\": 10,\n        \"num_unique_values\": 3,\n        \"samples\": [\n          10,\n          2,\n          0\n        ],\n        \"semantic_type\": \"\",\n        \"description\": \"\"\n      }\n    }\n  ]\n}"
            }
          },
          "metadata": {},
          "execution_count": 137
        }
      ],
      "source": [
        "# Solution goes here\n",
        "bikeshare2 = State(olin = 10, wellesley = 2, downtown = 0)\n",
        "show(bikeshare2)"
      ]
    },
    {
      "cell_type": "markdown",
      "id": "christian-madrid",
      "metadata": {
        "id": "christian-madrid"
      },
      "source": [
        "### Exercise 3\n",
        "\n",
        "Wrap the code in the chapter in a function named `run_simulation` that takes three parameters, named `p1`, `p2`, and `num_steps`.\n",
        "\n",
        "It should:\n",
        "\n",
        "1. Create a `TimeSeries` object to hold the results.\n",
        "\n",
        "2. Use a for loop to run `step` the number of times specified by `num_steps`, passing along the specified values of `p1` and `p2`.\n",
        "\n",
        "3. After each step, it should save the number of bikes at Olin in the `TimeSeries`.\n",
        "\n",
        "4. After the for loop, it should plot the results and\n",
        "\n",
        "5. Decorate the axes.\n",
        "\n",
        "To test your function:\n",
        "\n",
        "1. Create a `State` object with the initial state of the system.\n",
        "\n",
        "2. Call `run_simulation` with parameters `p1=0.3`, `p2=0.2`, and `num_steps=60`."
      ]
    },
    {
      "cell_type": "code",
      "execution_count": null,
      "id": "former-frost",
      "metadata": {
        "id": "former-frost"
      },
      "outputs": [],
      "source": [
        "# Solution goes here\n",
        "def run_simulation(p1, p2, num_steps):\n",
        "    simulation_result = TimeSeries()\n",
        "    for i in range(num_steps):\n",
        "        step(p1, p2)\n",
        "        simulation_result[i+1] = bikeshare.olin\n",
        "    simulation_result.plot()\n",
        "    decorate(title = 'Olin-Wellesley bikeshare',\n",
        "         xlabel = 'Time step (min)',\n",
        "         ylabel = 'Number of bikes')"
      ]
    },
    {
      "cell_type": "code",
      "execution_count": null,
      "id": "spare-honduras",
      "metadata": {
        "id": "spare-honduras",
        "colab": {
          "base_uri": "https://localhost:8080/",
          "height": 878
        },
        "outputId": "799c1829-b721-4a36-c6fd-7febdc14cf3d"
      },
      "outputs": [
        {
          "output_type": "stream",
          "name": "stdout",
          "text": [
            "Moving a bike to Olin\n",
            "Moving a bike to Wellesley\n",
            "Moving a bike to Wellesley\n",
            "Moving a bike to Wellesley\n",
            "Moving a bike to Olin\n",
            "Moving a bike to Olin\n",
            "Moving a bike to Wellesley\n",
            "Moving a bike to Wellesley\n",
            "Moving a bike to Olin\n",
            "Moving a bike to Wellesley\n",
            "Moving a bike to Olin\n",
            "Moving a bike to Wellesley\n",
            "Moving a bike to Wellesley\n",
            "Moving a bike to Olin\n",
            "Moving a bike to Wellesley\n",
            "Moving a bike to Olin\n",
            "Moving a bike to Wellesley\n",
            "Moving a bike to Wellesley\n",
            "Moving a bike to Wellesley\n",
            "Moving a bike to Wellesley\n",
            "Moving a bike to Wellesley\n",
            "Moving a bike to Wellesley\n",
            "Moving a bike to Wellesley\n",
            "Moving a bike to Olin\n",
            "Moving a bike to Wellesley\n",
            "Moving a bike to Olin\n",
            "Moving a bike to Olin\n",
            "Moving a bike to Wellesley\n",
            "Moving a bike to Olin\n",
            "Moving a bike to Olin\n",
            "Moving a bike to Olin\n"
          ]
        },
        {
          "output_type": "display_data",
          "data": {
            "text/plain": [
              "<Figure size 450x300 with 1 Axes>"
            ],
            "image/png": "[encoded data removed]"
          },
          "metadata": {}
        }
      ],
      "source": [
        "# Solution goes here\n",
        "bikeshare = State(olin = 10, wellesley = 2)\n",
        "run_simulation(0.3, 0.2, 60)\n"
      ]
    },
    {
      "cell_type": "markdown",
      "id": "instructional-finnish",
      "metadata": {
        "id": "instructional-finnish"
      },
      "source": [
        "## Under the Hood\n",
        "\n",
        "This section contains additional information about the functions we've used and pointers to their documentation.\n",
        "\n",
        "You don't need to know anything in this section, so if you are already feeling overwhelmed, you might want to skip it.\n",
        "But if you are curious, read on."
      ]
    },
    {
      "cell_type": "markdown",
      "id": "quick-citizen",
      "metadata": {
        "id": "quick-citizen"
      },
      "source": [
        "`State` and `TimeSeries` objects are based on the `Series` object defined by the Pandas library.\n",
        "The documentation is at <https://pandas.pydata.org/pandas-docs/stable/reference/api/pandas.Series.html>.\n",
        "\n",
        "`Series` objects provide their own `plot` function, which is why we call it like this:\n",
        "\n",
        "```\n",
        "results.plot()\n",
        "```\n",
        "\n",
        "Instead of like this:\n",
        "\n",
        "```\n",
        "plot(results)\n",
        "```\n",
        "\n",
        "You can read the documentation of `Series.plot` at <https://pandas.pydata.org/pandas-docs/stable/reference/api/pandas.Series.plot.html>."
      ]
    },
    {
      "cell_type": "markdown",
      "id": "digital-stretch",
      "metadata": {
        "id": "digital-stretch"
      },
      "source": [
        "`decorate` is based on Matplotlib, which is a widely used plotting library for Python.  Matplotlib provides separate functions for `title`, `xlabel`, and `ylabel`.\n",
        "`decorate` makes them a little easier to use.\n",
        "For the list of keyword arguments you can pass to `decorate`, see <https://matplotlib.org/3.2.2/api/axes_api.html?highlight=axes#module-matplotlib.axes>.\n",
        "\n",
        "The `flip` function uses NumPy's `random` function to generate a random number between 0 and 1, then returns `True` or `False` with the given probability.\n",
        "\n",
        "You can get the source code for `flip` (or any other function) by running the following cell."
      ]
    },
    {
      "cell_type": "code",
      "execution_count": null,
      "id": "agricultural-midwest",
      "metadata": {
        "id": "agricultural-midwest",
        "colab": {
          "base_uri": "https://localhost:8080/"
        },
        "outputId": "0611141e-5492-42ad-a5ad-62324ab7faff"
      },
      "outputs": [
        {
          "output_type": "stream",
          "name": "stdout",
          "text": [
            "def flip(p=0.5):\n",
            "    \"\"\"Flips a coin with the given probability.\n",
            "\n",
            "    p: float 0-1\n",
            "\n",
            "    returns: boolean (True or False)\n",
            "    \"\"\"\n",
            "    return np.random.random() < p\n",
            "\n"
          ]
        }
      ],
      "source": [
        "source_code(flip)"
      ]
    },
    {
      "cell_type": "code",
      "execution_count": null,
      "id": "junior-lindsay",
      "metadata": {
        "id": "junior-lindsay"
      },
      "outputs": [],
      "source": []
    }
  ],
  "metadata": {
    "celltoolbar": "Tags",
    "kernelspec": {
      "display_name": "Python 3 (ipykernel)",
      "language": "python",
      "name": "python3"
    },
    "language_info": {
      "codemirror_mode": {
        "name": "ipython",
        "version": 3
      },
      "file_extension": ".py",
      "mimetype": "text/x-python",
      "name": "python",
      "nbconvert_exporter": "python",
      "pygments_lexer": "ipython3",
      "version": "3.10.6"
    },
    "colab": {
      "provenance": []
    }
  },
  "nbformat": 4,
  "nbformat_minor": 5
}