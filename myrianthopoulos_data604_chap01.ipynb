{
  "cells": [
    {
      "cell_type": "markdown",
      "id": "affecting-malta",
      "metadata": {
        "id": "affecting-malta"
      },
      "source": [
        "# Modeling"
      ]
    },
    {
      "cell_type": "markdown",
      "id": "pressed-palestinian",
      "metadata": {
        "tags": [],
        "id": "pressed-palestinian"
      },
      "source": [
        "*Modeling and Simulation in Python*\n",
        "\n",
        "Copyright 2021 Allen Downey\n",
        "\n",
        "License: [Creative Commons Attribution-NonCommercial-ShareAlike 4.0 International](https://creativecommons.org/licenses/by-nc-sa/4.0/)"
      ]
    },
    {
      "cell_type": "markdown",
      "id": "confirmed-budapest",
      "metadata": {
        "tags": [],
        "id": "confirmed-budapest"
      },
      "source": [
        "## Jupyter\n",
        "\n",
        "Welcome to *Modeling and Simulation in Python*, and welcome to Jupyter.\n",
        "\n",
        "This is a Jupyter notebook, which is a development environment where you can write and run Python code.  Each notebook is divided into cells.  Each cell contains either text (like this cell) or Python code."
      ]
    },
    {
      "cell_type": "markdown",
      "id": "danish-scope",
      "metadata": {
        "tags": [],
        "id": "danish-scope"
      },
      "source": [
        "To run a cell, hold down SHIFT and press ENTER.  \n",
        "\n",
        "* If you run a text cell, Jupyter formats the text and displays the result.\n",
        "\n",
        "* If you run a code cell, Jupyter runs the Python code in the cell and displays the result, if any.\n",
        "\n",
        "The following cells check whether the libraries we need are installed.  If so, the cells produce no output.  If not, you'll see updates from the installer."
      ]
    },
    {
      "cell_type": "code",
      "execution_count": null,
      "id": "passive-dayton",
      "metadata": {
        "tags": [],
        "id": "passive-dayton"
      },
      "outputs": [],
      "source": [
        "# install Pint if necessary\n",
        "\n",
        "try:\n",
        "    from pint import UnitRegistry\n",
        "except ImportError:\n",
        "    !pip install pint"
      ]
    },
    {
      "cell_type": "code",
      "execution_count": null,
      "id": "prompt-committee",
      "metadata": {
        "tags": [],
        "id": "prompt-committee"
      },
      "outputs": [],
      "source": [
        "# download modsim.py if necessary\n",
        "\n",
        "from os.path import basename, exists\n",
        "\n",
        "def download(url):\n",
        "    filename = basename(url)\n",
        "    if not exists(filename):\n",
        "        from urllib.request import urlretrieve\n",
        "        local, _ = urlretrieve(url, filename)\n",
        "        print('Downloaded ' + local)\n",
        "\n",
        "download('https://github.com/AllenDowney/ModSimPy/raw/master/' +\n",
        "         'modsim.py')"
      ]
    },
    {
      "cell_type": "code",
      "execution_count": null,
      "id": "fifteen-train",
      "metadata": {
        "tags": [],
        "id": "fifteen-train"
      },
      "outputs": [],
      "source": [
        "# import functions from modsim\n",
        "\n",
        "from modsim import *"
      ]
    },
    {
      "cell_type": "markdown",
      "id": "chronic-moore",
      "metadata": {
        "id": "chronic-moore"
      },
      "source": [
        "This chapter introduces the modeling framework we will use throughout the book, and works through our first example, using a simple model of physics to evaluate the claim that a penny falling from the height of the Empire State Building could kill someone if it hit them on the head. Also, you'll see how to do computation in Python with units like meters and seconds."
      ]
    },
    {
      "cell_type": "markdown",
      "id": "extensive-proposition",
      "metadata": {
        "id": "extensive-proposition"
      },
      "source": [
        "This chapter is available as a Jupyter notebook where you can read the text, run the code, and work on the exercises.\n",
        "Click here to access the notebooks: <https://allendowney.github.io/ModSimPy/>."
      ]
    },
    {
      "cell_type": "markdown",
      "id": "hourly-financing",
      "metadata": {
        "id": "hourly-financing"
      },
      "source": [
        "## The Modeling Framework\n",
        "\n",
        "This book is about modeling and simulating physical systems. The\n",
        "following diagram shows what I mean by *modeling*:\n",
        "\n",
        "![Diagram of the modeling framework.](https://github.com/AllenDowney/ModSim/raw/main/figs/modeling_framework.png)"
      ]
    },
    {
      "cell_type": "markdown",
      "id": "structured-receiver",
      "metadata": {
        "id": "structured-receiver"
      },
      "source": [
        "Starting in the lower left, the *system* is something in the real\n",
        "world we are interested in.\n",
        "To model the system, we have to decide which elements of the real world to include and which we can leave out.\n",
        "This process is called *abstraction*.\n",
        "\n",
        "The result of abstraction is a *model*, which is a description of the system that includes only the features we think are essential. A model\n",
        "can be represented in the form of diagrams and equations, which can be\n",
        "used for mathematical *analysis*. It can also be implemented in the\n",
        "form of a computer program, which can run *simulations*.\n",
        "\n",
        "The result of analysis and simulation might be a *prediction* about\n",
        "what the system will do, an *explanation* of why it behaves the way it\n",
        "does, or a *design* intended to achieve a purpose.\n",
        "\n",
        "We can *validate* predictions and test designs by taking\n",
        "*measurements* from the real world and comparing the *data* we get\n",
        "with the results from analysis and simulation."
      ]
    },
    {
      "cell_type": "markdown",
      "id": "center-accommodation",
      "metadata": {
        "id": "center-accommodation"
      },
      "source": [
        "For any physical system, there are many possible models, each one\n",
        "including and excluding different features, or including different\n",
        "levels of detail. The goal of the modeling process is to find the model\n",
        "best suited to its purpose (prediction, explanation, or design).\n",
        "\n",
        "Sometimes the best model is the most detailed. If we include more\n",
        "features, the model is more realistic, and we expect its predictions to\n",
        "be more accurate.\n",
        "But often a simpler model is better. If we include only the essential\n",
        "features and leave out the rest, we get models that are easier to work\n",
        "with, and the explanations they provide can be clearer and more\n",
        "compelling."
      ]
    },
    {
      "cell_type": "markdown",
      "id": "confirmed-highlight",
      "metadata": {
        "id": "confirmed-highlight"
      },
      "source": [
        "As an example, suppose someone asks you why the orbit of the Earth is\n",
        "elliptical. If you model the Earth and Sun as point masses (ignoring\n",
        "their actual size), compute the gravitational force between them using\n",
        "Newton's law of universal gravitation, and compute the resulting orbit\n",
        "using Newton's laws of motion, you can show that the result is an\n",
        "ellipse.\n",
        "Of course, the actual orbit of Earth is not a perfect ellipse, because\n",
        "of the gravitational forces of the Moon, Jupiter, and other objects in\n",
        "the solar system, and because Newton's laws of motion are only\n",
        "approximately true (they don't take into account relativistic effects).\n",
        "But adding these features to the model would not improve the\n",
        "explanation; more detail would only be a distraction from the\n",
        "fundamental cause. However, if the goal is to predict the position of\n",
        "the Earth with great precision, including more details might be\n",
        "necessary."
      ]
    },
    {
      "cell_type": "markdown",
      "id": "stretch-geneva",
      "metadata": {
        "id": "stretch-geneva"
      },
      "source": [
        "Choosing the best model depends on what the model is for. It is usually\n",
        "a good idea to start with a simple model, even if it is likely to be too\n",
        "simple, and test whether it is good enough for its purpose. Then you can\n",
        "add features gradually, starting with the ones you expect to be most\n",
        "essential. This process is called *iterative modeling*.\n",
        "\n",
        "Comparing results of successive models provides a form of *internal\n",
        "validation*, so you can catch conceptual, mathematical, and software\n",
        "errors. And by adding and removing features, you can tell which ones\n",
        "have the biggest effect on the results, and which can be ignored.\n",
        "\n",
        "Comparing results to data from the real world provides *external\n",
        "validation*, which is generally the strongest test.\n",
        "\n",
        "The modeling framework is pretty abstract; the following example might make it clearer."
      ]
    },
    {
      "cell_type": "markdown",
      "id": "criminal-lunch",
      "metadata": {
        "id": "criminal-lunch"
      },
      "source": [
        "## The Falling Penny Myth\n",
        "\n",
        "You might have heard that a\n",
        "penny dropped from the top of the Empire State Building would be going\n",
        "so fast when it hit the pavement that it would be embedded in the\n",
        "concrete; or if it hit a person, it would break their skull.\n",
        "\n",
        "We can test this myth by making and analyzing two models. For the first model,\n",
        "we'll assume that the effect of air resistance is small. In that case, the primary force acting on the penny is gravity, which causes the penny to accelerate downward.\n",
        "\n",
        "If the initial velocity is 0 and the acceleration, $a$, is constant, the velocity after $t$ seconds is\n",
        "\n",
        "$$v = a t$$\n",
        "\n",
        "and the distance the penny has dropped is\n",
        "\n",
        "$$x = a t^2 / 2$$\n",
        "\n",
        "To find the time until the penny reaches the sidewalk, we can solve for $t$:\n",
        "\n",
        "$$t = \\sqrt{ 2 x / a}$$\n",
        "\n",
        "Plugging in the acceleration of gravity, $a = 9.8$ m/s$^2$, and the height of the Empire State Building, $x = 381$ m, we get $t = 8.8$ s.\n",
        "\n",
        "Then computing $v = a t$ we get a velocity on impact of $86$ m/s, which is about 190 miles per hour. That sounds like it could hurt."
      ]
    },
    {
      "cell_type": "markdown",
      "id": "documentary-diagnosis",
      "metadata": {
        "id": "documentary-diagnosis"
      },
      "source": [
        "Of course, these results are not exact because the model is based on simplifications. For example, we assume that gravity is constant.\n",
        "In fact, the force of gravity is different on different parts of the globe, and it gets weaker as you move away from the surface.\n",
        "But these differences are small, so ignoring them is probably a good choice for this problem.\n",
        "\n",
        "On the other hand, ignoring air resistance is not a good choice, because in this scenario its effect is substantial.\n",
        "Once the penny gets to about 29 m/s, the upward force of air resistance equals the downward force of gravity, so the penny stops accelerating.\n",
        "This is the *terminal velocity* of the penny in air.\n",
        "\n",
        "And that suggests a second model, where the penny accelerates until it reaches terminal velocity; after that, acceleration is 0 and velocity is constant.\n",
        "In this model, the penny hits the sidewalk at about 29 m/s.\n",
        "That's much less than 86 m/s, which is what the first model predicts.\n",
        "Getting hit with a penny at that speed might hurt, but it would be unlikely to cause real harm. And it would not damage concrete."
      ]
    },
    {
      "cell_type": "markdown",
      "id": "recent-appliance",
      "metadata": {
        "id": "recent-appliance"
      },
      "source": [
        "The statistician George Box famously said \"All models are wrong, but\n",
        "some are useful.\" He was talking about statistical models, but his wise words apply to all kinds of models. Our first model, which ignores air resistance, is very wrong, and probably not useful. The second model, which takes air resistance into account, is still wrong, but it's better, and it's good enough to refute the myth.\n",
        "\n",
        "The television show *Mythbusters* has tested the myth of the falling\n",
        "penny more carefully; you can view the results at\n",
        "<https://modsimpy.com/myth/>. Their work is based on a mathematical model of motion, measurements to determine the force of air resistance on a penny, and a physical model of a human head."
      ]
    },
    {
      "cell_type": "markdown",
      "id": "brief-zoning",
      "metadata": {
        "id": "brief-zoning"
      },
      "source": [
        "## Computation In Python\n",
        "\n",
        "Let me show you how I computed the results from the\n",
        "previous section using Python.\n",
        "First we'll create a variable to represent acceleration due to gravity in meters per second squared (m/s$^2$)."
      ]
    },
    {
      "cell_type": "code",
      "execution_count": null,
      "id": "eleven-marine",
      "metadata": {
        "id": "eleven-marine"
      },
      "outputs": [],
      "source": [
        "a = 9.8"
      ]
    },
    {
      "cell_type": "markdown",
      "id": "upset-myanmar",
      "metadata": {
        "id": "upset-myanmar"
      },
      "source": [
        "A *variable* is a name that corresponds to a value. In this example, the name is `a` and the value is the number `9.8`.\n",
        "\n",
        "Suppose we let the penny drop for $3.4$ seconds (s).  I'll create a variable to represent this time:"
      ]
    },
    {
      "cell_type": "code",
      "execution_count": null,
      "id": "following-launch",
      "metadata": {
        "id": "following-launch"
      },
      "outputs": [],
      "source": [
        "t = 3.4"
      ]
    },
    {
      "cell_type": "markdown",
      "id": "greek-heritage",
      "metadata": {
        "id": "greek-heritage"
      },
      "source": [
        "Now we can compute the velocity of the penny after `t` seconds."
      ]
    },
    {
      "cell_type": "code",
      "execution_count": null,
      "id": "mature-duration",
      "metadata": {
        "id": "mature-duration"
      },
      "outputs": [],
      "source": [
        "v = a * t"
      ]
    },
    {
      "cell_type": "markdown",
      "id": "serial-pilot",
      "metadata": {
        "id": "serial-pilot"
      },
      "source": [
        "Python uses the symbol `*` for multiplication.  The other arithmetic operators are `+` for addition, `-` for subtraction, `/` for division, and `**` for exponentiation."
      ]
    },
    {
      "cell_type": "markdown",
      "id": "qualified-diabetes",
      "metadata": {
        "id": "qualified-diabetes"
      },
      "source": [
        "After you assign a value to a variable, you can display the value like this:"
      ]
    },
    {
      "cell_type": "code",
      "execution_count": null,
      "id": "considered-inclusion",
      "metadata": {
        "id": "considered-inclusion",
        "colab": {
          "base_uri": "https://localhost:8080/"
        },
        "outputId": "6376bccc-2776-492f-d896-74d1fd50665d"
      },
      "outputs": [
        {
          "output_type": "execute_result",
          "data": {
            "text/plain": [
              "33.32"
            ]
          },
          "metadata": {},
          "execution_count": 256
        }
      ],
      "source": [
        "v"
      ]
    },
    {
      "cell_type": "markdown",
      "id": "northern-saturday",
      "metadata": {
        "id": "northern-saturday"
      },
      "source": [
        "After $3.4$ s, the velocity of the penny is about $33$ m/s (ignoring air resistance).  Now let's see how far it would travel during that time:"
      ]
    },
    {
      "cell_type": "code",
      "execution_count": null,
      "id": "valued-electricity",
      "metadata": {
        "id": "valued-electricity",
        "colab": {
          "base_uri": "https://localhost:8080/"
        },
        "outputId": "f9a7b919-a005-4703-b887-cd3f8c5648a4"
      },
      "outputs": [
        {
          "output_type": "execute_result",
          "data": {
            "text/plain": [
              "56.644"
            ]
          },
          "metadata": {},
          "execution_count": 257
        }
      ],
      "source": [
        "x = a * t**2 / 2\n",
        "x"
      ]
    },
    {
      "cell_type": "markdown",
      "id": "yellow-business",
      "metadata": {
        "id": "yellow-business"
      },
      "source": [
        "It would travel about $56$ m.  Now, going in the other direction, let's compute the time it takes to fall 381 m, the height of the Empire State Building."
      ]
    },
    {
      "cell_type": "code",
      "execution_count": null,
      "id": "closed-month",
      "metadata": {
        "id": "closed-month"
      },
      "outputs": [],
      "source": [
        "h = 381"
      ]
    },
    {
      "cell_type": "markdown",
      "id": "fuzzy-lease",
      "metadata": {
        "id": "fuzzy-lease"
      },
      "source": [
        "For this computation, we need the square root function, `sqrt`, which is provided by a library called NumPy.\n",
        "Before we can use it, we have to import it like this:"
      ]
    },
    {
      "cell_type": "code",
      "execution_count": null,
      "id": "nuclear-clone",
      "metadata": {
        "id": "nuclear-clone"
      },
      "outputs": [],
      "source": [
        "from numpy import sqrt"
      ]
    },
    {
      "cell_type": "markdown",
      "id": "unlimited-swiss",
      "metadata": {
        "id": "unlimited-swiss"
      },
      "source": [
        "Now we can use it like this:"
      ]
    },
    {
      "cell_type": "code",
      "execution_count": null,
      "id": "quarterly-nightmare",
      "metadata": {
        "id": "quarterly-nightmare",
        "colab": {
          "base_uri": "https://localhost:8080/"
        },
        "outputId": "e3d5d019-64f0-4517-8e8e-04c8e7bf2e7d"
      },
      "outputs": [
        {
          "output_type": "execute_result",
          "data": {
            "text/plain": [
              "8.817885349720552"
            ]
          },
          "metadata": {},
          "execution_count": 260
        }
      ],
      "source": [
        "t = sqrt(2 * h / a)\n",
        "t"
      ]
    },
    {
      "cell_type": "markdown",
      "id": "velvet-oklahoma",
      "metadata": {
        "id": "velvet-oklahoma"
      },
      "source": [
        "With no air resistance, it would take about $8.8$ s for the penny to reach the sidewalk."
      ]
    },
    {
      "cell_type": "code",
      "execution_count": null,
      "id": "quality-external",
      "metadata": {
        "id": "quality-external",
        "colab": {
          "base_uri": "https://localhost:8080/"
        },
        "outputId": "7e231249-e9ef-4d9b-c7d6-08dd907a9d78"
      },
      "outputs": [
        {
          "output_type": "execute_result",
          "data": {
            "text/plain": [
              "86.41527642726142"
            ]
          },
          "metadata": {},
          "execution_count": 261
        }
      ],
      "source": [
        "v = a * t\n",
        "v"
      ]
    },
    {
      "cell_type": "markdown",
      "id": "active-lobby",
      "metadata": {
        "id": "active-lobby"
      },
      "source": [
        "And its velocity on impact would be about $86$ m/s."
      ]
    },
    {
      "cell_type": "markdown",
      "id": "human-phase",
      "metadata": {
        "id": "human-phase"
      },
      "source": [
        "### False Precision\n",
        "\n",
        "Python displays results with about 16 digits, which gives the impression that they are very precise, but don't be fooled.\n",
        "The numbers we get out are only as good as the numbers we put in.\n",
        "\n",
        "For example, the \"roof height\" of the Empire State Building is $380$ m (according to Wikipedia: <https://en.wikipedia.org/wiki/Empire_State_Building>).\n",
        "I chose $h=381$ m for this example on the assumption that the observation deck is on the roof and you drop the penny from a 1 meter railing.\n",
        "But that's probably not right, so we should treat this value as an approximation where only the first two digits are likely to be right.\n",
        "\n",
        "If the precision of the inputs is two digits, the precision of the outputs is two digits, *at most*.\n",
        "That's why, if the output is `86.41527642726142`, I report it as \"about 86\"."
      ]
    },
    {
      "cell_type": "markdown",
      "id": "clinical-blackjack",
      "metadata": {
        "id": "clinical-blackjack"
      },
      "source": [
        "### Computation With Units\n",
        "\n",
        "The computations we just did use numbers without units.\n",
        "When we set `h=381`, we left out the meters, and when we set `a=9.8`, we left out the meters per second squared.\n",
        "And, when we got the result `v=86`, we added back the meters per second.\n",
        "\n",
        "Leaving units out of computation is a common practice, but it tends to cause errors, including the very expensive failure of the Mars Climate Orbiter in 1999 (see <https://en.wikipedia.org/wiki/Mars_Climate_Orbiter>).\n",
        "When possible, it is better to include units in the computation.\n",
        "\n",
        "To represent units, we'll use a library called Pint (<https://pint.readthedocs.io/>).\n",
        "To use it, we have to import a function called `UnitRegistry` and call it like this:"
      ]
    },
    {
      "cell_type": "code",
      "execution_count": null,
      "id": "lovely-declaration",
      "metadata": {
        "id": "lovely-declaration"
      },
      "outputs": [],
      "source": [
        "from pint import UnitRegistry\n",
        "\n",
        "units = UnitRegistry()"
      ]
    },
    {
      "cell_type": "markdown",
      "id": "consecutive-sleeve",
      "metadata": {
        "id": "consecutive-sleeve"
      },
      "source": [
        "The result is an object that contains variables representing pretty much every unit you've heard of.\n",
        "For example:"
      ]
    },
    {
      "cell_type": "code",
      "execution_count": null,
      "id": "cardiac-class",
      "metadata": {
        "id": "cardiac-class",
        "colab": {
          "base_uri": "https://localhost:8080/",
          "height": 34
        },
        "outputId": "32589ff2-489c-41f7-f5ad-f897a9735a6e"
      },
      "outputs": [
        {
          "output_type": "execute_result",
          "data": {
            "text/plain": [
              "<Unit('league')>"
            ],
            "text/html": [
              "league"
            ],
            "text/latex": "$\\mathrm{league}$"
          },
          "metadata": {},
          "execution_count": 263
        }
      ],
      "source": [
        "units.league"
      ]
    },
    {
      "cell_type": "code",
      "execution_count": null,
      "id": "phantom-copper",
      "metadata": {
        "id": "phantom-copper",
        "colab": {
          "base_uri": "https://localhost:8080/",
          "height": 34
        },
        "outputId": "4e1b000b-ea49-47e5-d9e7-edf341c64db2"
      },
      "outputs": [
        {
          "output_type": "execute_result",
          "data": {
            "text/plain": [
              "<Unit('fortnight')>"
            ],
            "text/html": [
              "fortnight"
            ],
            "text/latex": "$\\mathrm{fortnight}$"
          },
          "metadata": {},
          "execution_count": 264
        }
      ],
      "source": [
        "units.fortnight"
      ]
    },
    {
      "cell_type": "markdown",
      "id": "unlike-opera",
      "metadata": {
        "id": "unlike-opera"
      },
      "source": [
        "But leagues and fortnights are not part of the International System of Units\n",
        "(see <https://en.wikipedia.org/wiki/International_System_of_Units>); in the jargon, they are not \"SI units\".\n",
        "Instead, we will use `meter` and `second`."
      ]
    },
    {
      "cell_type": "code",
      "execution_count": null,
      "id": "russian-popularity",
      "metadata": {
        "id": "russian-popularity",
        "colab": {
          "base_uri": "https://localhost:8080/",
          "height": 34
        },
        "outputId": "8e3acbd5-0a37-4b3c-be21-6b0226335d6e"
      },
      "outputs": [
        {
          "output_type": "execute_result",
          "data": {
            "text/plain": [
              "<Unit('meter')>"
            ],
            "text/html": [
              "meter"
            ],
            "text/latex": "$\\mathrm{meter}$"
          },
          "metadata": {},
          "execution_count": 265
        }
      ],
      "source": [
        "meter = units.meter\n",
        "meter"
      ]
    },
    {
      "cell_type": "code",
      "execution_count": null,
      "id": "endless-paint",
      "metadata": {
        "id": "endless-paint",
        "colab": {
          "base_uri": "https://localhost:8080/",
          "height": 34
        },
        "outputId": "3e46b391-0432-4d5e-ea1a-46c10b2e69c3"
      },
      "outputs": [
        {
          "output_type": "execute_result",
          "data": {
            "text/plain": [
              "<Unit('second')>"
            ],
            "text/html": [
              "second"
            ],
            "text/latex": "$\\mathrm{second}$"
          },
          "metadata": {},
          "execution_count": 266
        }
      ],
      "source": [
        "second = units.second\n",
        "second"
      ]
    },
    {
      "cell_type": "markdown",
      "id": "spiritual-scenario",
      "metadata": {
        "tags": [],
        "id": "spiritual-scenario"
      },
      "source": [
        "To find out what other units are defined, type `units.` (including the period) in the next cell.\n",
        "\n",
        "If you are on Colab, a pop-up menu should appear with a list of units.\n",
        "In other Jupyter environments, you might have to press `TAB` to get the menu."
      ]
    },
    {
      "cell_type": "code",
      "execution_count": null,
      "id": "saving-suggestion",
      "metadata": {
        "tags": [],
        "id": "saving-suggestion"
      },
      "outputs": [],
      "source": [
        "#units."
      ]
    },
    {
      "cell_type": "markdown",
      "id": "everyday-location",
      "metadata": {
        "id": "everyday-location"
      },
      "source": [
        "We can use `meter` and `second` to create a variable named `a` and give it the value of acceleration due to gravity."
      ]
    },
    {
      "cell_type": "code",
      "execution_count": null,
      "id": "earlier-bandwidth",
      "metadata": {
        "id": "earlier-bandwidth",
        "colab": {
          "base_uri": "https://localhost:8080/",
          "height": 37
        },
        "outputId": "72feb512-9619-42ad-84e7-cbaa740e409e"
      },
      "outputs": [
        {
          "output_type": "execute_result",
          "data": {
            "text/plain": [
              "9.8 <Unit('meter / second ** 2')>"
            ],
            "text/html": [
              "9.8 meter/second<sup>2</sup>"
            ],
            "text/latex": "$9.8\\ \\frac{\\mathrm{meter}}{\\mathrm{second}^{2}}$"
          },
          "metadata": {},
          "execution_count": 268
        }
      ],
      "source": [
        "a = 9.8 * meter / second**2\n",
        "a"
      ]
    },
    {
      "cell_type": "markdown",
      "id": "generic-bowling",
      "metadata": {
        "id": "generic-bowling"
      },
      "source": [
        "The result is a *quantity* with two parts, called `magnitude` and `units`, which we can access like this:"
      ]
    },
    {
      "cell_type": "code",
      "execution_count": null,
      "id": "missing-privilege",
      "metadata": {
        "id": "missing-privilege",
        "colab": {
          "base_uri": "https://localhost:8080/"
        },
        "outputId": "194fea12-6f46-47e1-dbb3-361bdd3d93c3"
      },
      "outputs": [
        {
          "output_type": "execute_result",
          "data": {
            "text/plain": [
              "9.8"
            ]
          },
          "metadata": {},
          "execution_count": 269
        }
      ],
      "source": [
        "a.magnitude"
      ]
    },
    {
      "cell_type": "code",
      "execution_count": null,
      "id": "fourth-swedish",
      "metadata": {
        "id": "fourth-swedish",
        "colab": {
          "base_uri": "https://localhost:8080/",
          "height": 37
        },
        "outputId": "022e9b08-60e9-44d6-d322-2349eca828a4"
      },
      "outputs": [
        {
          "output_type": "execute_result",
          "data": {
            "text/plain": [
              "<Unit('meter / second ** 2')>"
            ],
            "text/html": [
              "meter/second<sup>2</sup>"
            ],
            "text/latex": "$\\frac{\\mathrm{meter}}{\\mathrm{second}^{2}}$"
          },
          "metadata": {},
          "execution_count": 270
        }
      ],
      "source": [
        "a.units"
      ]
    },
    {
      "cell_type": "markdown",
      "id": "realistic-techno",
      "metadata": {
        "id": "realistic-techno"
      },
      "source": [
        "We can also create a quantity that represents $3.4$ s."
      ]
    },
    {
      "cell_type": "code",
      "execution_count": null,
      "id": "apart-france",
      "metadata": {
        "id": "apart-france",
        "colab": {
          "base_uri": "https://localhost:8080/",
          "height": 34
        },
        "outputId": "bf03504f-a53c-4724-aa37-0a024ded5e9b"
      },
      "outputs": [
        {
          "output_type": "execute_result",
          "data": {
            "text/plain": [
              "3.4 <Unit('second')>"
            ],
            "text/html": [
              "3.4 second"
            ],
            "text/latex": "$3.4\\ \\mathrm{second}$"
          },
          "metadata": {},
          "execution_count": 271
        }
      ],
      "source": [
        "t = 3.4 * second\n",
        "t"
      ]
    },
    {
      "cell_type": "markdown",
      "id": "severe-share",
      "metadata": {
        "id": "severe-share"
      },
      "source": [
        "And use it to compute the distance a penny would fall after `t` seconds with constant acceleration `a`.  "
      ]
    },
    {
      "cell_type": "code",
      "execution_count": null,
      "id": "alien-scout",
      "metadata": {
        "id": "alien-scout",
        "colab": {
          "base_uri": "https://localhost:8080/",
          "height": 34
        },
        "outputId": "31bfb8a9-1097-4538-c515-991a0bd91e4d"
      },
      "outputs": [
        {
          "output_type": "execute_result",
          "data": {
            "text/plain": [
              "56.644 <Unit('meter')>"
            ],
            "text/html": [
              "56.644 meter"
            ],
            "text/latex": "$56.644\\ \\mathrm{meter}$"
          },
          "metadata": {},
          "execution_count": 272
        }
      ],
      "source": [
        "a * t**2 / 2"
      ]
    },
    {
      "cell_type": "markdown",
      "id": "wicked-indianapolis",
      "metadata": {
        "id": "wicked-indianapolis"
      },
      "source": [
        "Notice that the units of the result are correct.\n",
        "If we create a quantity to represent the height of the Empire State Building:"
      ]
    },
    {
      "cell_type": "code",
      "execution_count": null,
      "id": "confidential-costs",
      "metadata": {
        "id": "confidential-costs"
      },
      "outputs": [],
      "source": [
        "h = 381 * meter"
      ]
    },
    {
      "cell_type": "markdown",
      "id": "hollow-programmer",
      "metadata": {
        "id": "hollow-programmer"
      },
      "source": [
        "We can use it to compute the time the penny would take to reach the sidewalk."
      ]
    },
    {
      "cell_type": "code",
      "execution_count": null,
      "id": "studied-opera",
      "metadata": {
        "id": "studied-opera",
        "colab": {
          "base_uri": "https://localhost:8080/",
          "height": 34
        },
        "outputId": "c185ae06-059d-403a-a27c-e815462496fe"
      },
      "outputs": [
        {
          "output_type": "execute_result",
          "data": {
            "text/plain": [
              "8.817885349720552 <Unit('second')>"
            ],
            "text/html": [
              "8.817885349720552 second"
            ],
            "text/latex": "$8.817885349720552\\ \\mathrm{second}$"
          },
          "metadata": {},
          "execution_count": 274
        }
      ],
      "source": [
        "t = sqrt(2 * h / a)\n",
        "t"
      ]
    },
    {
      "cell_type": "markdown",
      "id": "seasonal-laser",
      "metadata": {
        "id": "seasonal-laser"
      },
      "source": [
        "And the velocity of the penny on impact:"
      ]
    },
    {
      "cell_type": "code",
      "execution_count": null,
      "id": "exterior-greek",
      "metadata": {
        "id": "exterior-greek",
        "colab": {
          "base_uri": "https://localhost:8080/",
          "height": 34
        },
        "outputId": "d7381369-7d1f-49ce-9f6a-d80dfb387c93"
      },
      "outputs": [
        {
          "output_type": "execute_result",
          "data": {
            "text/plain": [
              "86.41527642726142 <Unit('meter / second')>"
            ],
            "text/html": [
              "86.41527642726142 meter/second"
            ],
            "text/latex": "$86.41527642726142\\ \\frac{\\mathrm{meter}}{\\mathrm{second}}$"
          },
          "metadata": {},
          "execution_count": 275
        }
      ],
      "source": [
        "v = a * t\n",
        "v"
      ]
    },
    {
      "cell_type": "code",
      "execution_count": null,
      "id": "impaired-puzzle",
      "metadata": {
        "tags": [],
        "id": "impaired-puzzle"
      },
      "outputs": [],
      "source": [
        "assert abs(v.magnitude - 86.41527642726142) < 1e-7"
      ]
    },
    {
      "cell_type": "markdown",
      "id": "superior-biography",
      "metadata": {
        "id": "superior-biography"
      },
      "source": [
        "As in the previous section, the result is about $86$, but now it has the correct units, m/s.\n",
        "\n",
        "With Pint quantities, we can convert from one set of units to another like this:"
      ]
    },
    {
      "cell_type": "code",
      "execution_count": null,
      "id": "antique-landing",
      "metadata": {
        "id": "antique-landing"
      },
      "outputs": [],
      "source": [
        "mile = units.mile\n",
        "hour = units.hour"
      ]
    },
    {
      "cell_type": "code",
      "execution_count": null,
      "id": "included-failure",
      "metadata": {
        "id": "included-failure",
        "colab": {
          "base_uri": "https://localhost:8080/",
          "height": 34
        },
        "outputId": "d43b3edc-5a95-4036-c8c5-e25908800663"
      },
      "outputs": [
        {
          "output_type": "execute_result",
          "data": {
            "text/plain": [
              "193.30546802805432 <Unit('mile / hour')>"
            ],
            "text/html": [
              "193.30546802805432 mile/hour"
            ],
            "text/latex": "$193.30546802805432\\ \\frac{\\mathrm{mile}}{\\mathrm{hour}}$"
          },
          "metadata": {},
          "execution_count": 278
        }
      ],
      "source": [
        "v.to(mile/hour)"
      ]
    },
    {
      "cell_type": "markdown",
      "id": "progressive-charleston",
      "metadata": {
        "id": "progressive-charleston"
      },
      "source": [
        "If you are more familiar with miles per hour, this result might be easier to interpret.\n",
        "And it might give you a sense that this model is not realistic."
      ]
    },
    {
      "cell_type": "markdown",
      "id": "continuing-democrat",
      "metadata": {
        "id": "continuing-democrat"
      },
      "source": [
        "## Summary\n",
        "\n",
        "This chapter introduces a modeling framework that consists of three steps:\n",
        "\n",
        "* Abstraction is the process of defining a model by deciding which elements of the real world to include and which can be left out.\n",
        "\n",
        "* Analysis and simulation are ways to use a model to generate predictions, explain why things behave as they do, and design things that behave as we want.\n",
        "\n",
        "* Validation is how we test whether the model is right, often by comparing predictions with measurements from the real world.\n",
        "\n",
        "As a first example, we modeled a penny dropped from the Empire State building, including gravity but ignoring air resistance.\n",
        "In the exercises, you'll have a chance to try a better model, including air resistance.\n",
        "\n",
        "This chapter also presents Pint, a library for doing computation with units, which is convenient for converting between different units and helpful for avoiding catastrophic errors."
      ]
    },
    {
      "cell_type": "markdown",
      "id": "thousand-equation",
      "metadata": {
        "id": "thousand-equation"
      },
      "source": [
        "## Exercises\n",
        "\n",
        "Before you go on, you might want to work on the following exercises."
      ]
    },
    {
      "cell_type": "markdown",
      "id": "periodic-objective",
      "metadata": {
        "id": "periodic-objective"
      },
      "source": [
        "### Exercise 1\n",
        "\n",
        "In mathematical notation, we can write an equation like $v = a t$ and it's understood that we are multiplying $a$ and $t$.\n",
        "But that doesn't work in Python.  If you put two variables side-by-side, like this:\n",
        "\n",
        "```\n",
        "v = a t\n",
        "```\n",
        "\n",
        "you'll get a *syntax error*, which means that something is wrong with the structure of the program. Try it out so you see what the error message looks like."
      ]
    },
    {
      "cell_type": "code",
      "execution_count": null,
      "id": "exempt-delight",
      "metadata": {
        "tags": [],
        "id": "exempt-delight",
        "colab": {
          "base_uri": "https://localhost:8080/",
          "height": 34
        },
        "outputId": "5e61e1d5-c7b7-4398-cabb-1e8946123d75"
      },
      "outputs": [
        {
          "output_type": "execute_result",
          "data": {
            "text/plain": [
              "33.32 <Unit('meter / second')>"
            ],
            "text/html": [
              "33.32 meter/second"
            ],
            "text/latex": "$33.32\\ \\frac{\\mathrm{meter}}{\\mathrm{second}}$"
          },
          "metadata": {},
          "execution_count": 279
        }
      ],
      "source": [
        "a = 9.8 * meter / second**2\n",
        "t = 3.4 * second\n",
        "\n",
        "v = a * t\n",
        "v"
      ]
    },
    {
      "cell_type": "markdown",
      "id": "pressing-sugar",
      "metadata": {
        "id": "pressing-sugar"
      },
      "source": [
        "### Exercise 2\n",
        "\n",
        "In this chapter we used the `sqrt` function from the NumPy library.  NumPy also provides a variable named `pi` that contains an approximation of the mathematical constant $\\pi$.\n",
        "We can import it like this:"
      ]
    },
    {
      "cell_type": "code",
      "execution_count": null,
      "id": "legal-observer",
      "metadata": {
        "id": "legal-observer",
        "colab": {
          "base_uri": "https://localhost:8080/"
        },
        "outputId": "05dd951a-3d56-487e-f3a7-89bde9b708aa"
      },
      "outputs": [
        {
          "output_type": "execute_result",
          "data": {
            "text/plain": [
              "3.141592653589793"
            ]
          },
          "metadata": {},
          "execution_count": 280
        }
      ],
      "source": [
        "from numpy import pi\n",
        "pi"
      ]
    },
    {
      "cell_type": "markdown",
      "id": "aggregate-mambo",
      "metadata": {
        "id": "aggregate-mambo"
      },
      "source": [
        "NumPy provides other functions we'll use, including `log`, `exp`, `sin`, and `cos`.\n",
        "Import `sin` and `cos` from NumPy and compute\n",
        "\n",
        "$$sin^2 (\\pi/4) + cos^2 (\\pi/4)$$\n",
        "\n",
        "Note: A mathematical identity tells us that the answer should be $1$."
      ]
    },
    {
      "cell_type": "code",
      "execution_count": null,
      "id": "pressing-belgium",
      "metadata": {
        "id": "pressing-belgium",
        "colab": {
          "base_uri": "https://localhost:8080/"
        },
        "outputId": "3f9536b3-b298-49cb-be9a-2777f6347cd1"
      },
      "outputs": [
        {
          "output_type": "execute_result",
          "data": {
            "text/plain": [
              "1.0"
            ]
          },
          "metadata": {},
          "execution_count": 281
        }
      ],
      "source": [
        "# Solution goes here\n",
        "from numpy import sin, cos\n",
        "solution_1 = sin(pi / 4) ** 2 + cos(pi / 4) ** 2\n",
        "solution_1"
      ]
    },
    {
      "cell_type": "markdown",
      "id": "unlimited-delivery",
      "metadata": {
        "id": "unlimited-delivery"
      },
      "source": [
        "### Exercise 3\n",
        "\n",
        "Suppose you bring a 10 foot pole to the top of the Empire State Building and use it to drop the penny from `h` plus 10 feet.\n",
        "\n",
        "Define a variable named `foot` that contains the unit `foot` provided by the `UnitRegistry` we called `units`.  Define a variable named `pole_height` and give it the value 10 feet.\n",
        "\n",
        "What happens if you add `h`, which is in units of meters, to `pole_height`, which is in units of feet?  What happens if you write the addition the other way around?"
      ]
    },
    {
      "cell_type": "code",
      "execution_count": null,
      "id": "inner-equivalent",
      "metadata": {
        "id": "inner-equivalent"
      },
      "outputs": [],
      "source": [
        "h = 381 * meter"
      ]
    },
    {
      "cell_type": "code",
      "execution_count": null,
      "id": "nuclear-thirty",
      "metadata": {
        "id": "nuclear-thirty"
      },
      "outputs": [],
      "source": [
        "# Solution goes here\n",
        "foot = units.foot\n",
        "pole_height = 10 * foot"
      ]
    },
    {
      "cell_type": "code",
      "execution_count": null,
      "id": "available-steering",
      "metadata": {
        "id": "available-steering",
        "colab": {
          "base_uri": "https://localhost:8080/"
        },
        "outputId": "43fb92a9-205b-4db8-e50a-02ba250c047f"
      },
      "outputs": [
        {
          "output_type": "stream",
          "name": "stdout",
          "text": [
            "384.048 meter\n",
            "3.0479999999999996 meter\n",
            "1260.0 foot\n",
            "1250.0 foot\n"
          ]
        }
      ],
      "source": [
        "# Solution goes here\n",
        "\n",
        "print(h + pole_height)\n",
        "\"\"\"\n",
        "This calculation results in 384.048 meters. I believe this is because 10 feet is 3.048 meters,\n",
        "so the heights are being added but put in terms of the first unit.\n",
        "\"\"\"\n",
        "#Testing that 10 feet is in fact 3.048 meters.\n",
        "print(pole_height.to(meter))\n",
        "\n",
        "#10 feet is 3.048 meters, as desired.\n",
        "\n",
        "#This means that the next calculation should give us the result of 10 feet + 381 meters in feet.\n",
        "print(pole_height + h)\n",
        "\n",
        "\"\"\"\n",
        "The result was 1260 meters, so since the pole height was 10 feet, that means that h (381 meters)\n",
        "must be equal to 1250 feet.\n",
        "\"\"\"\n",
        "#Testing if h is 1250 feet.\n",
        "print(h.to(foot))\n",
        "\n",
        "#h is 1250 feet, as desired."
      ]
    },
    {
      "cell_type": "markdown",
      "id": "aggressive-climate",
      "metadata": {
        "id": "aggressive-climate"
      },
      "source": [
        "### Exercise 4\n",
        "\n",
        "Why would it be nonsensical to add `a` and `t`? What happens if you try?"
      ]
    },
    {
      "cell_type": "code",
      "execution_count": null,
      "id": "documentary-doctrine",
      "metadata": {
        "id": "documentary-doctrine"
      },
      "outputs": [],
      "source": [
        "a = 9.8 * meter / second**2\n",
        "t = 3.4 * second"
      ]
    },
    {
      "cell_type": "code",
      "execution_count": null,
      "id": "primary-partner",
      "metadata": {
        "id": "primary-partner",
        "colab": {
          "base_uri": "https://localhost:8080/",
          "height": 54
        },
        "outputId": "00fb5110-55dc-4249-869e-7fb1885eab09"
      },
      "outputs": [
        {
          "output_type": "execute_result",
          "data": {
            "text/plain": [
              "'\\na and t cannot be added because a is in meters per square second, and t is in seconds.\\nThese values do not have the same unit so they cannot be added.\\nAttempting to add them results in a \"dimensionality error\".\\n'"
            ],
            "application/vnd.google.colaboratory.intrinsic+json": {
              "type": "string"
            }
          },
          "metadata": {},
          "execution_count": 286
        }
      ],
      "source": [
        "\"\"\"\n",
        "a and t cannot be added because a is in meters per square second, and t is in seconds.\n",
        "These values do not have the same unit so they cannot be added.\n",
        "Attempting to add them results in a \"dimensionality error\".\n",
        "\"\"\"\n",
        "\n",
        "#print(a + t)"
      ]
    },
    {
      "cell_type": "markdown",
      "id": "legal-audio",
      "metadata": {
        "id": "legal-audio"
      },
      "source": [
        "In this example, you should get a `DimensionalityError`, which indicates that you have violated a rule of dimensional analysis: you cannot add quantities with different dimensions.\n",
        "\n",
        "The error messages you get from Python are big and scary, but if you read them carefully, they contain a lot of useful information.\n",
        "\n",
        "The last line usually tells you what type of error happened, and sometimes additional information, so you might want to start from the bottom and read up.\n",
        "\n",
        "The previous lines are a *traceback* of what was happening when the error occurred.  The first section of the traceback shows the code you wrote.  The following sections are often from Python libraries."
      ]
    },
    {
      "cell_type": "markdown",
      "id": "steady-chancellor",
      "metadata": {
        "tags": [],
        "id": "steady-chancellor"
      },
      "source": [
        "Before you go on, you might want to delete the erroneous code so the notebook can run without errors."
      ]
    },
    {
      "cell_type": "markdown",
      "id": "valid-empire",
      "metadata": {
        "id": "valid-empire"
      },
      "source": [
        "### Exercise 5\n",
        "\n",
        "Suppose instead of dropping the penny, you throw it downward at its terminal velocity, $29$ m/s.  How long would it take to fall $381$ m?"
      ]
    },
    {
      "cell_type": "code",
      "execution_count": null,
      "id": "greenhouse-reason",
      "metadata": {
        "id": "greenhouse-reason",
        "colab": {
          "base_uri": "https://localhost:8080/",
          "height": 54
        },
        "outputId": "2ce2096e-8086-4835-ece2-18738add9628"
      },
      "outputs": [
        {
          "output_type": "stream",
          "name": "stdout",
          "text": [
            "13.137931034482758 second\n"
          ]
        },
        {
          "output_type": "execute_result",
          "data": {
            "text/plain": [
              "'\\nIt will take a little over 13 seconds for the penny to fall 381 meters.\\n'"
            ],
            "application/vnd.google.colaboratory.intrinsic+json": {
              "type": "string"
            }
          },
          "metadata": {},
          "execution_count": 287
        }
      ],
      "source": [
        "# Solution goes here\n",
        "\n",
        "\"\"\"\n",
        "The penny is thrown downward at its terminal velocity, which means that it will travel at a constant rate.\n",
        "Therefore, the question is \"How long will an object traveling at a constant rate of 29 m/s take to travel 381 m?\"\n",
        "\"\"\"\n",
        "\n",
        "tv = 29 * meter / second\n",
        "distance_down = 381 * meter\n",
        "falling_time = distance_down / tv\n",
        "print(falling_time)\n",
        "\n",
        "\"\"\"\n",
        "It will take a little over 13 seconds for the penny to fall 381 meters.\n",
        "\"\"\""
      ]
    },
    {
      "cell_type": "markdown",
      "id": "asian-murray",
      "metadata": {
        "id": "asian-murray"
      },
      "source": [
        "### Exercise 6:\n",
        "\n",
        "So far we have considered two models of a falling penny:\n",
        "\n",
        "* If we ignore air resistance, the penny falls with constant acceleration, and we can compute the time to reach the sidewalk and the velocity of the penny when it gets there.\n",
        "\n",
        "* If we take air resistance into account, and drop the penny at its terminal velocity, it falls with constant velocity.\n",
        "\n",
        "Now let's consider a third model that includes elements of the first two: let's assume that the acceleration of the penny is `a` until the penny reaches $29$ m/s, and then $0$ m/s$^2$ afterwards.  What is the total time for the penny to fall $381$ m?"
      ]
    },
    {
      "cell_type": "markdown",
      "id": "detailed-minnesota",
      "metadata": {
        "id": "detailed-minnesota"
      },
      "source": [
        "You can break this question into three parts:\n",
        "\n",
        "1. How long would the penny take to reach $29$ m/s with constant acceleration `a`.\n",
        "2. How far would it fall during that time?\n",
        "3. How long would it take to fall the remaining distance with constant velocity $29$ m/s?\n",
        "\n",
        "Suggestion: Assign each intermediate result to a variable with a meaningful name.  And assign units to all quantities!"
      ]
    },
    {
      "cell_type": "code",
      "execution_count": null,
      "id": "secure-crowd",
      "metadata": {
        "id": "secure-crowd"
      },
      "outputs": [],
      "source": [
        "a = 9.8 * meter / second**2\n",
        "h = 381 * meter"
      ]
    },
    {
      "cell_type": "code",
      "execution_count": null,
      "id": "thirty-minneapolis",
      "metadata": {
        "id": "thirty-minneapolis",
        "colab": {
          "base_uri": "https://localhost:8080/"
        },
        "outputId": "33087de1-9f2e-472a-aa6a-8db954f5459a"
      },
      "outputs": [
        {
          "output_type": "stream",
          "name": "stdout",
          "text": [
            "2.9591836734693877 second\n"
          ]
        }
      ],
      "source": [
        "# Solution goes here\n",
        "tv = 29 * meter / second\n",
        "time_to_tv = tv / a\n",
        "print(time_to_tv)\n",
        "\n",
        "#It takes the penny about 2.96 seconds to reach terminal velocity."
      ]
    },
    {
      "cell_type": "code",
      "execution_count": null,
      "id": "premier-seeking",
      "metadata": {
        "id": "premier-seeking",
        "colab": {
          "base_uri": "https://localhost:8080/"
        },
        "outputId": "b0dcb4e2-f35c-405f-a112-7f3dbe2176df"
      },
      "outputs": [
        {
          "output_type": "stream",
          "name": "stdout",
          "text": [
            "42.90816326530612 meter\n"
          ]
        }
      ],
      "source": [
        "# Solution goes here\n",
        "\"\"\"\n",
        "The penny's distance traveled position after the first 2.96 seconds can be found with\n",
        "the second integral of acceleration with respect to time (since velocity is the derivative\n",
        "of position, and acceleration is the derivative of velocity). The integral of acceleration\n",
        "is velocity V = 9.8t + C, but we know the initial velocity is 0 so C = 0. The integral of\n",
        "velocity is therefore P = 9.8t^2/2 + C, or P = 4.9t^2 + C. Defining the original position of\n",
        "the penny as 0, we again get C = 0, so P = 4.9t^2.\n",
        "\"\"\"\n",
        "\n",
        "distance_before_tv = 4.9 * time_to_tv ** 2 * meter / second ** 2\n",
        "print(distance_before_tv)\n",
        "\n",
        "#The penny will travel about 42.91 meters before reaching terminal velocity."
      ]
    },
    {
      "cell_type": "code",
      "execution_count": null,
      "id": "brave-laundry",
      "metadata": {
        "id": "brave-laundry",
        "colab": {
          "base_uri": "https://localhost:8080/"
        },
        "outputId": "a8916ce9-3a2c-48e2-857f-ea316b47aec2"
      },
      "outputs": [
        {
          "output_type": "stream",
          "name": "stdout",
          "text": [
            "338.09183673469386 meter\n"
          ]
        }
      ],
      "source": [
        "# Solution goes here\n",
        "\n",
        "height_at_tv = h - (distance_before_tv)\n",
        "print(height_at_tv)\n",
        "#The penny is about 338.09 meters above the ground when it reaches terminal velocity."
      ]
    },
    {
      "cell_type": "code",
      "execution_count": null,
      "id": "adjusted-consultation",
      "metadata": {
        "id": "adjusted-consultation",
        "colab": {
          "base_uri": "https://localhost:8080/"
        },
        "outputId": "2c93e2bc-a98a-4bda-f8f0-a15ba9fa6c0b"
      },
      "outputs": [
        {
          "output_type": "stream",
          "name": "stdout",
          "text": [
            "11.658339197748065 second\n"
          ]
        }
      ],
      "source": [
        "# Solution goes here\n",
        "time_from_tv = height_at_tv / tv\n",
        "print(time_from_tv)\n",
        "\n",
        "#From the time it reaches terminal velocity, the penny takes about 11.66 more seconds to hit the ground."
      ]
    },
    {
      "cell_type": "code",
      "execution_count": null,
      "id": "understanding-consortium",
      "metadata": {
        "id": "understanding-consortium",
        "colab": {
          "base_uri": "https://localhost:8080/"
        },
        "outputId": "d41cee36-8f03-45f6-aa38-f2aaea7474e8"
      },
      "outputs": [
        {
          "output_type": "stream",
          "name": "stdout",
          "text": [
            "14.617522871217453 second\n"
          ]
        }
      ],
      "source": [
        "# Solution goes here\n",
        "total_time = time_to_tv + time_from_tv\n",
        "print(total_time)\n",
        "\n",
        "#The penny will take about 14.62 seconds to hit the ground."
      ]
    },
    {
      "cell_type": "markdown",
      "id": "composed-tunnel",
      "metadata": {
        "id": "composed-tunnel"
      },
      "source": [
        "### Exercise 7\n",
        "\n",
        "When I was in high school, the pitcher on the baseball team claimed that when he threw a fastball he was throwing the ball down; that is, the ball left his hand at a downward angle.\n",
        "I was skeptical; watching from the side, I thought the ball left his hand at an upward angle.\n",
        "\n",
        "Can you think of a simple model you could use to settle the argument?  What factors would you include and what could you ignore?  What quantities would you have to look up or estimate?\n",
        "\n",
        "I suggest you convert all quantities to SI units like meters and seconds (see <https://en.wikipedia.org/wiki/International_System_of_Units>)."
      ]
    },
    {
      "cell_type": "code",
      "execution_count": null,
      "id": "about-complex",
      "metadata": {
        "id": "about-complex"
      },
      "outputs": [],
      "source": [
        "# Solution goes here\n",
        "\"\"\"\n",
        "I didn't realize that we only had to do exercise six until I had done all the other ones except this one.\n",
        "Bonus extra practice!\n",
        "\"\"\""
      ]
    },
    {
      "cell_type": "code",
      "execution_count": null,
      "id": "unique-owner",
      "metadata": {
        "id": "unique-owner"
      },
      "outputs": [],
      "source": [
        "# Solution goes here"
      ]
    },
    {
      "cell_type": "code",
      "execution_count": null,
      "id": "minus-batman",
      "metadata": {
        "id": "minus-batman"
      },
      "outputs": [],
      "source": [
        "# Solution goes here"
      ]
    },
    {
      "cell_type": "code",
      "execution_count": null,
      "id": "exact-vegetable",
      "metadata": {
        "id": "exact-vegetable"
      },
      "outputs": [],
      "source": [
        "# Solution goes here"
      ]
    },
    {
      "cell_type": "code",
      "execution_count": null,
      "id": "neutral-lightning",
      "metadata": {
        "id": "neutral-lightning"
      },
      "outputs": [],
      "source": [
        "# Solution goes here"
      ]
    },
    {
      "cell_type": "markdown",
      "id": "jewish-secret",
      "metadata": {
        "id": "jewish-secret"
      },
      "source": [
        "### Exercise 8\n",
        "\n",
        "Suppose I run a 10K race in 44:52 (44 minutes and 52 seconds).  What is my average pace in minutes per mile?"
      ]
    },
    {
      "cell_type": "code",
      "execution_count": null,
      "id": "virgin-cambodia",
      "metadata": {
        "id": "virgin-cambodia"
      },
      "outputs": [],
      "source": [
        "mile = units.mile\n",
        "kilometer = units.kilometer\n",
        "minute = units.minute"
      ]
    },
    {
      "cell_type": "code",
      "execution_count": null,
      "id": "right-intention",
      "metadata": {
        "id": "right-intention",
        "colab": {
          "base_uri": "https://localhost:8080/"
        },
        "outputId": "6ab23886-6e8a-4f52-e3c5-05a9ef1210dd"
      },
      "outputs": [
        {
          "output_type": "stream",
          "name": "stdout",
          "text": [
            "2692 second\n"
          ]
        }
      ],
      "source": [
        "# Solution goes here\n",
        "second = units.second\n",
        "time_to_run = 52 * second + 44 * minute\n",
        "print(time_to_run)\n",
        "\n",
        "#The race was run in 2,692 seconds"
      ]
    },
    {
      "cell_type": "code",
      "execution_count": null,
      "id": "mineral-sally",
      "metadata": {
        "id": "mineral-sally"
      },
      "outputs": [],
      "source": [
        "# Solution goes here\n",
        "race_length = 10 * kilometer"
      ]
    },
    {
      "cell_type": "code",
      "execution_count": null,
      "id": "coral-camel",
      "metadata": {
        "id": "coral-camel",
        "colab": {
          "base_uri": "https://localhost:8080/"
        },
        "outputId": "dc3f9905-82b2-4209-aa5e-6936628beaf2"
      },
      "outputs": [
        {
          "output_type": "stream",
          "name": "stdout",
          "text": [
            "0.003714710252600297 kilometer / second\n"
          ]
        }
      ],
      "source": [
        "# Solution goes here\n",
        "speed_km_sec = race_length / time_to_run\n",
        "print(speed_km_sec)\n",
        "\n",
        "#The average speed was about 0.004 kilometers per second"
      ]
    },
    {
      "cell_type": "code",
      "execution_count": null,
      "id": "preceding-cricket",
      "metadata": {
        "id": "preceding-cricket",
        "colab": {
          "base_uri": "https://localhost:8080/"
        },
        "outputId": "c430814c-5b71-442c-e9f8-d55873ac8411"
      },
      "outputs": [
        {
          "output_type": "stream",
          "name": "stdout",
          "text": [
            "0.13849283630846967 mile / minute\n"
          ]
        }
      ],
      "source": [
        "# Solution goes here\n",
        "speed_mile_min = speed_km_sec.to(mile / minute)\n",
        "print(speed_mile_min)\n",
        "\n",
        "#The average speed was about 0.14 miles per minute"
      ]
    },
    {
      "cell_type": "code",
      "execution_count": null,
      "id": "effective-rendering",
      "metadata": {
        "id": "effective-rendering",
        "colab": {
          "base_uri": "https://localhost:8080/"
        },
        "outputId": "9e755602-92cf-4ffe-ac34-b4f370ff7033"
      },
      "outputs": [
        {
          "output_type": "stream",
          "name": "stdout",
          "text": [
            "7.22059008 minute / mile\n"
          ]
        }
      ],
      "source": [
        "# Solution goes here\n",
        "pace_min_mile = 1 / speed_mile_min\n",
        "print(pace_min_mile)\n",
        "\n",
        "#The average pace was about 7.22 minutes per mile"
      ]
    },
    {
      "cell_type": "code",
      "execution_count": null,
      "id": "printable-reply",
      "metadata": {
        "id": "printable-reply",
        "colab": {
          "base_uri": "https://localhost:8080/"
        },
        "outputId": "7d4e745b-978c-4f77-b1b5-e15b7c3d5974"
      },
      "outputs": [
        {
          "output_type": "stream",
          "name": "stdout",
          "text": [
            "2692.0 second\n"
          ]
        }
      ],
      "source": [
        "# Solution goes here\n",
        "check_time = (pace_min_mile * race_length.to(mile)).to(second)\n",
        "print(check_time)\n",
        "\n",
        "# At 7.22 minutes per mile, it would take 2692 seconds (44 minutes and 52 seconds) to run 10 kilometers, as desired."
      ]
    },
    {
      "cell_type": "markdown",
      "id": "environmental-wallet",
      "metadata": {
        "tags": [],
        "id": "environmental-wallet"
      },
      "source": [
        "## More Jupyter\n",
        "\n",
        "You can add and remove cells from a notebook using the buttons in the toolbar and the items in the menu, both of which you should see at the top of this notebook.\n",
        "\n",
        "Try the following exercises:\n",
        "\n",
        "1.  From the Insert menu select \"Insert cell below\" to add a cell below this one.  By default, you get a code cell, as you can see in the pulldown menu that says \"Code\".\n",
        "\n",
        "2.  In the new cell, add a print statement like `print('Hello')`, and run it.\n",
        "\n",
        "3.  Add another cell, select the new cell, and then click on the pulldown menu that says \"Code\" and select \"Markdown\".  This makes the new cell a text cell.\n",
        "\n",
        "4.  In the new cell, type some text, and then run it.\n",
        "\n",
        "5.  Use the arrow buttons in the toolbar to move cells up and down.\n",
        "\n",
        "6.  Use the cut, copy, and paste buttons to delete, add, and move cells.\n",
        "\n",
        "7.  As you make changes, Jupyter saves your notebook automatically, but if you want to make sure, you can press the save button, which looks like a floppy disk from the 1990s.\n",
        "\n",
        "8.  Finally, when you are done with a notebook, select \"Close and Halt\" from the File menu."
      ]
    },
    {
      "cell_type": "markdown",
      "id": "successful-kentucky",
      "metadata": {
        "tags": [],
        "id": "successful-kentucky"
      },
      "source": [
        "When you change the contents of a cell, you have to run it again for those changes to have an effect.  If you forget to do that, the results can be confusing, because the code you are looking at is not the code you ran.\n",
        "\n",
        "If you ever lose track of which cells have run, and in what order, you should go to the Kernel menu and select \"Restart & Run All\".  Restarting the kernel means that all of your variables get deleted, and running all the cells means all of your code will run again, in the right order.\n",
        "\n",
        "Select \"Restart & Run All\" now and confirm that it runs all of the cells."
      ]
    },
    {
      "cell_type": "code",
      "execution_count": null,
      "id": "weighted-quebec",
      "metadata": {
        "id": "weighted-quebec"
      },
      "outputs": [],
      "source": []
    }
  ],
  "metadata": {
    "celltoolbar": "Tags",
    "kernelspec": {
      "display_name": "Python 3 (ipykernel)",
      "language": "python",
      "name": "python3"
    },
    "language_info": {
      "codemirror_mode": {
        "name": "ipython",
        "version": 3
      },
      "file_extension": ".py",
      "mimetype": "text/x-python",
      "name": "python",
      "nbconvert_exporter": "python",
      "pygments_lexer": "ipython3",
      "version": "3.8.16"
    },
    "colab": {
      "provenance": []
    }
  },
  "nbformat": 4,
  "nbformat_minor": 5
}