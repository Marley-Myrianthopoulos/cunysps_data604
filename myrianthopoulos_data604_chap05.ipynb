{
  "cells": [
    {
      "cell_type": "markdown",
      "id": "wicked-mozambique",
      "metadata": {
        "id": "wicked-mozambique"
      },
      "source": [
        "# World Population"
      ]
    },
    {
      "cell_type": "markdown",
      "id": "imported-table",
      "metadata": {
        "id": "imported-table"
      },
      "source": [
        "*Modeling and Simulation in Python*\n",
        "\n",
        "Copyright 2021 Allen Downey\n",
        "\n",
        "License: [Creative Commons Attribution-NonCommercial-ShareAlike 4.0 International](https://creativecommons.org/licenses/by-nc-sa/4.0/)"
      ]
    },
    {
      "cell_type": "code",
      "execution_count": 45,
      "id": "electoral-turkey",
      "metadata": {
        "colab": {
          "base_uri": "https://localhost:8080/"
        },
        "id": "electoral-turkey",
        "outputId": "4140b739-462a-4986-9542-eb5e690024e1"
      },
      "outputs": [],
      "source": [
        "# install Pint if necessary\n",
        "\n",
        "try:\n",
        "    import pint\n",
        "except ImportError:\n",
        "    !pip install pint"
      ]
    },
    {
      "cell_type": "code",
      "execution_count": 46,
      "id": "formal-context",
      "metadata": {
        "colab": {
          "base_uri": "https://localhost:8080/"
        },
        "id": "formal-context",
        "outputId": "2f6defb7-8b02-4800-e327-6ffdadd47c1f"
      },
      "outputs": [],
      "source": [
        "# download modsim.py if necessary\n",
        "\n",
        "from os.path import basename, exists\n",
        "\n",
        "def download(url):\n",
        "    filename = basename(url)\n",
        "    if not exists(filename):\n",
        "        from urllib.request import urlretrieve\n",
        "        local, _ = urlretrieve(url, filename)\n",
        "        print('Downloaded ' + local)\n",
        "\n",
        "download('https://raw.githubusercontent.com/AllenDowney/' +\n",
        "         'ModSimPy/master/modsim.py')"
      ]
    },
    {
      "cell_type": "code",
      "execution_count": 47,
      "id": "progressive-typing",
      "metadata": {
        "id": "progressive-typing"
      },
      "outputs": [],
      "source": [
        "# import functions from modsim\n",
        "\n",
        "from modsim import *"
      ]
    },
    {
      "cell_type": "markdown",
      "id": "informal-contractor",
      "metadata": {
        "id": "informal-contractor"
      },
      "source": [
        "In 1968 Paul Erlich published *The Population Bomb*, in which he\n",
        "predicted that world population would grow quickly during the 1970s,\n",
        "that agricultural production could not keep up, and that mass starvation in the next two decades was inevitable (see\n",
        "<https://modsimpy.com/popbomb>). As someone who grew up during those\n",
        "decades, I am happy to report that those predictions were wrong.\n",
        "\n",
        "But world population growth is still a topic of concern, and it is an\n",
        "open question how many people Earth can sustain while maintaining\n",
        "and improving our quality of life.\n",
        "\n",
        "In this chapter and the next, we use tools from the previous chapters to model world population growth since 1950 and generate predictions for the next 50-100 years.\n",
        "For background on world population growth, watch this video from the\n",
        "American Museum of Natural History <https://modsimpy.com/human>."
      ]
    },
    {
      "cell_type": "markdown",
      "id": "plastic-trigger",
      "metadata": {
        "id": "plastic-trigger"
      },
      "source": [
        "This chapter is available as a Jupyter notebook where you can read the text, run the code, and work on the exercises.\n",
        "Click here to access the notebooks: <https://allendowney.github.io/ModSimPy/>."
      ]
    },
    {
      "cell_type": "markdown",
      "id": "dying-browse",
      "metadata": {
        "id": "dying-browse"
      },
      "source": [
        "## World Population Growth\n",
        "\n",
        "The Wikipedia article on world population contains tables with estimates of world population from prehistory to the present, and projections for the future (<https://modsimpy.com/worldpop>)."
      ]
    },
    {
      "cell_type": "markdown",
      "id": "continuing-cancellation",
      "metadata": {
        "id": "continuing-cancellation"
      },
      "source": [
        "The following cell downloads a copy of https://en.wikipedia.org/wiki/World_population_estimates"
      ]
    },
    {
      "cell_type": "code",
      "execution_count": 48,
      "id": "convenient-stroke",
      "metadata": {
        "colab": {
          "base_uri": "https://localhost:8080/"
        },
        "id": "convenient-stroke",
        "outputId": "d872154d-6960-437b-c660-ba1fedf31e84"
      },
      "outputs": [],
      "source": [
        "download('https://raw.githubusercontent.com/AllenDowney/' +\n",
        "         'ModSimPy/master/data/World_population_estimates.html')"
      ]
    },
    {
      "cell_type": "markdown",
      "id": "acknowledged-bracelet",
      "metadata": {
        "id": "acknowledged-bracelet"
      },
      "source": [
        "To read this data, we will use the Pandas library, which provides functions for\n",
        "working with data. The function we'll use is `read_html`, which can read a web page and extract data from any tables it contains. Before we can use it, we have to import it."
      ]
    },
    {
      "cell_type": "code",
      "execution_count": 49,
      "id": "israeli-finding",
      "metadata": {
        "id": "israeli-finding"
      },
      "outputs": [],
      "source": [
        "from pandas import read_html"
      ]
    },
    {
      "cell_type": "markdown",
      "id": "regulation-parade",
      "metadata": {
        "id": "regulation-parade"
      },
      "source": [
        "Now we can use it like this:"
      ]
    },
    {
      "cell_type": "code",
      "execution_count": 50,
      "id": "instant-beverage",
      "metadata": {
        "id": "instant-beverage"
      },
      "outputs": [],
      "source": [
        "filename = 'World_population_estimates.html'\n",
        "tables = read_html(filename,\n",
        "                   header=0,\n",
        "                   index_col=0,\n",
        "                   decimal='M')"
      ]
    },
    {
      "cell_type": "markdown",
      "id": "dried-immunology",
      "metadata": {
        "id": "dried-immunology"
      },
      "source": [
        "The arguments are:\n",
        "\n",
        "-   `filename`: The name of the file (including the directory it's in)\n",
        "    as a string. This argument can also be a URL starting with `http`.\n",
        "\n",
        "-   `header`: Indicates which row of each table should be considered the\n",
        "    *header*, that is, the set of labels that identify the columns. In\n",
        "    this case it is the first row (numbered 0).\n",
        "\n",
        "-   `index_col`: Indicates which column of each table should be\n",
        "    considered the *index*, that is, the set of labels that identify\n",
        "    the rows. In this case it is the first column, which contains the\n",
        "    years.\n",
        "\n",
        "-   `decimal`: Normally this argument is used to indicate which\n",
        "    character should be considered a decimal point, because some\n",
        "    conventions use a period and some use a comma. In this case I am\n",
        "    abusing the feature by treating `M` as a decimal point, which allows\n",
        "    some of the estimates, which are expressed in millions, to be read\n",
        "    as numbers.\n",
        "\n",
        "The result, which is assigned to `tables`, is a sequence that contains\n",
        "one `DataFrame` for each table. A `DataFrame` is an object, defined by\n",
        "Pandas, that represents tabular data.\n",
        "\n",
        "To select a `DataFrame` from `tables`, we can use the bracket operator\n",
        "like this:"
      ]
    },
    {
      "cell_type": "code",
      "execution_count": 51,
      "id": "driving-wrapping",
      "metadata": {
        "id": "driving-wrapping"
      },
      "outputs": [],
      "source": [
        "table2 = tables[2]"
      ]
    },
    {
      "cell_type": "markdown",
      "id": "simplified-convert",
      "metadata": {
        "id": "simplified-convert"
      },
      "source": [
        "This line selects the third table (numbered 2), which contains\n",
        "population estimates from 1950 to 2016.\n",
        "\n",
        "We can use `head` to display the first few lines of the table."
      ]
    },
    {
      "cell_type": "code",
      "execution_count": 52,
      "id": "running-alcohol",
      "metadata": {
        "colab": {
          "base_uri": "https://localhost:8080/",
          "height": 307
        },
        "id": "running-alcohol",
        "outputId": "9ef532b9-2499-47ab-eebc-66108f961344"
      },
      "outputs": [
        {
          "data": {
            "text/html": [
              "<div>\n",
              "<style scoped>\n",
              "    .dataframe tbody tr th:only-of-type {\n",
              "        vertical-align: middle;\n",
              "    }\n",
              "\n",
              "    .dataframe tbody tr th {\n",
              "        vertical-align: top;\n",
              "    }\n",
              "\n",
              "    .dataframe thead th {\n",
              "        text-align: right;\n",
              "    }\n",
              "</style>\n",
              "<table border=\"1\" class=\"dataframe\">\n",
              "  <thead>\n",
              "    <tr style=\"text-align: right;\">\n",
              "      <th></th>\n",
              "      <th>United States Census Bureau (2017)[28]</th>\n",
              "      <th>Population Reference Bureau (1973–2016)[15]</th>\n",
              "      <th>United Nations Department of Economic and Social Affairs (2015)[16]</th>\n",
              "      <th>Maddison (2008)[17]</th>\n",
              "      <th>HYDE (2007)[24]</th>\n",
              "      <th>Tanton (1994)[18]</th>\n",
              "      <th>Biraben (1980)[19]</th>\n",
              "      <th>McEvedy &amp; Jones (1978)[20]</th>\n",
              "      <th>Thomlinson (1975)[21]</th>\n",
              "      <th>Durand (1974)[22]</th>\n",
              "      <th>Clark (1967)[23]</th>\n",
              "    </tr>\n",
              "    <tr>\n",
              "      <th>Year</th>\n",
              "      <th></th>\n",
              "      <th></th>\n",
              "      <th></th>\n",
              "      <th></th>\n",
              "      <th></th>\n",
              "      <th></th>\n",
              "      <th></th>\n",
              "      <th></th>\n",
              "      <th></th>\n",
              "      <th></th>\n",
              "      <th></th>\n",
              "    </tr>\n",
              "  </thead>\n",
              "  <tbody>\n",
              "    <tr>\n",
              "      <th>1950</th>\n",
              "      <td>2557628654</td>\n",
              "      <td>2.516000e+09</td>\n",
              "      <td>2.525149e+09</td>\n",
              "      <td>2.544000e+09</td>\n",
              "      <td>2.527960e+09</td>\n",
              "      <td>2.400000e+09</td>\n",
              "      <td>2.527000e+09</td>\n",
              "      <td>2.500000e+09</td>\n",
              "      <td>2.400000e+09</td>\n",
              "      <td>NaN</td>\n",
              "      <td>2.486000e+09</td>\n",
              "    </tr>\n",
              "    <tr>\n",
              "      <th>1951</th>\n",
              "      <td>2594939877</td>\n",
              "      <td>NaN</td>\n",
              "      <td>2.572851e+09</td>\n",
              "      <td>2.571663e+09</td>\n",
              "      <td>NaN</td>\n",
              "      <td>NaN</td>\n",
              "      <td>NaN</td>\n",
              "      <td>NaN</td>\n",
              "      <td>NaN</td>\n",
              "      <td>NaN</td>\n",
              "      <td>NaN</td>\n",
              "    </tr>\n",
              "    <tr>\n",
              "      <th>1952</th>\n",
              "      <td>2636772306</td>\n",
              "      <td>NaN</td>\n",
              "      <td>2.619292e+09</td>\n",
              "      <td>2.617949e+09</td>\n",
              "      <td>NaN</td>\n",
              "      <td>NaN</td>\n",
              "      <td>NaN</td>\n",
              "      <td>NaN</td>\n",
              "      <td>NaN</td>\n",
              "      <td>NaN</td>\n",
              "      <td>NaN</td>\n",
              "    </tr>\n",
              "    <tr>\n",
              "      <th>1953</th>\n",
              "      <td>2682053389</td>\n",
              "      <td>NaN</td>\n",
              "      <td>2.665865e+09</td>\n",
              "      <td>2.665959e+09</td>\n",
              "      <td>NaN</td>\n",
              "      <td>NaN</td>\n",
              "      <td>NaN</td>\n",
              "      <td>NaN</td>\n",
              "      <td>NaN</td>\n",
              "      <td>NaN</td>\n",
              "      <td>NaN</td>\n",
              "    </tr>\n",
              "    <tr>\n",
              "      <th>1954</th>\n",
              "      <td>2730228104</td>\n",
              "      <td>NaN</td>\n",
              "      <td>2.713172e+09</td>\n",
              "      <td>2.716927e+09</td>\n",
              "      <td>NaN</td>\n",
              "      <td>NaN</td>\n",
              "      <td>NaN</td>\n",
              "      <td>NaN</td>\n",
              "      <td>NaN</td>\n",
              "      <td>NaN</td>\n",
              "      <td>NaN</td>\n",
              "    </tr>\n",
              "  </tbody>\n",
              "</table>\n",
              "</div>"
            ],
            "text/plain": [
              "      United States Census Bureau (2017)[28]  \\\n",
              "Year                                           \n",
              "1950                              2557628654   \n",
              "1951                              2594939877   \n",
              "1952                              2636772306   \n",
              "1953                              2682053389   \n",
              "1954                              2730228104   \n",
              "\n",
              "      Population Reference Bureau (1973–2016)[15]  \\\n",
              "Year                                                \n",
              "1950                                 2.516000e+09   \n",
              "1951                                          NaN   \n",
              "1952                                          NaN   \n",
              "1953                                          NaN   \n",
              "1954                                          NaN   \n",
              "\n",
              "      United Nations Department of Economic and Social Affairs (2015)[16]  \\\n",
              "Year                                                                        \n",
              "1950                                       2.525149e+09                     \n",
              "1951                                       2.572851e+09                     \n",
              "1952                                       2.619292e+09                     \n",
              "1953                                       2.665865e+09                     \n",
              "1954                                       2.713172e+09                     \n",
              "\n",
              "      Maddison (2008)[17]  HYDE (2007)[24]  Tanton (1994)[18]  \\\n",
              "Year                                                            \n",
              "1950         2.544000e+09     2.527960e+09       2.400000e+09   \n",
              "1951         2.571663e+09              NaN                NaN   \n",
              "1952         2.617949e+09              NaN                NaN   \n",
              "1953         2.665959e+09              NaN                NaN   \n",
              "1954         2.716927e+09              NaN                NaN   \n",
              "\n",
              "      Biraben (1980)[19]  McEvedy & Jones (1978)[20]  Thomlinson (1975)[21]  \\\n",
              "Year                                                                          \n",
              "1950        2.527000e+09                2.500000e+09           2.400000e+09   \n",
              "1951                 NaN                         NaN                    NaN   \n",
              "1952                 NaN                         NaN                    NaN   \n",
              "1953                 NaN                         NaN                    NaN   \n",
              "1954                 NaN                         NaN                    NaN   \n",
              "\n",
              "     Durand (1974)[22]  Clark (1967)[23]  \n",
              "Year                                      \n",
              "1950               NaN      2.486000e+09  \n",
              "1951               NaN               NaN  \n",
              "1952               NaN               NaN  \n",
              "1953               NaN               NaN  \n",
              "1954               NaN               NaN  "
            ]
          },
          "execution_count": 52,
          "metadata": {},
          "output_type": "execute_result"
        }
      ],
      "source": [
        "table2.head()"
      ]
    },
    {
      "cell_type": "markdown",
      "id": "valid-editing",
      "metadata": {
        "id": "valid-editing"
      },
      "source": [
        "The first column, which is labeled `Year`, is special.  It is the *index* for this `DataFrame`, which means it contains the labels for the rows.\n",
        "\n",
        "Some of the values use scientific notation; for example, `2.516000e+09` is shorthand for $2.516 \\cdot 10^9$ or 2.516 billion.\n",
        "\n",
        "`NaN` is a special value that indicates missing data."
      ]
    },
    {
      "cell_type": "markdown",
      "id": "plastic-senate",
      "metadata": {
        "id": "plastic-senate"
      },
      "source": [
        "The column labels are long strings, which makes them hard to work with.\n",
        "We can replace them with shorter strings like this:"
      ]
    },
    {
      "cell_type": "code",
      "execution_count": 53,
      "id": "engaging-regular",
      "metadata": {
        "id": "engaging-regular"
      },
      "outputs": [],
      "source": [
        "table2.columns = ['census', 'prb', 'un', 'maddison',\n",
        "                  'hyde', 'tanton', 'biraben', 'mj',\n",
        "                  'thomlinson', 'durand', 'clark']"
      ]
    },
    {
      "cell_type": "markdown",
      "id": "communist-crowd",
      "metadata": {
        "id": "communist-crowd"
      },
      "source": [
        "Now we can select a column from the `DataFrame` using the dot operator,\n",
        "like selecting a state variable from a `State` object.\n",
        "\n",
        "Here are the estimates from the United States Census Bureau:"
      ]
    },
    {
      "cell_type": "code",
      "execution_count": 54,
      "id": "amended-negative",
      "metadata": {
        "id": "amended-negative"
      },
      "outputs": [],
      "source": [
        "census = table2.census / 1e9"
      ]
    },
    {
      "cell_type": "markdown",
      "id": "absent-heart",
      "metadata": {
        "id": "absent-heart"
      },
      "source": [
        "The result is a Pandas `Series`, which is similar to the `TimeSeries` and `SweepSeries` objects we've been using.\n",
        "\n",
        "The number `1e9` is a shorter way to write `1000000000` or one billion.\n",
        "When we divide a `Series` by a number, it divides all of the elements of the `Series`.\n",
        "From here on, we'll express population estimates in terms of billions.\n",
        "\n",
        "We can use `tail` to see the last few elements of the `Series`:"
      ]
    },
    {
      "cell_type": "code",
      "execution_count": 55,
      "id": "graduate-specialist",
      "metadata": {
        "colab": {
          "base_uri": "https://localhost:8080/"
        },
        "id": "graduate-specialist",
        "outputId": "05adcb6b-4316-4e13-b70b-ea74cb0f7c34"
      },
      "outputs": [
        {
          "data": {
            "text/plain": [
              "Year\n",
              "2012    7.013871\n",
              "2013    7.092128\n",
              "2014    7.169968\n",
              "2015    7.247893\n",
              "2016    7.325997\n",
              "Name: census, dtype: float64"
            ]
          },
          "execution_count": 55,
          "metadata": {},
          "output_type": "execute_result"
        }
      ],
      "source": [
        "census.tail()"
      ]
    },
    {
      "cell_type": "markdown",
      "id": "brilliant-brook",
      "metadata": {
        "id": "brilliant-brook"
      },
      "source": [
        "The left column is the *index* of the `Series`; in this example it contains the dates.\n",
        "The right column contains the *values*, which are population estimates.\n",
        "In 2016 the world population was about 7.3 billion.\n",
        "\n",
        "Here are the estimates from the United Nations\n",
        "Department of Economic and Social Affairs (U.N. DESA):"
      ]
    },
    {
      "cell_type": "code",
      "execution_count": 56,
      "id": "linear-admission",
      "metadata": {
        "colab": {
          "base_uri": "https://localhost:8080/"
        },
        "id": "linear-admission",
        "outputId": "f064a972-2c60-4aa2-e895-c35d1866a75c"
      },
      "outputs": [
        {
          "data": {
            "text/plain": [
              "Year\n",
              "2012    7.080072\n",
              "2013    7.162119\n",
              "2014    7.243784\n",
              "2015    7.349472\n",
              "2016         NaN\n",
              "Name: un, dtype: float64"
            ]
          },
          "execution_count": 56,
          "metadata": {},
          "output_type": "execute_result"
        }
      ],
      "source": [
        "un = table2.un / 1e9\n",
        "un.tail()"
      ]
    },
    {
      "cell_type": "markdown",
      "id": "mental-sussex",
      "metadata": {
        "id": "mental-sussex"
      },
      "source": [
        "The most recent estimate we have from the U.N. is for 2015, so the value for 2016 is `NaN`.\n",
        "\n",
        "Now we can plot the estimates like this:"
      ]
    },
    {
      "cell_type": "code",
      "execution_count": 57,
      "id": "ordered-garage",
      "metadata": {
        "id": "ordered-garage"
      },
      "outputs": [],
      "source": [
        "def plot_estimates():\n",
        "    census.plot(style=':', label='US Census')\n",
        "    un.plot(style='--', label='UN DESA')\n",
        "    decorate(xlabel='Year',\n",
        "             ylabel='World population (billions)')"
      ]
    },
    {
      "cell_type": "markdown",
      "id": "invisible-mouse",
      "metadata": {
        "id": "invisible-mouse"
      },
      "source": [
        "The keyword argument `style=':'` specifies a dotted line; `style='--'` specifies a dashed line.\n",
        "The `label` argument provides the string that appears in the legend.\n",
        "\n",
        "And here's what it looks like."
      ]
    },
    {
      "cell_type": "code",
      "execution_count": 58,
      "id": "periodic-weekend",
      "metadata": {
        "colab": {
          "base_uri": "https://localhost:8080/",
          "height": 309
        },
        "id": "periodic-weekend",
        "outputId": "bfdadaec-2310-4abb-d166-9c21bfb20163"
      },
      "outputs": [
        {
          "data": {
            "image/png": "[encoded data removed]",
            "text/plain": [
              "<Figure size 450x300 with 1 Axes>"
            ]
          },
          "metadata": {},
          "output_type": "display_data"
        }
      ],
      "source": [
        "plot_estimates()\n",
        "decorate(title='World population estimates')"
      ]
    },
    {
      "cell_type": "markdown",
      "id": "labeled-magic",
      "metadata": {
        "id": "labeled-magic"
      },
      "source": [
        "The lines overlap almost completely, but the most recent estimates diverge slightly.\n",
        "In the next section, we'll quantify these differences."
      ]
    },
    {
      "cell_type": "markdown",
      "id": "tender-summer",
      "metadata": {
        "id": "tender-summer"
      },
      "source": [
        "## Absolute and Relative Errors\n",
        "\n",
        "Estimates of world population from the U.S. Census and the U.N. DESA differ slightly.\n",
        "One way to characterize this difference is *absolute error*, which is the absolute value of the difference between the estimates.\n",
        "\n",
        "To compute absolute errors, we can import `abs` from NumPy:"
      ]
    },
    {
      "cell_type": "code",
      "execution_count": 59,
      "id": "secondary-player",
      "metadata": {
        "id": "secondary-player"
      },
      "outputs": [],
      "source": [
        "from numpy import abs"
      ]
    },
    {
      "cell_type": "markdown",
      "id": "frozen-scotland",
      "metadata": {
        "id": "frozen-scotland"
      },
      "source": [
        "And use it like this:"
      ]
    },
    {
      "cell_type": "code",
      "execution_count": 60,
      "id": "caring-garlic",
      "metadata": {
        "colab": {
          "base_uri": "https://localhost:8080/"
        },
        "id": "caring-garlic",
        "outputId": "6a08c926-86f4-4636-f6f4-dc89f6e7118c"
      },
      "outputs": [
        {
          "data": {
            "text/plain": [
              "Year\n",
              "2012    0.066201\n",
              "2013    0.069991\n",
              "2014    0.073816\n",
              "2015    0.101579\n",
              "2016         NaN\n",
              "dtype: float64"
            ]
          },
          "execution_count": 60,
          "metadata": {},
          "output_type": "execute_result"
        }
      ],
      "source": [
        "abs_error = abs(un - census)\n",
        "abs_error.tail()"
      ]
    },
    {
      "cell_type": "markdown",
      "id": "bridal-extraction",
      "metadata": {
        "id": "bridal-extraction"
      },
      "source": [
        "When you subtract two `Series` objects, the result is a new `Series`.\n",
        "Because one of the estimates for 2016 is `NaN`, the result for 2016 is `NaN`.\n",
        "\n",
        "To summarize the results, we can compute the *mean absolute error*."
      ]
    },
    {
      "cell_type": "code",
      "execution_count": 61,
      "id": "corresponding-emerald",
      "metadata": {
        "colab": {
          "base_uri": "https://localhost:8080/"
        },
        "id": "corresponding-emerald",
        "outputId": "1ae76181-2ac5-434e-d2c8-817ea4ce6476"
      },
      "outputs": [
        {
          "data": {
            "text/plain": [
              "0.029034508242424265"
            ]
          },
          "execution_count": 61,
          "metadata": {},
          "output_type": "execute_result"
        }
      ],
      "source": [
        "from numpy import mean\n",
        "\n",
        "mean(abs_error)"
      ]
    },
    {
      "cell_type": "markdown",
      "id": "identical-archive",
      "metadata": {
        "id": "identical-archive"
      },
      "source": [
        "On average, the estimates differ by about 0.029 billion.\n",
        "But we can also use `max` to compute the maximum absolute error."
      ]
    },
    {
      "cell_type": "code",
      "execution_count": 62,
      "id": "headed-witch",
      "metadata": {
        "colab": {
          "base_uri": "https://localhost:8080/"
        },
        "id": "headed-witch",
        "outputId": "6177e6ff-b63a-45ac-e548-708bad267362",
        "scrolled": true
      },
      "outputs": [
        {
          "data": {
            "text/plain": [
              "0.10157921199999986"
            ]
          },
          "execution_count": 62,
          "metadata": {},
          "output_type": "execute_result"
        }
      ],
      "source": [
        "from numpy import max\n",
        "\n",
        "max(abs_error)"
      ]
    },
    {
      "cell_type": "markdown",
      "id": "composite-partnership",
      "metadata": {
        "id": "composite-partnership"
      },
      "source": [
        "In the worst case, they differ by about 0.1 billion.\n",
        "\n",
        "Now 0.1 billion is a lot of people, so that might sound like a serious discrepancy.\n",
        "But counting everyone is the world is hard, and we should not expect the estimates to be exact.\n",
        "\n",
        "Another way to quantify the magnitude of the difference is *relative error*, which is the size of the error divided by the estimates themselves."
      ]
    },
    {
      "cell_type": "code",
      "execution_count": 63,
      "id": "advisory-complex",
      "metadata": {
        "colab": {
          "base_uri": "https://localhost:8080/"
        },
        "id": "advisory-complex",
        "outputId": "f97db7b8-a3b2-4cb0-f5e1-534a36292b6b",
        "scrolled": true
      },
      "outputs": [
        {
          "data": {
            "text/plain": [
              "Year\n",
              "2012    0.943860\n",
              "2013    0.986888\n",
              "2014    1.029514\n",
              "2015    1.401500\n",
              "2016         NaN\n",
              "dtype: float64"
            ]
          },
          "execution_count": 63,
          "metadata": {},
          "output_type": "execute_result"
        }
      ],
      "source": [
        "rel_error = 100 * abs_error / census\n",
        "rel_error.tail()"
      ]
    },
    {
      "cell_type": "markdown",
      "id": "greater-register",
      "metadata": {
        "id": "greater-register"
      },
      "source": [
        "I multiplied by 100 so we can interpret the results as a percentage.  In 2015, the difference between the estimates is about 1.4%, and that happens to be the maximum.\n",
        "\n",
        "Again, we can summarize the results by computing the mean."
      ]
    },
    {
      "cell_type": "code",
      "execution_count": 64,
      "id": "frank-owner",
      "metadata": {
        "colab": {
          "base_uri": "https://localhost:8080/"
        },
        "id": "frank-owner",
        "outputId": "1cbccd72-174e-4ff8-9210-625356d54cf9"
      },
      "outputs": [
        {
          "data": {
            "text/plain": [
              "0.5946585816022846"
            ]
          },
          "execution_count": 64,
          "metadata": {},
          "output_type": "execute_result"
        }
      ],
      "source": [
        "mean(rel_error)"
      ]
    },
    {
      "cell_type": "markdown",
      "id": "peaceful-fleece",
      "metadata": {
        "id": "peaceful-fleece"
      },
      "source": [
        "The mean relative error is about 0.6%.\n",
        "So that's not bad.\n",
        "\n",
        "You might wonder why I divided by `census` rather than `un`.\n",
        "In general, if you think one estimate is better than the other, you put the better one in the denominator.\n",
        "In this case, I don't know which is better, so I put the smaller one in the denominator, which makes the computed errors a little bigger."
      ]
    },
    {
      "cell_type": "markdown",
      "id": "vietnamese-excuse",
      "metadata": {
        "id": "vietnamese-excuse"
      },
      "source": [
        "## Modeling Population Growth\n",
        "\n",
        "Suppose we want to predict world population growth over the next 50 or\n",
        "100 years. We can do that by developing a model that describes how\n",
        "populations grow, fitting the model to the data we have so far, and then using the model to generate predictions.\n",
        "\n",
        "In the next few sections I demonstrate this process starting with simple models and gradually improving them.\n",
        "\n",
        "Although there is some curvature in the plotted estimates, it looks like world population growth has been close to linear since 1960 or so. So we'll start with a model that has constant growth.\n",
        "\n",
        "To fit the model to the data, we'll compute the average annual growth\n",
        "from 1950 to 2016. Since the UN and Census data are so close, we'll use the Census data.\n",
        "\n",
        "We can select a value from a `Series` using the bracket operator:"
      ]
    },
    {
      "cell_type": "code",
      "execution_count": 65,
      "id": "undefined-sauce",
      "metadata": {
        "colab": {
          "base_uri": "https://localhost:8080/"
        },
        "id": "undefined-sauce",
        "outputId": "d4df3b27-ce76-4f9e-fb01-6c618da39db9"
      },
      "outputs": [
        {
          "data": {
            "text/plain": [
              "2.557628654"
            ]
          },
          "execution_count": 65,
          "metadata": {},
          "output_type": "execute_result"
        }
      ],
      "source": [
        "census[1950]"
      ]
    },
    {
      "cell_type": "markdown",
      "id": "precise-correlation",
      "metadata": {
        "id": "precise-correlation"
      },
      "source": [
        "So we can get the total growth during the interval like this:"
      ]
    },
    {
      "cell_type": "code",
      "execution_count": 66,
      "id": "postal-debate",
      "metadata": {
        "id": "postal-debate"
      },
      "outputs": [],
      "source": [
        "total_growth = census[2016] - census[1950]"
      ]
    },
    {
      "cell_type": "markdown",
      "id": "dutch-sample",
      "metadata": {
        "id": "dutch-sample"
      },
      "source": [
        "In this example, the labels 2016 and 1950 are part of the data, so it\n",
        "would be better not to make them part of the program.\n",
        "Putting values like these in the program is called *hard coding*; it is considered bad practice because if the data change in the future, we have to change the program (see <https://modsimpy.com/hardcode>).\n",
        "\n",
        "It would be better to get the labels from the `Series`.\n",
        "We can do that by selecting the index from `census` and then selecting the first element."
      ]
    },
    {
      "cell_type": "code",
      "execution_count": 67,
      "id": "functional-trick",
      "metadata": {
        "colab": {
          "base_uri": "https://localhost:8080/"
        },
        "id": "functional-trick",
        "outputId": "c95af258-a653-4ef0-fb6c-48ff88f10dba"
      },
      "outputs": [
        {
          "data": {
            "text/plain": [
              "1950"
            ]
          },
          "execution_count": 67,
          "metadata": {},
          "output_type": "execute_result"
        }
      ],
      "source": [
        "t_0 = census.index[0]\n",
        "t_0"
      ]
    },
    {
      "cell_type": "markdown",
      "id": "empty-siemens",
      "metadata": {
        "id": "empty-siemens"
      },
      "source": [
        "So `t_0` is the label of the first element, which is 1950.\n",
        "We can get the label of the last element like this."
      ]
    },
    {
      "cell_type": "code",
      "execution_count": 68,
      "id": "acoustic-south",
      "metadata": {
        "colab": {
          "base_uri": "https://localhost:8080/"
        },
        "id": "acoustic-south",
        "outputId": "cd47c74c-c9b9-4f5c-cb6a-9288b2accd1b"
      },
      "outputs": [
        {
          "data": {
            "text/plain": [
              "2016"
            ]
          },
          "execution_count": 68,
          "metadata": {},
          "output_type": "execute_result"
        }
      ],
      "source": [
        "t_end = census.index[-1]\n",
        "t_end"
      ]
    },
    {
      "cell_type": "markdown",
      "id": "express-metallic",
      "metadata": {
        "id": "express-metallic"
      },
      "source": [
        "The value `-1` indicates the last element; `-2` indicates the second to last element, and so on.\n",
        "\n",
        "The difference between `t_0` and `t_end` is the elapsed time between them."
      ]
    },
    {
      "cell_type": "code",
      "execution_count": 69,
      "id": "planned-remains",
      "metadata": {
        "colab": {
          "base_uri": "https://localhost:8080/"
        },
        "id": "planned-remains",
        "outputId": "7c369340-cc57-4b44-efd2-5c3bcad3b013"
      },
      "outputs": [
        {
          "data": {
            "text/plain": [
              "66"
            ]
          },
          "execution_count": 69,
          "metadata": {},
          "output_type": "execute_result"
        }
      ],
      "source": [
        "elapsed_time = t_end - t_0\n",
        "elapsed_time"
      ]
    },
    {
      "cell_type": "markdown",
      "id": "bridal-royal",
      "metadata": {
        "id": "bridal-royal"
      },
      "source": [
        "Now we can use `t_0` and `t_end` to select the population at the beginning and end of the interval."
      ]
    },
    {
      "cell_type": "code",
      "execution_count": 70,
      "id": "quarterly-aggregate",
      "metadata": {
        "id": "quarterly-aggregate"
      },
      "outputs": [],
      "source": [
        "p_0 = census[t_0]\n",
        "p_end = census[t_end]"
      ]
    },
    {
      "cell_type": "markdown",
      "id": "driven-castle",
      "metadata": {
        "id": "driven-castle"
      },
      "source": [
        "And compute the total growth during the interval."
      ]
    },
    {
      "cell_type": "code",
      "execution_count": 71,
      "id": "prescription-optics",
      "metadata": {
        "colab": {
          "base_uri": "https://localhost:8080/"
        },
        "id": "prescription-optics",
        "outputId": "ada5d3c9-a458-4415-af2c-e2e7a5de078d"
      },
      "outputs": [
        {
          "data": {
            "text/plain": [
              "4.768368055"
            ]
          },
          "execution_count": 71,
          "metadata": {},
          "output_type": "execute_result"
        }
      ],
      "source": [
        "total_growth = p_end - p_0\n",
        "total_growth"
      ]
    },
    {
      "cell_type": "markdown",
      "id": "accepted-auditor",
      "metadata": {
        "id": "accepted-auditor"
      },
      "source": [
        "Finally, we can compute average annual growth."
      ]
    },
    {
      "cell_type": "code",
      "execution_count": 72,
      "id": "convertible-patch",
      "metadata": {
        "colab": {
          "base_uri": "https://localhost:8080/"
        },
        "id": "convertible-patch",
        "outputId": "c39373b6-2176-4e68-e678-dd9e4dd1b4cd"
      },
      "outputs": [
        {
          "data": {
            "text/plain": [
              "0.07224800083333333"
            ]
          },
          "execution_count": 72,
          "metadata": {},
          "output_type": "execute_result"
        }
      ],
      "source": [
        "annual_growth = total_growth / elapsed_time\n",
        "annual_growth"
      ]
    },
    {
      "cell_type": "markdown",
      "id": "japanese-merit",
      "metadata": {
        "id": "japanese-merit"
      },
      "source": [
        "From 1950 to 2016, world population grew by about 0.07 billion people per year, on average.\n",
        "The next step is to use this estimate to simulate population growth."
      ]
    },
    {
      "cell_type": "markdown",
      "id": "public-verification",
      "metadata": {
        "id": "public-verification"
      },
      "source": [
        "## Simulating Population Growth\n",
        "\n",
        "Our simulation will start with the observed population in 1950, `p_0`,\n",
        "and add `annual_growth` each year. To store the results, we'll use a\n",
        "`TimeSeries` object:"
      ]
    },
    {
      "cell_type": "code",
      "execution_count": 73,
      "id": "duplicate-leave",
      "metadata": {
        "id": "duplicate-leave"
      },
      "outputs": [],
      "source": [
        "results = TimeSeries()"
      ]
    },
    {
      "cell_type": "markdown",
      "id": "expired-salmon",
      "metadata": {
        "id": "expired-salmon"
      },
      "source": [
        "We can set the first value in the new `TimeSeries` like this."
      ]
    },
    {
      "cell_type": "code",
      "execution_count": 74,
      "id": "convenient-thong",
      "metadata": {
        "id": "convenient-thong"
      },
      "outputs": [],
      "source": [
        "results[t_0] = p_0"
      ]
    },
    {
      "cell_type": "markdown",
      "id": "constant-casino",
      "metadata": {
        "id": "constant-casino"
      },
      "source": [
        "Here's what it looks like so far."
      ]
    },
    {
      "cell_type": "code",
      "execution_count": 75,
      "id": "israeli-surveillance",
      "metadata": {
        "colab": {
          "base_uri": "https://localhost:8080/",
          "height": 112
        },
        "id": "israeli-surveillance",
        "outputId": "e658f21c-79b2-4b6f-b49a-966d49e88c2a"
      },
      "outputs": [
        {
          "data": {
            "text/html": [
              "<div>\n",
              "<style scoped>\n",
              "    .dataframe tbody tr th:only-of-type {\n",
              "        vertical-align: middle;\n",
              "    }\n",
              "\n",
              "    .dataframe tbody tr th {\n",
              "        vertical-align: top;\n",
              "    }\n",
              "\n",
              "    .dataframe thead th {\n",
              "        text-align: right;\n",
              "    }\n",
              "</style>\n",
              "<table border=\"1\" class=\"dataframe\">\n",
              "  <thead>\n",
              "    <tr style=\"text-align: right;\">\n",
              "      <th></th>\n",
              "      <th>Quantity</th>\n",
              "    </tr>\n",
              "    <tr>\n",
              "      <th>Time</th>\n",
              "      <th></th>\n",
              "    </tr>\n",
              "  </thead>\n",
              "  <tbody>\n",
              "    <tr>\n",
              "      <th>1950</th>\n",
              "      <td>2.557629</td>\n",
              "    </tr>\n",
              "  </tbody>\n",
              "</table>\n",
              "</div>"
            ],
            "text/plain": [
              "      Quantity\n",
              "Time          \n",
              "1950  2.557629"
            ]
          },
          "execution_count": 75,
          "metadata": {},
          "output_type": "execute_result"
        }
      ],
      "source": [
        "show(results)"
      ]
    },
    {
      "cell_type": "markdown",
      "id": "stretch-snapshot",
      "metadata": {
        "id": "stretch-snapshot"
      },
      "source": [
        "Now we set the rest of the values by simulating annual growth:"
      ]
    },
    {
      "cell_type": "code",
      "execution_count": 76,
      "id": "attended-morris",
      "metadata": {
        "id": "attended-morris"
      },
      "outputs": [],
      "source": [
        "for t in range(t_0, t_end):\n",
        "    results[t+1] = results[t] + annual_growth"
      ]
    },
    {
      "cell_type": "markdown",
      "id": "signed-colleague",
      "metadata": {
        "id": "signed-colleague"
      },
      "source": [
        "The values of `t` go from `t_0` to `t_end`, including the first but not the last.\n",
        "\n",
        "Inside the loop, we compute the population for the next year by adding the population for the current year and `annual_growth`.\n",
        "\n",
        "The last time through the loop, the value of `t` is 2015, so the last label in `results` is 2016.\n",
        "\n",
        "Here's what the results look like, compared to the estimates."
      ]
    },
    {
      "cell_type": "code",
      "execution_count": 77,
      "id": "wrong-brooks",
      "metadata": {
        "colab": {
          "base_uri": "https://localhost:8080/",
          "height": 309
        },
        "id": "wrong-brooks",
        "outputId": "9391794d-3119-4da4-fe89-581a896a0667"
      },
      "outputs": [
        {
          "data": {
            "image/png": "[encoded data removed]",
            "text/plain": [
              "<Figure size 450x300 with 1 Axes>"
            ]
          },
          "metadata": {},
          "output_type": "display_data"
        }
      ],
      "source": [
        "results.plot(color='gray', label='model')\n",
        "plot_estimates()\n",
        "decorate(title='Constant growth model')"
      ]
    },
    {
      "cell_type": "markdown",
      "id": "automated-albany",
      "metadata": {
        "id": "automated-albany"
      },
      "source": [
        "From 1950 to 1990, the model does not fit the data particularly well, but after that, it's pretty good."
      ]
    },
    {
      "cell_type": "markdown",
      "id": "unnecessary-million",
      "metadata": {
        "id": "unnecessary-million"
      },
      "source": [
        "## Summary\n",
        "\n",
        "This chapter is a first step toward modeling changes in world population growth during the last 70 years.\n",
        "\n",
        "We used Pandas to read data from a web page and store the results in a `DataFrame`.\n",
        "From the `DataFrame` we selected two `Series` objects and used them to compute absolute and relative errors.\n",
        "\n",
        "Then we computed average population growth and used it to build a simple model with constant annual growth.\n",
        "The model fits recent data pretty well; nevertheless, there are two reasons we should be skeptical:\n",
        "\n",
        "* There is no obvious mechanism that could cause population growth to be constant from year to year. Changes in population are determined by the fraction of people who die and the fraction of people who give birth, so we expect them to depend on the current population.\n",
        "\n",
        "* According to this model, world population would keep growing at the same rate forever, and that does not seem reasonable.\n",
        "\n",
        "In the next chapter we'll consider other models that might fit the data better and make more credible predictions."
      ]
    },
    {
      "cell_type": "markdown",
      "id": "advanced-ivory",
      "metadata": {
        "id": "advanced-ivory"
      },
      "source": [
        "## Exercises"
      ]
    },
    {
      "cell_type": "markdown",
      "id": "hearing-today",
      "metadata": {
        "id": "hearing-today"
      },
      "source": [
        "Here's the code from this chapter all in one place."
      ]
    },
    {
      "cell_type": "code",
      "execution_count": 78,
      "id": "terminal-reynolds",
      "metadata": {
        "id": "terminal-reynolds"
      },
      "outputs": [],
      "source": [
        "t_0 = census.index[0]\n",
        "t_end = census.index[-1]\n",
        "elapsed_time = t_end - t_0\n",
        "\n",
        "p_0 = census[t_0]\n",
        "p_end = census[t_end]\n",
        "\n",
        "total_growth = p_end - p_0\n",
        "annual_growth = total_growth / elapsed_time\n",
        "\n",
        "results = TimeSeries()\n",
        "results[t_0] = p_0\n",
        "\n",
        "for t in range(t_0, t_end):\n",
        "    results[t+1] = results[t] + annual_growth"
      ]
    },
    {
      "cell_type": "code",
      "execution_count": 79,
      "id": "organizational-memphis",
      "metadata": {
        "colab": {
          "base_uri": "https://localhost:8080/",
          "height": 309
        },
        "id": "organizational-memphis",
        "outputId": "72f29069-e2f2-4dd8-b820-93fac5ac0cad"
      },
      "outputs": [
        {
          "data": {
            "image/png": "[encoded data removed]",
            "text/plain": [
              "<Figure size 450x300 with 1 Axes>"
            ]
          },
          "metadata": {},
          "output_type": "display_data"
        }
      ],
      "source": [
        "results.plot(color='gray', label='model')\n",
        "plot_estimates()\n",
        "decorate(title='Constant growth model')"
      ]
    },
    {
      "cell_type": "markdown",
      "id": "ecological-welsh",
      "metadata": {
        "id": "ecological-welsh"
      },
      "source": [
        "### Exercise 1\n",
        "\n",
        "  Try fitting the model using data from 1970 to the present, and see if that does a better job.\n",
        "\n",
        "Suggestions:\n",
        "\n",
        "1. Define `t_1` to be 1970 and `p_1` to be the population in 1970.  Use `t_1` and `p_1` to compute annual growth, but use `t_0` and `p_0` to run the simulation.\n",
        "\n",
        "2. You might want to add a constant to the starting value to match the data better."
      ]
    },
    {
      "cell_type": "code",
      "execution_count": 80,
      "id": "rising-anger",
      "metadata": {
        "colab": {
          "base_uri": "https://localhost:8080/"
        },
        "id": "rising-anger",
        "outputId": "3254e942-1d98-49c1-e6d9-76b101f59fd8"
      },
      "outputs": [
        {
          "name": "stdout",
          "output_type": "stream",
          "text": [
            "1970\n",
            "1970\n",
            "46\n"
          ]
        }
      ],
      "source": [
        "# Solution goes here\n",
        "\n",
        "# Verify that index 20 is the year 1970\n",
        "print(census.index[20])\n",
        "\n",
        "# Define t_1 as 1970\n",
        "t_1 = census.index[20]\n",
        "\n",
        "# Verify that t_1 is 1970\n",
        "print(t_1)\n",
        "\n",
        "t_end = census.index[-1]\n",
        "elapsed_time_1 = t_end - t_1\n",
        "\n",
        "# Verify that the data set covers 46 years from 1970-2015\n",
        "print(elapsed_time_1)"
      ]
    },
    {
      "cell_type": "code",
      "execution_count": 81,
      "id": "false-handbook",
      "metadata": {
        "id": "false-handbook"
      },
      "outputs": [],
      "source": [
        "# Solution goes here\n",
        "\n",
        "# Define p_1 as the population in 1970\n",
        "p_1 = census[t_1]\n",
        "p_end = census[t_end]\n",
        "\n",
        "# Calculate average annual growth from 1970-2015\n",
        "total_growth_1 = p_end - p_1\n",
        "annual_growth_1 = total_growth_1 / elapsed_time_1"
      ]
    },
    {
      "cell_type": "code",
      "execution_count": 82,
      "id": "political-loading",
      "metadata": {
        "id": "political-loading"
      },
      "outputs": [],
      "source": [
        "# Solution goes here\n",
        "\n",
        "# Using t_0 and p_0 for the simulation, as directed\n",
        "results_1 = TimeSeries()\n",
        "results_1[t_0] = p_0\n",
        "\n",
        "for t in range(t_0, t_end):\n",
        "    results_1[t+1] = results_1[t] + annual_growth_1"
      ]
    },
    {
      "cell_type": "code",
      "execution_count": 83,
      "id": "MOeZwxQYJgQD",
      "metadata": {
        "colab": {
          "base_uri": "https://localhost:8080/",
          "height": 309
        },
        "id": "MOeZwxQYJgQD",
        "outputId": "58e426ad-7160-401a-ffb5-b516f3415339"
      },
      "outputs": [
        {
          "data": {
            "image/png": "[encoded data removed]",
            "text/plain": [
              "<Figure size 450x300 with 1 Axes>"
            ]
          },
          "metadata": {},
          "output_type": "display_data"
        }
      ],
      "source": [
        "results_1.plot(color='gray', label='model')\n",
        "plot_estimates()\n",
        "decorate(title='Constant growth model, 1970 - Present')"
      ]
    },
    {
      "cell_type": "markdown",
      "id": "QkqrQIZEJ9WN",
      "metadata": {
        "id": "QkqrQIZEJ9WN"
      },
      "source": [
        "The data does not match well, but starting in about 1970 the distance between the model and the actual result seems pretty consistent. As suggested, I will add (or in this case, subtract) a constant from the starting value to get the model to work better with the later data. To do this, I will calculate the mean absolute error between the model and the average of the census and UN data from 1970-2015."
      ]
    },
    {
      "cell_type": "code",
      "execution_count": 84,
      "id": "G4_1ZL-oKwUU",
      "metadata": {
        "colab": {
          "base_uri": "https://localhost:8080/"
        },
        "id": "G4_1ZL-oKwUU",
        "outputId": "50af6653-337c-461b-e9f8-9d60050ffe80"
      },
      "outputs": [
        {
          "name": "stdout",
          "output_type": "stream",
          "text": [
            "Model vs. Data:\n",
            "         census        un  data_mean  model_estimate  model_deviation\n",
            "Year                                                                \n",
            "1970  3.712698  3.691173   3.701935        4.128628         0.426693\n",
            "1971  3.790327  3.766754   3.778541        4.207178         0.428638\n",
            "1972  3.866569  3.842874   3.854721        4.285728         0.431007\n",
            "1973  3.942096  3.919182   3.930639        4.364278         0.433639\n",
            "1974  4.016609  3.995305   4.005957        4.442828         0.436871\n",
            "1975  4.089083  4.071020   4.080052        4.521378         0.441326\n",
            "1976  4.160185  4.146136   4.153160        4.599928         0.446768\n",
            "1977  4.232085  4.220817   4.226451        4.678478         0.452027\n",
            "1978  4.304106  4.295665   4.299885        4.757028         0.457143\n",
            "1979  4.379014  4.371528   4.375271        4.835578         0.460307\n",
            "1980  4.451363  4.449049   4.450206        4.914128         0.463922\n",
            "1981  4.534410  4.528235   4.531322        4.992678         0.461356\n",
            "1982  4.614567  4.608962   4.611764        5.071228         0.459463\n",
            "1983  4.695737  4.691560   4.693648        5.149778         0.456130\n",
            "1984  4.774569  4.776393   4.775481        5.228328         0.452847\n",
            "1985  4.856463  4.863602   4.860032        5.306878         0.446846\n",
            "1986  4.940571  4.953377   4.946974        5.385428         0.438454\n",
            "1987  5.027200  5.045316   5.036258        5.463978         0.427720\n",
            "1988  5.114557  5.138215   5.126386        5.542528         0.416142\n",
            "1989  5.201440  5.230000   5.215720        5.621078         0.405358\n",
            "1990  5.288956  5.320817   5.304886        5.699628         0.394741\n",
            "1991  5.371586  5.408909   5.390247        5.778178         0.387930\n",
            "1992  5.456136  5.494900   5.475518        5.856728         0.381210\n",
            "1993  5.538268  5.578865   5.558567        5.935278         0.376711\n",
            "1994  5.618682  5.661086   5.639884        6.013828         0.373943\n",
            "1995  5.699203  5.741822   5.720513        6.092378         0.371865\n",
            "1996  5.779441  5.821017   5.800229        6.170928         0.370699\n",
            "1997  5.857973  5.898688   5.878330        6.249478         0.371147\n",
            "1998  5.935213  5.975304   5.955258        6.328028         0.372769\n",
            "1999  6.012075  6.051478   6.031776        6.406578         0.374801\n",
            "2000  6.088571  6.127700   6.108136        6.485128         0.376992\n",
            "2001  6.165219  6.204147   6.184683        6.563678         0.378994\n",
            "2002  6.242016  6.280854   6.261435        6.642227         0.380792\n",
            "2003  6.318591  6.357992   6.338291        6.720777         0.382486\n",
            "2004  6.395700  6.435706   6.415703        6.799327         0.383625\n",
            "2005  6.473045  6.514095   6.493570        6.877877         0.384308\n",
            "2006  6.551264  6.593228   6.572246        6.956427         0.384182\n",
            "2007  6.629914  6.673106   6.651510        7.034977         0.383468\n",
            "2008  6.709050  6.753649   6.731350        7.113527         0.382178\n",
            "2009  6.788214  6.834722   6.811468        7.192077         0.380609\n",
            "2010  6.858585  6.916183   6.887384        7.270627         0.383243\n",
            "2011  6.935999  6.997999   6.966999        7.349177         0.382178\n",
            "2012  7.013871  7.080072   7.046972        7.427727         0.380755\n",
            "2013  7.092128  7.162119   7.127124        7.506277         0.379153\n",
            "2014  7.169968  7.243784   7.206876        7.584827         0.377951\n",
            "2015  7.247893  7.349472   7.298682        7.663377         0.364695\n",
            "2016  7.325997       NaN        NaN        7.741927              NaN\n"
          ]
        }
      ],
      "source": [
        "import pandas as pd\n",
        "\n",
        "comparison_df = pd.concat([census, un], axis = 1)\n",
        "comparison_df['data_mean'] = (comparison_df.census + comparison_df.un) / 2\n",
        "comparison_df['model_estimate'] = results_1\n",
        "comparison_df['model_deviation'] = comparison_df.model_estimate - comparison_df.data_mean\n",
        "comparison_df2 = comparison_df[comparison_df.index >= 1970]\n",
        "print(\"Model vs. Data:\\n\", comparison_df2)"
      ]
    },
    {
      "cell_type": "code",
      "execution_count": 85,
      "id": "z_4BZuZ7Sro8",
      "metadata": {
        "colab": {
          "base_uri": "https://localhost:8080/"
        },
        "id": "z_4BZuZ7Sro8",
        "outputId": "1c47e79c-2e04-4316-ed09-46f428b03f7d"
      },
      "outputs": [
        {
          "name": "stdout",
          "output_type": "stream",
          "text": [
            "0.40661047865216776\n"
          ]
        }
      ],
      "source": [
        "import numpy as np\n",
        "\n",
        "model_mean_deviation = np.mean(comparison_df2.model_deviation)\n",
        "print(model_mean_deviation)"
      ]
    },
    {
      "cell_type": "markdown",
      "id": "Xar7k9NnS6jJ",
      "metadata": {
        "id": "Xar7k9NnS6jJ"
      },
      "source": [
        "From 1970-2015, the results_1 time series overstates the actual data (calculated as the mean of the census and UN estimates) by an average of approximately 0.406610. I will try to account for this by subtracting this amount from the 1950 population in the next model."
      ]
    },
    {
      "cell_type": "code",
      "execution_count": 86,
      "id": "DNX7zhLMS025",
      "metadata": {
        "colab": {
          "base_uri": "https://localhost:8080/",
          "height": 309
        },
        "id": "DNX7zhLMS025",
        "outputId": "0e120fae-8d2c-45d7-8435-c5fbf452aacb"
      },
      "outputs": [
        {
          "data": {
            "image/png": "[encoded data removed]",
            "text/plain": [
              "<Figure size 450x300 with 1 Axes>"
            ]
          },
          "metadata": {},
          "output_type": "display_data"
        }
      ],
      "source": [
        "# Using t_0 and p_0 for the simulation, as directed\n",
        "results_2 = TimeSeries()\n",
        "results_2[t_0] = p_0 - 0.406610\n",
        "\n",
        "for t in range(t_0, t_end):\n",
        "    results_2[t+1] = results_2[t] + annual_growth_1\n",
        "\n",
        "results_2.plot(color='gray', label='model')\n",
        "plot_estimates()\n",
        "decorate(title='Adjusted Constant growth model, 1970 - Present')"
      ]
    },
    {
      "cell_type": "markdown",
      "id": "CeBz8v1aUOMp",
      "metadata": {
        "id": "CeBz8v1aUOMp"
      },
      "source": [
        "We can see from the new plot that the model does not closely track the data until about 1965, after which it almost perfectly matches the data. We can see this shift in the table and plot below."
      ]
    },
    {
      "cell_type": "code",
      "execution_count": 87,
      "id": "wWbqa6nrWtBd",
      "metadata": {
        "colab": {
          "base_uri": "https://localhost:8080/"
        },
        "id": "wWbqa6nrWtBd",
        "outputId": "33d03183-81b0-4d4d-b824-d8e98ed1f084"
      },
      "outputs": [
        {
          "name": "stdout",
          "output_type": "stream",
          "text": [
            "Year\n",
            "1950   -0.390370\n",
            "1951   -0.354327\n",
            "1952   -0.319914\n",
            "1953   -0.287291\n",
            "1954   -0.256482\n",
            "          ...   \n",
            "2012   -0.025855\n",
            "2013   -0.027457\n",
            "2014   -0.028659\n",
            "2015   -0.041915\n",
            "2016         NaN\n",
            "Name: model_2_deviation, Length: 67, dtype: float64\n"
          ]
        }
      ],
      "source": [
        "comparison_df['model_2'] = results_2\n",
        "comparison_df['model_2_deviation'] = comparison_df.model_2 - comparison_df.data_mean\n",
        "print(comparison_df.model_2_deviation)"
      ]
    },
    {
      "cell_type": "code",
      "execution_count": 88,
      "id": "dMJOI2eTXtJs",
      "metadata": {
        "colab": {
          "base_uri": "https://localhost:8080/",
          "height": 298
        },
        "id": "dMJOI2eTXtJs",
        "outputId": "d00143df-ca53-409c-9b1c-97838172bbe8"
      },
      "outputs": [
        {
          "data": {
            "image/png": "[encoded data removed]",
            "text/plain": [
              "<Figure size 450x300 with 1 Axes>"
            ]
          },
          "metadata": {},
          "output_type": "display_data"
        }
      ],
      "source": [
        "import seaborn as sns\n",
        "import matplotlib.pyplot as plt\n",
        "\n",
        "plot_1 = sns.lineplot(data = comparison_df, x = 'Year', y = 'model_2_deviation')\n",
        "plot_1.axhline(color = 'r', linestyle = ':')\n",
        "plt.ylim(-1, 1)\n",
        "plt.show()"
      ]
    }
  ],
  "metadata": {
    "celltoolbar": "Tags",
    "colab": {
      "provenance": []
    },
    "kernelspec": {
      "display_name": "Python 3 (ipykernel)",
      "language": "python",
      "name": "python3"
    },
    "language_info": {
      "codemirror_mode": {
        "name": "ipython",
        "version": 3
      },
      "file_extension": ".py",
      "mimetype": "text/x-python",
      "name": "python",
      "nbconvert_exporter": "python",
      "pygments_lexer": "ipython3",
      "version": "3.11.1"
    }
  },
  "nbformat": 4,
  "nbformat_minor": 5
}
