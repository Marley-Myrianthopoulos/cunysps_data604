{
  "cells": [
    {
      "cell_type": "markdown",
      "id": "dense-storm",
      "metadata": {
        "id": "dense-storm"
      },
      "source": [
        "# Case Studies Part 1"
      ]
    },
    {
      "cell_type": "markdown",
      "id": "imported-table",
      "metadata": {
        "id": "imported-table",
        "tags": []
      },
      "source": [
        "*Modeling and Simulation in Python*\n",
        "\n",
        "Copyright 2021 Allen Downey\n",
        "\n",
        "License: [Creative Commons Attribution-NonCommercial-ShareAlike 4.0 International](https://creativecommons.org/licenses/by-nc-sa/4.0/)"
      ]
    },
    {
      "cell_type": "code",
      "execution_count": 52,
      "id": "formal-context",
      "metadata": {
        "colab": {
          "base_uri": "https://localhost:8080/"
        },
        "id": "formal-context",
        "outputId": "10aa80e3-672f-4c64-a67a-eda03ee49057",
        "tags": []
      },
      "outputs": [],
      "source": [
        "# download modsim.py if necessary\n",
        "\n",
        "from os.path import basename, exists\n",
        "\n",
        "def download(url):\n",
        "    filename = basename(url)\n",
        "    if not exists(filename):\n",
        "        from urllib.request import urlretrieve\n",
        "        local, _ = urlretrieve(url, filename)\n",
        "        print('Downloaded ' + local)\n",
        "\n",
        "download('https://raw.githubusercontent.com/AllenDowney/' +\n",
        "         'ModSimPy/master/modsim.py')"
      ]
    },
    {
      "cell_type": "code",
      "execution_count": 53,
      "id": "progressive-typing",
      "metadata": {
        "id": "progressive-typing",
        "tags": []
      },
      "outputs": [],
      "source": [
        "# import functions from modsim\n",
        "\n",
        "from modsim import *"
      ]
    },
    {
      "cell_type": "markdown",
      "id": "thirty-medication",
      "metadata": {
        "id": "thirty-medication"
      },
      "source": [
        "This chapter presents case studies where you can apply the tools we have learned so far to problems involving population growth, queueing systems, and tree growth.\n",
        "\n",
        "This chapter is available as a Jupyter notebook where you can read the text, run the code, and work on the exercises.\n",
        "Click here to access the notebooks: <https://allendowney.github.io/ModSimPy/>."
      ]
    },
    {
      "cell_type": "markdown",
      "id": "industrial-mercy",
      "metadata": {
        "id": "industrial-mercy"
      },
      "source": [
        "## Historical World Population\n",
        "\n",
        "The Wikipedia page about world population growth includes estimates for world population from 12,000 years ago to the present (see <https://en.wikipedia.org/wiki/World_population_estimates.html>)."
      ]
    },
    {
      "cell_type": "markdown",
      "id": "weekly-class",
      "metadata": {
        "id": "weekly-class",
        "tags": []
      },
      "source": [
        "The following cells download an archived version of this page and read the data into a Pandas `DataFrame`."
      ]
    },
    {
      "cell_type": "code",
      "execution_count": 54,
      "id": "usual-penguin",
      "metadata": {
        "colab": {
          "base_uri": "https://localhost:8080/"
        },
        "id": "usual-penguin",
        "outputId": "15e6d13f-428d-4faf-9cee-33cd43cc66f8",
        "tags": []
      },
      "outputs": [],
      "source": [
        "download('https://raw.githubusercontent.com/AllenDowney/' +\n",
        "         'ModSimPy/master/data/World_population_estimates.html')"
      ]
    },
    {
      "cell_type": "code",
      "execution_count": 55,
      "id": "thick-lincoln",
      "metadata": {
        "colab": {
          "base_uri": "https://localhost:8080/"
        },
        "id": "thick-lincoln",
        "outputId": "6a841769-0da6-4a92-b61d-38c59fe75b0e",
        "tags": []
      },
      "outputs": [
        {
          "data": {
            "text/plain": [
              "6"
            ]
          },
          "execution_count": 55,
          "metadata": {},
          "output_type": "execute_result"
        }
      ],
      "source": [
        "from pandas import read_html\n",
        "\n",
        "filename = 'World_population_estimates.html'\n",
        "tables = read_html(filename, header=0, index_col=0, decimal='M')\n",
        "len(tables)"
      ]
    },
    {
      "cell_type": "code",
      "execution_count": 56,
      "id": "conscious-orange",
      "metadata": {
        "colab": {
          "base_uri": "https://localhost:8080/",
          "height": 307
        },
        "id": "conscious-orange",
        "outputId": "e39b9bd5-69e1-4f62-baf2-cbc239710af5",
        "tags": []
      },
      "outputs": [
        {
          "data": {
            "text/html": [
              "<div>\n",
              "<style scoped>\n",
              "    .dataframe tbody tr th:only-of-type {\n",
              "        vertical-align: middle;\n",
              "    }\n",
              "\n",
              "    .dataframe tbody tr th {\n",
              "        vertical-align: top;\n",
              "    }\n",
              "\n",
              "    .dataframe thead th {\n",
              "        text-align: right;\n",
              "    }\n",
              "</style>\n",
              "<table border=\"1\" class=\"dataframe\">\n",
              "  <thead>\n",
              "    <tr style=\"text-align: right;\">\n",
              "      <th></th>\n",
              "      <th>Population Reference Bureau (1973–2016)[15]</th>\n",
              "      <th>United Nations Department of Economic and Social Affairs (2015)[16]</th>\n",
              "      <th>Maddison (2008)[17]</th>\n",
              "      <th>HYDE (2010)[citation needed]</th>\n",
              "      <th>Tanton (1994)[18]</th>\n",
              "      <th>Biraben (1980)[19]</th>\n",
              "      <th>McEvedy &amp; Jones (1978)[20]</th>\n",
              "      <th>Thomlinson (1975)[21]</th>\n",
              "      <th>Durand (1974)[22]</th>\n",
              "      <th>Clark (1967)[23]</th>\n",
              "    </tr>\n",
              "    <tr>\n",
              "      <th>Year</th>\n",
              "      <th></th>\n",
              "      <th></th>\n",
              "      <th></th>\n",
              "      <th></th>\n",
              "      <th></th>\n",
              "      <th></th>\n",
              "      <th></th>\n",
              "      <th></th>\n",
              "      <th></th>\n",
              "      <th></th>\n",
              "    </tr>\n",
              "  </thead>\n",
              "  <tbody>\n",
              "    <tr>\n",
              "      <th>-10000</th>\n",
              "      <td>NaN</td>\n",
              "      <td>NaN</td>\n",
              "      <td>NaN</td>\n",
              "      <td>2M[24]</td>\n",
              "      <td>NaN</td>\n",
              "      <td>NaN</td>\n",
              "      <td>4.0</td>\n",
              "      <td>1–10M</td>\n",
              "      <td>NaN</td>\n",
              "      <td>NaN</td>\n",
              "    </tr>\n",
              "    <tr>\n",
              "      <th>-9000</th>\n",
              "      <td>NaN</td>\n",
              "      <td>NaN</td>\n",
              "      <td>NaN</td>\n",
              "      <td>4.</td>\n",
              "      <td>NaN</td>\n",
              "      <td>NaN</td>\n",
              "      <td>NaN</td>\n",
              "      <td>NaN</td>\n",
              "      <td>NaN</td>\n",
              "      <td>NaN</td>\n",
              "    </tr>\n",
              "    <tr>\n",
              "      <th>-8000</th>\n",
              "      <td>5.</td>\n",
              "      <td>NaN</td>\n",
              "      <td>NaN</td>\n",
              "      <td>5.</td>\n",
              "      <td>NaN</td>\n",
              "      <td>NaN</td>\n",
              "      <td>NaN</td>\n",
              "      <td>NaN</td>\n",
              "      <td>5–10M</td>\n",
              "      <td>NaN</td>\n",
              "    </tr>\n",
              "    <tr>\n",
              "      <th>-7000</th>\n",
              "      <td>NaN</td>\n",
              "      <td>NaN</td>\n",
              "      <td>NaN</td>\n",
              "      <td>8.</td>\n",
              "      <td>NaN</td>\n",
              "      <td>NaN</td>\n",
              "      <td>NaN</td>\n",
              "      <td>NaN</td>\n",
              "      <td>NaN</td>\n",
              "      <td>NaN</td>\n",
              "    </tr>\n",
              "    <tr>\n",
              "      <th>-6000</th>\n",
              "      <td>NaN</td>\n",
              "      <td>NaN</td>\n",
              "      <td>NaN</td>\n",
              "      <td>11.</td>\n",
              "      <td>NaN</td>\n",
              "      <td>NaN</td>\n",
              "      <td>NaN</td>\n",
              "      <td>NaN</td>\n",
              "      <td>NaN</td>\n",
              "      <td>NaN</td>\n",
              "    </tr>\n",
              "  </tbody>\n",
              "</table>\n",
              "</div>"
            ],
            "text/plain": [
              "       Population Reference Bureau (1973–2016)[15]  \\\n",
              "Year                                                 \n",
              "-10000                                         NaN   \n",
              "-9000                                          NaN   \n",
              "-8000                                           5.   \n",
              "-7000                                          NaN   \n",
              "-6000                                          NaN   \n",
              "\n",
              "        United Nations Department of Economic and Social Affairs (2015)[16]  \\\n",
              "Year                                                                          \n",
              "-10000                                                NaN                     \n",
              "-9000                                                 NaN                     \n",
              "-8000                                                 NaN                     \n",
              "-7000                                                 NaN                     \n",
              "-6000                                                 NaN                     \n",
              "\n",
              "       Maddison (2008)[17] HYDE (2010)[citation needed]  Tanton (1994)[18]  \\\n",
              "Year                                                                         \n",
              "-10000                 NaN                       2M[24]                NaN   \n",
              "-9000                  NaN                           4.                NaN   \n",
              "-8000                  NaN                           5.                NaN   \n",
              "-7000                  NaN                           8.                NaN   \n",
              "-6000                  NaN                          11.                NaN   \n",
              "\n",
              "        Biraben (1980)[19]  McEvedy & Jones (1978)[20] Thomlinson (1975)[21]  \\\n",
              "Year                                                                           \n",
              "-10000                 NaN                         4.0                 1–10M   \n",
              "-9000                  NaN                         NaN                   NaN   \n",
              "-8000                  NaN                         NaN                   NaN   \n",
              "-7000                  NaN                         NaN                   NaN   \n",
              "-6000                  NaN                         NaN                   NaN   \n",
              "\n",
              "       Durand (1974)[22] Clark (1967)[23]  \n",
              "Year                                       \n",
              "-10000               NaN              NaN  \n",
              "-9000                NaN              NaN  \n",
              "-8000              5–10M              NaN  \n",
              "-7000                NaN              NaN  \n",
              "-6000                NaN              NaN  "
            ]
          },
          "execution_count": 56,
          "metadata": {},
          "output_type": "execute_result"
        }
      ],
      "source": [
        "table1 = tables[1]\n",
        "table1.head()"
      ]
    },
    {
      "cell_type": "markdown",
      "id": "hungry-monster",
      "metadata": {
        "id": "hungry-monster",
        "tags": []
      },
      "source": [
        "Some of the values are null because not all researchers provide estimates for the same dates.\n",
        "\n",
        "Again, we'll replace the long column names with more convenient abbreviations."
      ]
    },
    {
      "cell_type": "code",
      "execution_count": 57,
      "id": "thick-blanket",
      "metadata": {
        "id": "thick-blanket",
        "tags": []
      },
      "outputs": [],
      "source": [
        "table1.columns = ['PRB', 'UN', 'Maddison', 'HYDE', 'Tanton',\n",
        "                  'Biraben', 'McEvedy & Jones', 'Thomlinson', 'Durand', 'Clark']"
      ]
    },
    {
      "cell_type": "markdown",
      "id": "substantial-implement",
      "metadata": {
        "id": "substantial-implement",
        "tags": []
      },
      "source": [
        "Some of the estimates are in a form Pandas doesn't recognize as numbers, but we can coerce them to be numeric."
      ]
    },
    {
      "cell_type": "code",
      "execution_count": 58,
      "id": "ranking-prescription",
      "metadata": {
        "id": "ranking-prescription",
        "tags": []
      },
      "outputs": [],
      "source": [
        "for col in table1.columns:\n",
        "    table1[col] = pd.to_numeric(table1[col], errors='coerce')"
      ]
    },
    {
      "cell_type": "markdown",
      "id": "amazing-difference",
      "metadata": {
        "id": "amazing-difference",
        "tags": []
      },
      "source": [
        "Here are the results.  Notice that we are working in millions now, not billions."
      ]
    },
    {
      "cell_type": "code",
      "execution_count": 59,
      "id": "metallic-offense",
      "metadata": {
        "colab": {
          "base_uri": "https://localhost:8080/",
          "height": 309
        },
        "id": "metallic-offense",
        "outputId": "fb9eb227-c213-4554-bb11-691f3dcf185a",
        "scrolled": false,
        "tags": []
      },
      "outputs": [
        {
          "data": {
            "image/png": "[encoded data removed]",
            "text/plain": [
              "<Figure size 450x300 with 1 Axes>"
            ]
          },
          "metadata": {},
          "output_type": "display_data"
        }
      ],
      "source": [
        "table1.plot()\n",
        "decorate(xlim=[-10000, 2000], xlabel='Year',\n",
        "         ylabel='World population (millions)',\n",
        "         title='Prehistoric population estimates')\n",
        "plt.legend(fontsize='small');"
      ]
    },
    {
      "cell_type": "markdown",
      "id": "human-conservation",
      "metadata": {
        "id": "human-conservation",
        "tags": []
      },
      "source": [
        "We can use `xlim` to zoom in on everything after Year 0."
      ]
    },
    {
      "cell_type": "markdown",
      "id": "conventional-nudist",
      "metadata": {
        "id": "conventional-nudist"
      },
      "source": [
        "The following figure shows the estimates of several research groups from 1 CE to the near present."
      ]
    },
    {
      "cell_type": "code",
      "execution_count": 60,
      "id": "solar-action",
      "metadata": {
        "colab": {
          "base_uri": "https://localhost:8080/",
          "height": 309
        },
        "id": "solar-action",
        "outputId": "4c1c1afc-daa3-456b-d952-21eeb4e008af"
      },
      "outputs": [
        {
          "data": {
            "image/png": "[encoded data removed]",
            "text/plain": [
              "<Figure size 450x300 with 1 Axes>"
            ]
          },
          "metadata": {},
          "output_type": "display_data"
        }
      ],
      "source": [
        "table1.plot()\n",
        "decorate(xlim=[0, 2000], xlabel='Year',\n",
        "         ylabel='World population (millions)',\n",
        "         title='CE population estimates')"
      ]
    },
    {
      "cell_type": "markdown",
      "id": "wanted-fantasy",
      "metadata": {
        "id": "wanted-fantasy"
      },
      "source": [
        "See if you can find a model that fits these estimates.\n",
        "How well does your best model predict actual population growth from 1940 to the present?"
      ]
    },
    {
      "cell_type": "code",
      "execution_count": 61,
      "id": "rural-express",
      "metadata": {
        "id": "rural-express",
        "tags": []
      },
      "outputs": [],
      "source": [
        "tables = read_html(filename, header=0, index_col=0, decimal='M')\n",
        "table2 = tables[2]\n",
        "table2.columns = ['census', 'prb', 'un', 'maddison',\n",
        "                  'hyde', 'tanton', 'biraben', 'mj',\n",
        "                  'thomlinson', 'durand', 'clark']"
      ]
    },
    {
      "cell_type": "code",
      "execution_count": 62,
      "id": "preceding-sheep",
      "metadata": {
        "id": "preceding-sheep",
        "tags": []
      },
      "outputs": [],
      "source": [
        "un = table2.un / 1e9\n",
        "census = table2.census / 1e9"
      ]
    },
    {
      "cell_type": "code",
      "execution_count": 63,
      "id": "together-jackson",
      "metadata": {
        "colab": {
          "base_uri": "https://localhost:8080/"
        },
        "id": "together-jackson",
        "outputId": "6f502fcf-094a-4f78-a23b-40bd2d82d5f4"
      },
      "outputs": [
        {
          "data": {
            "image/png": "[encoded data removed]",
            "text/plain": [
              "<Figure size 450x300 with 1 Axes>"
            ]
          },
          "metadata": {},
          "output_type": "display_data"
        }
      ],
      "source": [
        "# Solution goes here\n",
        "\n",
        "# Find the average of all estimates for each year and graph it\n",
        "import pandas as pd\n",
        "import numpy as np\n",
        "\n",
        "df1 = pd.DataFrame(table1)\n",
        "df1 = df1[df1.index >= 0]\n",
        "df1['data_average'] = df1.mean(axis = 1)\n",
        "df2 = df1[['data_average']]\n",
        "df2.plot()\n",
        "decorate(xlim=[0, 2000], xlabel='Year',\n",
        "         ylabel='World population (millions)',\n",
        "         title='CE population estimates')\n"
      ]
    },
    {
      "cell_type": "markdown",
      "id": "e2eea37b",
      "metadata": {},
      "source": [
        "This graph appears to show a piecewise function made up of two linear functions, one from the year 1 to approximately the year 700 and another from approximately the year 700 to approximately the year 1650. After that, population growth appears to be exponential.\n",
        "\n",
        "\n",
        "My solution uses the same approach as (and therefore borrows a lot of the code from) my solution to exercise 1 in chapter 6."
      ]
    },
    {
      "cell_type": "code",
      "execution_count": 64,
      "id": "43ad8008",
      "metadata": {},
      "outputs": [
        {
          "name": "stdout",
          "output_type": "stream",
          "text": [
            "      data_average\n",
            "Year              \n",
            "1       215.000000\n",
            "700     214.333333\n",
            "1650    520.333333\n"
          ]
        }
      ],
      "source": [
        "# Find the average population in each of the pivot years (for slope calculations)\n",
        "print(df2[(df2.index == 1) | (df2.index == 700) | (df2.index == 1650)])"
      ]
    },
    {
      "cell_type": "code",
      "execution_count": 65,
      "id": "8f4077bf",
      "metadata": {},
      "outputs": [
        {
          "name": "stdout",
          "output_type": "stream",
          "text": [
            "-0.0009542203147353385\n",
            "0.32210526315789473\n"
          ]
        }
      ],
      "source": [
        "# Calculate slopes\n",
        "print((214.333 - 215) / (700 - 1))\n",
        "print((520.333 - 214.333) / (1650 - 700))"
      ]
    },
    {
      "cell_type": "code",
      "execution_count": 66,
      "id": "simple-verse",
      "metadata": {
        "colab": {
          "base_uri": "https://localhost:8080/",
          "height": 594
        },
        "id": "simple-verse",
        "outputId": "4a74d7b7-e64c-426c-b98c-abb66999b868",
        "scrolled": true
      },
      "outputs": [
        {
          "name": "stderr",
          "output_type": "stream",
          "text": [
            "/var/folders/h2/6wvcm3lx18dbzjmy88ryn0g80000gn/T/ipykernel_32626/109397253.py:44: SettingWithCopyWarning: \n",
            "A value is trying to be set on a copy of a slice from a DataFrame.\n",
            "Try using .loc[row_indexer,col_indexer] = value instead\n",
            "\n",
            "See the caveats in the documentation: https://pandas.pydata.org/pandas-docs/stable/user_guide/indexing.html#returning-a-view-versus-a-copy\n",
            "  df2['test_results'] = results_loop\n",
            "/var/folders/h2/6wvcm3lx18dbzjmy88ryn0g80000gn/T/ipykernel_32626/109397253.py:45: SettingWithCopyWarning: \n",
            "A value is trying to be set on a copy of a slice from a DataFrame.\n",
            "Try using .loc[row_indexer,col_indexer] = value instead\n",
            "\n",
            "See the caveats in the documentation: https://pandas.pydata.org/pandas-docs/stable/user_guide/indexing.html#returning-a-view-versus-a-copy\n",
            "  df2['test_error'] = df2.test_results - df2.data_average\n"
          ]
        },
        {
          "name": "stdout",
          "output_type": "stream",
          "text": [
            "     alpha      error\n",
            "37  0.0047  53.572144\n"
          ]
        }
      ],
      "source": [
        "# Solution goes here\n",
        "\n",
        "# Define necessary functions and variables\n",
        "def growth_func(t, pop, system):\n",
        "  if t <= 700:\n",
        "    return system.slope_1\n",
        "  elif t <= 1650:\n",
        "    return system.slope_2\n",
        "  else:\n",
        "     return system.alpha * pop\n",
        "\n",
        "def run_simulation(system, growth_func):\n",
        "    results = TimeSeries()\n",
        "    results[system.t_0] = system.p_0\n",
        "\n",
        "    for t in range(system.t_0, system.t_end):\n",
        "        growth = growth_func(t, results[t], system)\n",
        "        results[t+1] = results[t] + growth\n",
        "\n",
        "    return results\n",
        "\n",
        "slope_1 = -0.0010\n",
        "slope_2 = 0.322\n",
        "\n",
        "system = System(t_0 = 1,\n",
        "                t_end = 1940,\n",
        "                p_0 = 215,\n",
        "                slope_1 = slope_1,\n",
        "                slope_2 = slope_2,\n",
        "                alpha = 0)\n",
        "\n",
        "alpha_test, overall_mean_error = [], []\n",
        "\n",
        "alpha = 0.001\n",
        "\n",
        "# Loop through every value of alpha\n",
        "while alpha <= 0.01:\n",
        "\n",
        "# Run the simulation with these values\n",
        "  system.alpha = alpha\n",
        "  results_loop = run_simulation(system, growth_func)\n",
        "\n",
        "# Evaluate the accuracy of the model by mean error\n",
        "  df2['test_results'] = results_loop\n",
        "  df2['test_error'] = df2.test_results - df2.data_average\n",
        "  increment_error = np.mean(np.absolute(df2.test_error))\n",
        "  df2 = df2.drop(['test_results', 'test_error'], axis = 1)\n",
        "\n",
        "\n",
        "# Store the values\n",
        "  alpha_test.append(alpha)\n",
        "  overall_mean_error.append(increment_error)\n",
        "\n",
        "  alpha = alpha + 0.0001\n",
        "\n",
        "# Enter the values in a data frame\n",
        "loops_df = pd.DataFrame({'alpha': alpha_test,\n",
        "                         'error': overall_mean_error})\n",
        "\n",
        "min_error = loops_df[loops_df['error'] == min(loops_df['error'])]\n",
        "print(min_error)\n"
      ]
    },
    {
      "cell_type": "code",
      "execution_count": 67,
      "id": "2a7f8fc5",
      "metadata": {},
      "outputs": [
        {
          "data": {
            "image/png": "[encoded data removed]",
            "text/plain": [
              "<Figure size 450x300 with 1 Axes>"
            ]
          },
          "metadata": {},
          "output_type": "display_data"
        }
      ],
      "source": [
        "# Run the final model with optimized parameters\n",
        "system.alpha = .0047\n",
        "results_final = run_simulation(system, growth_func)\n",
        "df2['model_results'] = results_final\n",
        "\n",
        "# Plot the model results against the average estimates\n",
        "df2.plot()\n",
        "decorate(xlim=[0, 2000], xlabel='Year',\n",
        "         ylabel='World population (millions)',\n",
        "         title='CE population estimates')"
      ]
    },
    {
      "cell_type": "markdown",
      "id": "5f4d7bc4",
      "metadata": {},
      "source": [
        "My model has the population decrease by .001 million people (1,000 people) per year from 1 CE to 700 CE, then increase by 0.322 million people (322 thousand people) per year until 1650 CE, and then increase by 0.47% per year thereafter. This model looks fairly accurate, although it falls noticeably short in the final few years of the graph."
      ]
    },
    {
      "cell_type": "code",
      "execution_count": 68,
      "id": "b8a571ef",
      "metadata": {},
      "outputs": [
        {
          "name": "stdout",
          "output_type": "stream",
          "text": [
            "      data_average  model_results\n",
            "Year                             \n",
            "1913   1793.000000    1777.083113\n",
            "1920   1900.750000    1836.380006\n",
            "1925   2000.000000    1879.942504\n",
            "1930   2102.333333    1924.538388\n",
            "1940   2311.500000    2016.928956\n"
          ]
        }
      ],
      "source": [
        "# Print the last five rows comparing model results to data average\n",
        "print(df2.tail())"
      ]
    },
    {
      "cell_type": "code",
      "execution_count": 69,
      "id": "36c05018",
      "metadata": {},
      "outputs": [
        {
          "name": "stderr",
          "output_type": "stream",
          "text": [
            "/var/folders/h2/6wvcm3lx18dbzjmy88ryn0g80000gn/T/ipykernel_32626/2260344906.py:15: SettingWithCopyWarning: \n",
            "A value is trying to be set on a copy of a slice from a DataFrame.\n",
            "Try using .loc[row_indexer,col_indexer] = value instead\n",
            "\n",
            "See the caveats in the documentation: https://pandas.pydata.org/pandas-docs/stable/user_guide/indexing.html#returning-a-view-versus-a-copy\n",
            "  df4['model_results'] = results_current\n"
          ]
        },
        {
          "data": {
            "image/png": "[encoded data removed]",
            "text/plain": [
              "<Figure size 450x300 with 1 Axes>"
            ]
          },
          "metadata": {},
          "output_type": "display_data"
        }
      ],
      "source": [
        "# Create the data averages for 1950 to 2016\n",
        "for col in table2.columns:\n",
        "    table2[col] = pd.to_numeric(table2[col], errors='coerce')\n",
        "df3 = pd.DataFrame(table2)\n",
        "df3['data_average'] = df3.mean(axis = 1) / 1e9\n",
        "df4 = df3[['data_average']]\n",
        "\n",
        "# Set the new system parameters\n",
        "system.t_0 = 1940\n",
        "system.t_end = 2016\n",
        "system.p_0 = 2.017\n",
        "results_current = run_simulation(system, growth_func)\n",
        "\n",
        "# Plot the model results against the average estimates\n",
        "df4['model_results'] = results_current\n",
        "df4.plot()\n",
        "decorate(xlim=[1940, 2020], xlabel='Year',\n",
        "         ylabel='World population (millions)',\n",
        "         title='CE population estimates')"
      ]
    },
    {
      "cell_type": "markdown",
      "id": "202a57c2",
      "metadata": {},
      "source": [
        "My model does not do a good job of predicting actual population growth from 1940 to the present. It seems that the rate of population increase changed near the end of the previous data set, and a new \"piece\" of the piecewise function would be necessary to accurately predict the population after 1940."
      ]
    },
    {
      "cell_type": "markdown",
      "id": "ruled-spain",
      "metadata": {
        "id": "ruled-spain"
      },
      "source": [
        "## One Queue Or Two?\n",
        "\n",
        "This case study is related to *queueing theory*, which is the study of systems that involve waiting in lines, also known as \"queues\".\n",
        "\n",
        "Suppose you are designing the checkout area for a new store. There is\n",
        "enough room in the store for two checkout counters and a waiting area\n",
        "for customers. You can make two lines, one for each counter, or one line that feeds both counters.\n",
        "\n",
        "In theory, you might expect a single line to be better, but it has some practical drawbacks: in order to maintain a single line, you might have to install barriers, and customers might be put off by what seems to be a longer line, even if it moves faster.\n",
        "\n",
        "So you'd like to check whether the single line is really better and by\n",
        "how much. Simulation can help answer this question.\n",
        "\n",
        "This figure shows the three scenarios we'll consider:\n",
        "\n",
        "![One queue, one server (left), one queue, two servers (middle), two\n",
        "queues, two servers (right).](https://github.com/AllenDowney/ModSim/raw/main/figs/queue.png)\n",
        "\n",
        "*One queue, one server (left), one queue, two servers (middle), two\n",
        "queues, two servers (right).*\n",
        "\n",
        "As we did in the bike share model, we'll divide time into discrete time steps of one minute.\n",
        "And we'll assume that a customer is equally likely to arrive during any time step.\n",
        "I'll denote this probability using the Greek letter lambda, $\\lambda$, or the variable name `lam`. The value of $\\lambda$ probably varies from day to day, so we'll have to consider a range of possibilities.\n",
        "\n",
        "Based on data from other stores, you know that it takes 5 minutes for a customer to check out, on average. But checkout times are variable: most customers take less than 5 minutes, but some take substantially more. A simple way to model this variability is to assume that when a customer is checking out, they always have the same probability of finishing during the next time step, regardless of how long they have been checking out. I'll denote this probability using the Greek letter mu, $\\mu$, or the variable name `mu`.\n",
        "\n",
        "If we choose $\\mu=1/5$ per minute, the average time for each checkout\n",
        "will be 5 minutes, which is consistent with the data. Most people take less than 5 minutes, but a few take substantially longer, which is probably not a bad model of the distribution in real stores.\n",
        "\n",
        "Now we're ready to implement the model. In the repository for this book, you'll find a notebook called *queue.ipynb* that contains some code to get you started and instructions.\n",
        "You can download it from <https://github.com/AllenDowney/ModSimPy/raw/master/examples/queue.ipynb> or run it on Colab at <https://colab.research.google.com/github/AllenDowney/ModSimPy/blob/master/examples/queue.ipynb>.\n",
        "\n",
        "As always, you should practice incremental development: write no more\n",
        "than one or two lines of code at a time, and test as you go!"
      ]
    },
    {
      "cell_type": "markdown",
      "id": "forward-point",
      "metadata": {
        "id": "forward-point"
      },
      "source": [
        "## Predicting Salmon Populations\n",
        "\n",
        "Each year the U.S. Atlantic Salmon Assessment Committee reports\n",
        "estimates of salmon populations in oceans and rivers in the northeastern United States. The reports are useful for monitoring changes in these populations, but they generally do not include predictions.\n",
        "\n",
        "The goal of this case study is to model year-to-year changes in\n",
        "population, evaluate how predictable these changes are, and estimate the probability that a particular population will increase or decrease in the next 10 years.\n",
        "\n",
        "As an example, I use data from the 2017 report, which provides population estimates for the Narraguagus and Sheepscot Rivers\n",
        "in Maine.\n",
        "\n",
        "In the repository for this book, you'll find a notebook called\n",
        "*salmon.ipynb* that contains this data and some code to get you started.\n",
        "You can download it from <https://github.com/AllenDowney/ModSimPy/raw/master/examples/salmon.ipynb> or run it on Colab at <https://colab.research.google.com/github/AllenDowney/ModSimPy/blob/master/examples/salmon.ipynb>.\n",
        "\n",
        "You should take my instructions as suggestions; if you want to try\n",
        "something different, please do!\n",
        "\n"
      ]
    },
    {
      "cell_type": "markdown",
      "id": "limiting-moore",
      "metadata": {
        "id": "limiting-moore"
      },
      "source": [
        "## Tree Growth\n",
        "\n",
        "This case study is based on \"Height-Age Curves for Planted Stands of\n",
        "Douglas Fir, with Adjustments for Density\", a working paper by\n",
        "Flewelling et al.\n",
        "It provides *site index curves*, which are curves that show the\n",
        "expected height of the tallest tree in a stand of Douglas fir as a\n",
        "function of age, for a stand where the trees are the same age.\n",
        "Depending on the quality of the site, the trees might grow more quickly or slowly. So each curve is identified by a *site index* that indicates the quality of the site.\n",
        "\n",
        "The goal of this case study is to explain the shape of these\n",
        "curves, that is, why trees grow the way they do.\n",
        "The answer I propose involves fractal dimensions, so you might find it interesting.\n",
        "\n",
        "In the repository for this book, you'll find a notebook called\n",
        "*trees.ipynb* that incrementally develops a model of tree growth and uses it to fit the data.\n",
        "You can download it from <https://github.com/AllenDowney/ModSimPy/raw/master/examples/trees.ipynb> or run it on Colab at <https://colab.research.google.com/github/AllenDowney/ModSimPy/blob/master/examples/trees.ipynb>.\n",
        "\n",
        "There are no exercises in this case study, but it is an example of what you can do with the tools we have so far and a preview of what you will be able to do with the tools in the next few chapters."
      ]
    }
  ],
  "metadata": {
    "celltoolbar": "Tags",
    "colab": {
      "provenance": []
    },
    "kernelspec": {
      "display_name": "Python 3 (ipykernel)",
      "language": "python",
      "name": "python3"
    },
    "language_info": {
      "codemirror_mode": {
        "name": "ipython",
        "version": 3
      },
      "file_extension": ".py",
      "mimetype": "text/x-python",
      "name": "python",
      "nbconvert_exporter": "python",
      "pygments_lexer": "ipython3",
      "version": "3.11.1"
    }
  },
  "nbformat": 4,
  "nbformat_minor": 5
}
